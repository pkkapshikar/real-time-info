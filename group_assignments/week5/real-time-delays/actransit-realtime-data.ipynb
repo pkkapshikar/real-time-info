{
 "cells": [
  {
   "cell_type": "code",
   "execution_count": 1,
   "id": "0b65beef-d1b3-4285-b3eb-76899c3d908a",
   "metadata": {},
   "outputs": [],
   "source": [
    "import requests\n",
    "import pandas as pd\n",
    "import json\n",
    "from datetime import datetime\n",
    "from zoneinfo import ZoneInfo"
   ]
  },
  {
   "cell_type": "markdown",
   "id": "ec270f00-84bf-4451-965a-07912cfd2032",
   "metadata": {},
   "source": [
    "## Code"
   ]
  },
  {
   "cell_type": "code",
   "execution_count": 2,
   "id": "89ccf6dd-c223-47dd-9d9e-84c922092932",
   "metadata": {},
   "outputs": [],
   "source": [
    "jackson = \"79bdb7dc-4dec-4e0b-b699-6045af907fd1\"\n",
    "purva = \"0221e9b4-4148-4826-a7e5-691c4b30704e\"\n",
    "hamzah = \"\""
   ]
  },
  {
   "cell_type": "code",
   "execution_count": 3,
   "id": "e0623cc2-cad7-465e-a8e5-b78887493d73",
   "metadata": {},
   "outputs": [],
   "source": [
    "def get_realtime_data(stop_code, api_key):\n",
    "    url = \"https://api.511.org/transit/StopMonitoring?api_key=\" + api_key + \"&agency=AC&stopCode=\" + stop_code\n",
    "    parsed_url_data = json.loads(requests.get(url).content)\n",
    "    return parsed_url_data[\"ServiceDelivery\"][\"StopMonitoringDelivery\"][\"MonitoredStopVisit\"]"
   ]
  },
  {
   "cell_type": "code",
   "execution_count": 8,
   "id": "04a9a6ad-1484-4808-83df-33609391261d",
   "metadata": {},
   "outputs": [],
   "source": [
    "def calculate_delays(bus_line, api_key=purva):\n",
    "    \n",
    "    df = pd.read_csv(\"Line \" + bus_line + \".csv\")\n",
    "    delay_dict = {} \n",
    "    \n",
    "    for stop_code in df[\"stop_code\"]:\n",
    "        bus_list = get_realtime_data(str(stop_code), api_key)\n",
    "        total_delay = 0\n",
    "        num_buses = 0\n",
    "               \n",
    "        for i in range(len(bus_list)):\n",
    "            bus_data = bus_list[i][\"MonitoredVehicleJourney\"]\n",
    "            \n",
    "            if (bus_data[\"LineRef\"] == bus_line):\n",
    "                \n",
    "                aimed_arrival_time = bus_data[\"MonitoredCall\"][\"AimedArrivalTime\"]\n",
    "                expected_arrival_time = bus_data[\"MonitoredCall\"][\"ExpectedArrivalTime\"]\n",
    "                \n",
    "                if (aimed_arrival_time == None or expected_arrival_time == None):\n",
    "                    continue\n",
    "                \n",
    "                aimed = datetime.strptime(aimed_arrival_time, \"%Y-%m-%dT%XZ\")\n",
    "                expected = datetime.strptime(expected_arrival_time, \"%Y-%m-%dT%XZ\")\n",
    "                delay = (expected - aimed)\n",
    "            \n",
    "                if delay.total_seconds() > 0:\n",
    "                    total_delay += delay.total_seconds()\n",
    "                    num_buses += 1\n",
    "                    \n",
    "        if num_buses > 0:            \n",
    "            delay_dict[str(stop_code)] = total_delay / num_buses\n",
    "        \n",
    "    now = datetime.now().astimezone(ZoneInfo('US/Pacific')).strftime(\"%m/%d/%Y %H:%M:%S\")    \n",
    "    delays_df = pd.DataFrame(delay_dict.items(), columns=[\"stop_code\", now]) \n",
    "    delays_df[\"stop_code\"] = delays_df[\"stop_code\"].astype(int)\n",
    "    df = df.merge(delays_df, how=\"left\", on=\"stop_code\")\n",
    "    df.to_csv(\"Line \" + bus_line + \".csv\")\n",
    "    return delay_dict"
   ]
  },
  {
   "cell_type": "markdown",
   "id": "b8ddbe28-a3a9-4700-8d39-259cf151e61b",
   "metadata": {},
   "source": [
    "### Calls"
   ]
  },
  {
   "cell_type": "code",
   "execution_count": 9,
   "id": "0125c841-d2a0-43b0-9d53-37b4f3cd5998",
   "metadata": {},
   "outputs": [],
   "source": [
    "delays_19 = calculate_delays(\"19\", purva)"
   ]
  },
  {
   "cell_type": "code",
   "execution_count": 10,
   "id": "43d730eb-c69c-4035-b2e4-190b86419b3d",
   "metadata": {},
   "outputs": [],
   "source": [
    "delays_20 = calculate_delays(\"20\", jackson)"
   ]
  },
  {
   "cell_type": "code",
   "execution_count": 11,
   "id": "275a1347-373b-4825-bab1-a7bd03503307",
   "metadata": {},
   "outputs": [
    {
     "ename": "JSONDecodeError",
     "evalue": "Expecting value: line 1 column 1 (char 0)",
     "output_type": "error",
     "traceback": [
      "\u001b[0;31m---------------------------------------------------------------------------\u001b[0m",
      "\u001b[0;31mJSONDecodeError\u001b[0m                           Traceback (most recent call last)",
      "Cell \u001b[0;32mIn[11], line 1\u001b[0m\n\u001b[0;32m----> 1\u001b[0m delays_51a \u001b[38;5;241m=\u001b[39m \u001b[43mcalculate_delays\u001b[49m\u001b[43m(\u001b[49m\u001b[38;5;124;43m\"\u001b[39;49m\u001b[38;5;124;43m51A\u001b[39;49m\u001b[38;5;124;43m\"\u001b[39;49m\u001b[43m,\u001b[49m\u001b[43m \u001b[49m\u001b[43mpurva\u001b[49m\u001b[43m)\u001b[49m\n",
      "Cell \u001b[0;32mIn[8], line 7\u001b[0m, in \u001b[0;36mcalculate_delays\u001b[0;34m(bus_line, api_key)\u001b[0m\n\u001b[1;32m      4\u001b[0m delay_dict \u001b[38;5;241m=\u001b[39m {} \n\u001b[1;32m      6\u001b[0m \u001b[38;5;28;01mfor\u001b[39;00m stop_code \u001b[38;5;129;01min\u001b[39;00m df[\u001b[38;5;124m\"\u001b[39m\u001b[38;5;124mstop_code\u001b[39m\u001b[38;5;124m\"\u001b[39m]:\n\u001b[0;32m----> 7\u001b[0m     bus_list \u001b[38;5;241m=\u001b[39m \u001b[43mget_realtime_data\u001b[49m\u001b[43m(\u001b[49m\u001b[38;5;28;43mstr\u001b[39;49m\u001b[43m(\u001b[49m\u001b[43mstop_code\u001b[49m\u001b[43m)\u001b[49m\u001b[43m,\u001b[49m\u001b[43m \u001b[49m\u001b[43mapi_key\u001b[49m\u001b[43m)\u001b[49m\n\u001b[1;32m      8\u001b[0m     total_delay \u001b[38;5;241m=\u001b[39m \u001b[38;5;241m0\u001b[39m\n\u001b[1;32m      9\u001b[0m     num_buses \u001b[38;5;241m=\u001b[39m \u001b[38;5;241m0\u001b[39m\n",
      "Cell \u001b[0;32mIn[3], line 3\u001b[0m, in \u001b[0;36mget_realtime_data\u001b[0;34m(stop_code, api_key)\u001b[0m\n\u001b[1;32m      1\u001b[0m \u001b[38;5;28;01mdef\u001b[39;00m \u001b[38;5;21mget_realtime_data\u001b[39m(stop_code, api_key):\n\u001b[1;32m      2\u001b[0m     url \u001b[38;5;241m=\u001b[39m \u001b[38;5;124m\"\u001b[39m\u001b[38;5;124mhttps://api.511.org/transit/StopMonitoring?api_key=\u001b[39m\u001b[38;5;124m\"\u001b[39m \u001b[38;5;241m+\u001b[39m api_key \u001b[38;5;241m+\u001b[39m \u001b[38;5;124m\"\u001b[39m\u001b[38;5;124m&agency=AC&stopCode=\u001b[39m\u001b[38;5;124m\"\u001b[39m \u001b[38;5;241m+\u001b[39m stop_code\n\u001b[0;32m----> 3\u001b[0m     parsed_url_data \u001b[38;5;241m=\u001b[39m \u001b[43mjson\u001b[49m\u001b[38;5;241;43m.\u001b[39;49m\u001b[43mloads\u001b[49m\u001b[43m(\u001b[49m\u001b[43mrequests\u001b[49m\u001b[38;5;241;43m.\u001b[39;49m\u001b[43mget\u001b[49m\u001b[43m(\u001b[49m\u001b[43murl\u001b[49m\u001b[43m)\u001b[49m\u001b[38;5;241;43m.\u001b[39;49m\u001b[43mcontent\u001b[49m\u001b[43m)\u001b[49m\n\u001b[1;32m      4\u001b[0m     \u001b[38;5;28;01mreturn\u001b[39;00m parsed_url_data[\u001b[38;5;124m\"\u001b[39m\u001b[38;5;124mServiceDelivery\u001b[39m\u001b[38;5;124m\"\u001b[39m][\u001b[38;5;124m\"\u001b[39m\u001b[38;5;124mStopMonitoringDelivery\u001b[39m\u001b[38;5;124m\"\u001b[39m][\u001b[38;5;124m\"\u001b[39m\u001b[38;5;124mMonitoredStopVisit\u001b[39m\u001b[38;5;124m\"\u001b[39m]\n",
      "File \u001b[0;32m/opt/conda/lib/python3.10/json/__init__.py:346\u001b[0m, in \u001b[0;36mloads\u001b[0;34m(s, cls, object_hook, parse_float, parse_int, parse_constant, object_pairs_hook, **kw)\u001b[0m\n\u001b[1;32m    341\u001b[0m     s \u001b[38;5;241m=\u001b[39m s\u001b[38;5;241m.\u001b[39mdecode(detect_encoding(s), \u001b[38;5;124m'\u001b[39m\u001b[38;5;124msurrogatepass\u001b[39m\u001b[38;5;124m'\u001b[39m)\n\u001b[1;32m    343\u001b[0m \u001b[38;5;28;01mif\u001b[39;00m (\u001b[38;5;28mcls\u001b[39m \u001b[38;5;129;01mis\u001b[39;00m \u001b[38;5;28;01mNone\u001b[39;00m \u001b[38;5;129;01mand\u001b[39;00m object_hook \u001b[38;5;129;01mis\u001b[39;00m \u001b[38;5;28;01mNone\u001b[39;00m \u001b[38;5;129;01mand\u001b[39;00m\n\u001b[1;32m    344\u001b[0m         parse_int \u001b[38;5;129;01mis\u001b[39;00m \u001b[38;5;28;01mNone\u001b[39;00m \u001b[38;5;129;01mand\u001b[39;00m parse_float \u001b[38;5;129;01mis\u001b[39;00m \u001b[38;5;28;01mNone\u001b[39;00m \u001b[38;5;129;01mand\u001b[39;00m\n\u001b[1;32m    345\u001b[0m         parse_constant \u001b[38;5;129;01mis\u001b[39;00m \u001b[38;5;28;01mNone\u001b[39;00m \u001b[38;5;129;01mand\u001b[39;00m object_pairs_hook \u001b[38;5;129;01mis\u001b[39;00m \u001b[38;5;28;01mNone\u001b[39;00m \u001b[38;5;129;01mand\u001b[39;00m \u001b[38;5;129;01mnot\u001b[39;00m kw):\n\u001b[0;32m--> 346\u001b[0m     \u001b[38;5;28;01mreturn\u001b[39;00m \u001b[43m_default_decoder\u001b[49m\u001b[38;5;241;43m.\u001b[39;49m\u001b[43mdecode\u001b[49m\u001b[43m(\u001b[49m\u001b[43ms\u001b[49m\u001b[43m)\u001b[49m\n\u001b[1;32m    347\u001b[0m \u001b[38;5;28;01mif\u001b[39;00m \u001b[38;5;28mcls\u001b[39m \u001b[38;5;129;01mis\u001b[39;00m \u001b[38;5;28;01mNone\u001b[39;00m:\n\u001b[1;32m    348\u001b[0m     \u001b[38;5;28mcls\u001b[39m \u001b[38;5;241m=\u001b[39m JSONDecoder\n",
      "File \u001b[0;32m/opt/conda/lib/python3.10/json/decoder.py:337\u001b[0m, in \u001b[0;36mJSONDecoder.decode\u001b[0;34m(self, s, _w)\u001b[0m\n\u001b[1;32m    332\u001b[0m \u001b[38;5;28;01mdef\u001b[39;00m \u001b[38;5;21mdecode\u001b[39m(\u001b[38;5;28mself\u001b[39m, s, _w\u001b[38;5;241m=\u001b[39mWHITESPACE\u001b[38;5;241m.\u001b[39mmatch):\n\u001b[1;32m    333\u001b[0m \u001b[38;5;250m    \u001b[39m\u001b[38;5;124;03m\"\"\"Return the Python representation of ``s`` (a ``str`` instance\u001b[39;00m\n\u001b[1;32m    334\u001b[0m \u001b[38;5;124;03m    containing a JSON document).\u001b[39;00m\n\u001b[1;32m    335\u001b[0m \n\u001b[1;32m    336\u001b[0m \u001b[38;5;124;03m    \"\"\"\u001b[39;00m\n\u001b[0;32m--> 337\u001b[0m     obj, end \u001b[38;5;241m=\u001b[39m \u001b[38;5;28;43mself\u001b[39;49m\u001b[38;5;241;43m.\u001b[39;49m\u001b[43mraw_decode\u001b[49m\u001b[43m(\u001b[49m\u001b[43ms\u001b[49m\u001b[43m,\u001b[49m\u001b[43m \u001b[49m\u001b[43midx\u001b[49m\u001b[38;5;241;43m=\u001b[39;49m\u001b[43m_w\u001b[49m\u001b[43m(\u001b[49m\u001b[43ms\u001b[49m\u001b[43m,\u001b[49m\u001b[43m \u001b[49m\u001b[38;5;241;43m0\u001b[39;49m\u001b[43m)\u001b[49m\u001b[38;5;241;43m.\u001b[39;49m\u001b[43mend\u001b[49m\u001b[43m(\u001b[49m\u001b[43m)\u001b[49m\u001b[43m)\u001b[49m\n\u001b[1;32m    338\u001b[0m     end \u001b[38;5;241m=\u001b[39m _w(s, end)\u001b[38;5;241m.\u001b[39mend()\n\u001b[1;32m    339\u001b[0m     \u001b[38;5;28;01mif\u001b[39;00m end \u001b[38;5;241m!=\u001b[39m \u001b[38;5;28mlen\u001b[39m(s):\n",
      "File \u001b[0;32m/opt/conda/lib/python3.10/json/decoder.py:355\u001b[0m, in \u001b[0;36mJSONDecoder.raw_decode\u001b[0;34m(self, s, idx)\u001b[0m\n\u001b[1;32m    353\u001b[0m     obj, end \u001b[38;5;241m=\u001b[39m \u001b[38;5;28mself\u001b[39m\u001b[38;5;241m.\u001b[39mscan_once(s, idx)\n\u001b[1;32m    354\u001b[0m \u001b[38;5;28;01mexcept\u001b[39;00m \u001b[38;5;167;01mStopIteration\u001b[39;00m \u001b[38;5;28;01mas\u001b[39;00m err:\n\u001b[0;32m--> 355\u001b[0m     \u001b[38;5;28;01mraise\u001b[39;00m JSONDecodeError(\u001b[38;5;124m\"\u001b[39m\u001b[38;5;124mExpecting value\u001b[39m\u001b[38;5;124m\"\u001b[39m, s, err\u001b[38;5;241m.\u001b[39mvalue) \u001b[38;5;28;01mfrom\u001b[39;00m \u001b[38;5;28mNone\u001b[39m\n\u001b[1;32m    356\u001b[0m \u001b[38;5;28;01mreturn\u001b[39;00m obj, end\n",
      "\u001b[0;31mJSONDecodeError\u001b[0m: Expecting value: line 1 column 1 (char 0)"
     ]
    }
   ],
   "source": [
    "delays_51a = calculate_delays(\"51A\", purva)"
   ]
  },
  {
   "cell_type": "code",
   "execution_count": null,
   "id": "5c513964-7770-414c-b008-502054d1cc43",
   "metadata": {},
   "outputs": [],
   "source": []
  }
 ],
 "metadata": {
  "kernelspec": {
   "display_name": "Python 3 (ipykernel)",
   "language": "python",
   "name": "python3"
  },
  "language_info": {
   "codemirror_mode": {
    "name": "ipython",
    "version": 3
   },
   "file_extension": ".py",
   "mimetype": "text/x-python",
   "name": "python",
   "nbconvert_exporter": "python",
   "pygments_lexer": "ipython3",
   "version": "3.10.8"
  }
 },
 "nbformat": 4,
 "nbformat_minor": 5
}
