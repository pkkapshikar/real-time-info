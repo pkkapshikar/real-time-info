{
 "cells": [
  {
   "cell_type": "code",
   "execution_count": 2,
   "id": "b820ccb3-9904-473b-ab0e-aa876eb31b4f",
   "metadata": {},
   "outputs": [],
   "source": [
    "import pandas as pd\n",
    "import geopandas as gpd\n",
    "import matplotlib.pyplot as plt\n",
    "import contextily as ctx\n",
    "import plotly.express as px"
   ]
  },
  {
   "cell_type": "code",
   "execution_count": 3,
   "id": "a2e178e1-18bb-445a-951b-8ce21617cdae",
   "metadata": {},
   "outputs": [],
   "source": [
    "geom_data_20 = pd.read_csv('tracts_20.csv')"
   ]
  },
  {
   "cell_type": "code",
   "execution_count": 4,
   "id": "ebf03846-4714-4c2c-b33e-48cdb1fa05cc",
   "metadata": {},
   "outputs": [],
   "source": [
    "geom_data_51A = pd.read_csv('tracts_51A.csv')"
   ]
  },
  {
   "cell_type": "code",
   "execution_count": 9,
   "id": "b82b1be3-5304-448a-94f2-ded50d9d1c53",
   "metadata": {},
   "outputs": [],
   "source": [
    "geom_data_20 = geom_data_20.rename(columns = {\"GEOID\":\"FIPS\"})\n",
    "geom_data_20 = geom_data_20[[\"FIPS\", \"geometry\"]]\n",
    "geom_data_51A = geom_data_51A.rename(columns = {\"GEOID\":\"FIPS\"})\n",
    "geom_data_51A = geom_data_51A[[\"FIPS\", \"geometry\"]]"
   ]
  },
  {
   "cell_type": "code",
   "execution_count": 10,
   "id": "6b42123b-0935-4d23-b937-9eb541224ead",
   "metadata": {},
   "outputs": [
    {
     "ename": "NameError",
     "evalue": "name 'folium' is not defined",
     "output_type": "error",
     "traceback": [
      "\u001b[0;31m---------------------------------------------------------------------------\u001b[0m",
      "\u001b[0;31mNameError\u001b[0m                                 Traceback (most recent call last)",
      "Cell \u001b[0;32mIn[10], line 2\u001b[0m\n\u001b[1;32m      1\u001b[0m \u001b[38;5;66;03m# edit this cell with new data\u001b[39;00m\n\u001b[0;32m----> 2\u001b[0m m \u001b[38;5;241m=\u001b[39m \u001b[43mfolium\u001b[49m\u001b[38;5;241m.\u001b[39mMap(location\u001b[38;5;241m=\u001b[39m[\u001b[38;5;241m34.2\u001b[39m,\u001b[38;5;241m-\u001b[39m\u001b[38;5;241m118.2\u001b[39m], \n\u001b[1;32m      3\u001b[0m                zoom_start \u001b[38;5;241m=\u001b[39m \u001b[38;5;241m9\u001b[39m,\n\u001b[1;32m      4\u001b[0m                tiles\u001b[38;5;241m=\u001b[39m\u001b[38;5;124m'\u001b[39m\u001b[38;5;124mCartoDB positron\u001b[39m\u001b[38;5;124m'\u001b[39m, \n\u001b[1;32m      5\u001b[0m                attribution\u001b[38;5;241m=\u001b[39m\u001b[38;5;124m'\u001b[39m\u001b[38;5;124mCartoDB\u001b[39m\u001b[38;5;124m'\u001b[39m)\n\u001b[1;32m      7\u001b[0m \u001b[38;5;66;03m# plot chorpleth over the base map\u001b[39;00m\n\u001b[1;32m      8\u001b[0m folium\u001b[38;5;241m.\u001b[39mChoropleth(\n\u001b[1;32m      9\u001b[0m                   geo_data\u001b[38;5;241m=\u001b[39mtracts_race, \u001b[38;5;66;03m# geo data\u001b[39;00m\n\u001b[1;32m     10\u001b[0m                   data\u001b[38;5;241m=\u001b[39mtracts_race, \u001b[38;5;66;03m# data          \u001b[39;00m\n\u001b[0;32m   (...)\u001b[0m\n\u001b[1;32m     16\u001b[0m                   line_opacity\u001b[38;5;241m=\u001b[39m\u001b[38;5;241m0.2\u001b[39m, \u001b[38;5;66;03m# line opacity (of the border)\u001b[39;00m\n\u001b[1;32m     17\u001b[0m                   legend_name\u001b[38;5;241m=\u001b[39m\u001b[38;5;124m'\u001b[39m\u001b[38;5;124mPopulation Black (2020)\u001b[39m\u001b[38;5;124m'\u001b[39m)\u001b[38;5;241m.\u001b[39madd_to(m)    \u001b[38;5;66;03m# name on the legend color bar\u001b[39;00m\n",
      "\u001b[0;31mNameError\u001b[0m: name 'folium' is not defined"
     ]
    }
   ],
   "source": [
    "# edit this cell with new data\n",
    "m = folium.Map(location=[34.2,-118.2], \n",
    "               zoom_start = 9,\n",
    "               tiles='CartoDB positron', \n",
    "               attribution='CartoDB')\n",
    "\n",
    "# plot chorpleth over the base map\n",
    "folium.Choropleth(\n",
    "                  geo_data=tracts_race, # geo data\n",
    "                  data=tracts_race, # data          \n",
    "                  key_on='feature.properties.FIPS', # key, or merge column\n",
    "                  columns=['FIPS', 'PCT_Black'], # [key, value]\n",
    "                  fill_color='BuPu',\n",
    "                  line_weight=0.1, \n",
    "                  fill_opacity=0.8,\n",
    "                  line_opacity=0.2, # line opacity (of the border)\n",
    "                  legend_name='Population Black (2020)').add_to(m)    # name on the legend color bar\n",
    "m"
   ]
  },
  {
   "cell_type": "code",
   "execution_count": null,
   "id": "9deee641-9696-48c6-b9e8-07b1e47a6536",
   "metadata": {},
   "outputs": [],
   "source": []
  }
 ],
 "metadata": {
  "kernelspec": {
   "display_name": "Python 3 (ipykernel)",
   "language": "python",
   "name": "python3"
  },
  "language_info": {
   "codemirror_mode": {
    "name": "ipython",
    "version": 3
   },
   "file_extension": ".py",
   "mimetype": "text/x-python",
   "name": "python",
   "nbconvert_exporter": "python",
   "pygments_lexer": "ipython3",
   "version": "3.10.8"
  }
 },
 "nbformat": 4,
 "nbformat_minor": 5
}
