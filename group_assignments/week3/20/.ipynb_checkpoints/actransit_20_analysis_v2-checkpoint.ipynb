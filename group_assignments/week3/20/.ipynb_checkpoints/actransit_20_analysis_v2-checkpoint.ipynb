{
 "cells": [
  {
   "cell_type": "markdown",
   "id": "5425fecc-b944-4169-a16e-c9ebac986b1c",
   "metadata": {},
   "source": [
    "## Improvements to Profile of Census Tracts Along AC Transit 20\n",
    "Description: AC Transit 20 runs along several census tracts that lie within the cities of Oakland and Alameda, California. This notebook builds upon the initial analysis of the previous assignment by using stacked bar charts to provide a more nuanced view of demographics within a sample of census tracts that the 20 line runs through.  \n",
    "\n",
    "Author: Jackson Zeng"
   ]
  },
  {
   "cell_type": "code",
   "execution_count": 179,
   "id": "4eec92f8-60b9-4f00-b683-e1e845bfbcf1",
   "metadata": {},
   "outputs": [],
   "source": [
    "import pandas as pd\n",
    "import geopandas as gpd\n",
    "import matplotlib.pyplot as plt\n",
    "import contextily as ctx\n",
    "import plotly.express as px"
   ]
  },
  {
   "cell_type": "code",
   "execution_count": 180,
   "id": "7419fe4d-e953-4401-b2fe-6bbb09ea22b7",
   "metadata": {},
   "outputs": [],
   "source": [
    "geom_data = pd.read_csv('tracts_20.csv')"
   ]
  },
  {
   "cell_type": "code",
   "execution_count": 181,
   "id": "d5c957f9-948f-4089-a251-9c1c5e3f2ec0",
   "metadata": {},
   "outputs": [],
   "source": [
    "data = pd.read_csv('AC_Transit_20_General_Demographics_1.csv')"
   ]
  },
  {
   "cell_type": "markdown",
   "id": "3995a5b2-f0ae-48dc-b349-6bf1480eae73",
   "metadata": {},
   "source": [
    "Renamed the \"GEOID\" column in tracts_20.csv to \"FIPS\""
   ]
  },
  {
   "cell_type": "code",
   "execution_count": 182,
   "id": "0d9b3abc-ab2a-4cd9-afe5-918b2aaecb12",
   "metadata": {},
   "outputs": [],
   "source": [
    "geom_data = geom_data.rename(columns = {\"GEOID\":\"FIPS\"})\n",
    "geom_data = geom_data[[\"FIPS\", \"geometry\"]]"
   ]
  },
  {
   "cell_type": "markdown",
   "id": "8a5fe018-583a-4273-9664-862648ea618e",
   "metadata": {},
   "source": [
    "Merged the two tables together using the \"FIPS\" columns"
   ]
  },
  {
   "cell_type": "code",
   "execution_count": 183,
   "id": "09b6916e-eee5-4936-a63c-512b82791c6f",
   "metadata": {},
   "outputs": [
    {
     "data": {
      "text/html": [
       "<div>\n",
       "<style scoped>\n",
       "    .dataframe tbody tr th:only-of-type {\n",
       "        vertical-align: middle;\n",
       "    }\n",
       "\n",
       "    .dataframe tbody tr th {\n",
       "        vertical-align: top;\n",
       "    }\n",
       "\n",
       "    .dataframe thead th {\n",
       "        text-align: right;\n",
       "    }\n",
       "</style>\n",
       "<table border=\"1\" class=\"dataframe\">\n",
       "  <thead>\n",
       "    <tr style=\"text-align: right;\">\n",
       "      <th></th>\n",
       "      <th>FIPS</th>\n",
       "      <th>Qualifying Name</th>\n",
       "      <th>File identification</th>\n",
       "      <th>State Postal Abbreviation</th>\n",
       "      <th>Summary Level</th>\n",
       "      <th>Geographic Component</th>\n",
       "      <th>Logical Record Number</th>\n",
       "      <th>US</th>\n",
       "      <th>Census Region</th>\n",
       "      <th>Census Division</th>\n",
       "      <th>...</th>\n",
       "      <th>Workers 16 Years and Over: Motorcycle</th>\n",
       "      <th>Workers 16 Years and Over: Bicycle</th>\n",
       "      <th>Workers 16 Years and Over: Walked</th>\n",
       "      <th>Workers 16 Years and Over: Other Means</th>\n",
       "      <th>Workers 16 Years and Over: Worked At Home</th>\n",
       "      <th>Renter-Occupied Housing Units</th>\n",
       "      <th>Renter-Occupied Housing Units: 30 to 49 Percent</th>\n",
       "      <th>Renter-Occupied Housing Units: 50 percent or More</th>\n",
       "      <th>Median Gross Rent</th>\n",
       "      <th>geometry</th>\n",
       "    </tr>\n",
       "  </thead>\n",
       "  <tbody>\n",
       "    <tr>\n",
       "      <th>0</th>\n",
       "      <td>6001402600</td>\n",
       "      <td>Census Tract 4026, Alameda County, California</td>\n",
       "      <td>ACSSF</td>\n",
       "      <td>ca</td>\n",
       "      <td>140</td>\n",
       "      <td>0</td>\n",
       "      <td>2839</td>\n",
       "      <td>NaN</td>\n",
       "      <td>NaN</td>\n",
       "      <td>NaN</td>\n",
       "      <td>...</td>\n",
       "      <td>0</td>\n",
       "      <td>5</td>\n",
       "      <td>91</td>\n",
       "      <td>41</td>\n",
       "      <td>66</td>\n",
       "      <td>517</td>\n",
       "      <td>133</td>\n",
       "      <td>116</td>\n",
       "      <td>1061.0</td>\n",
       "      <td>POLYGON ((-13612510.45838046 4551475.078864686...</td>\n",
       "    </tr>\n",
       "    <tr>\n",
       "      <th>1</th>\n",
       "      <td>6001402700</td>\n",
       "      <td>Census Tract 4027, Alameda County, California</td>\n",
       "      <td>ACSSF</td>\n",
       "      <td>ca</td>\n",
       "      <td>140</td>\n",
       "      <td>0</td>\n",
       "      <td>2840</td>\n",
       "      <td>NaN</td>\n",
       "      <td>NaN</td>\n",
       "      <td>NaN</td>\n",
       "      <td>...</td>\n",
       "      <td>0</td>\n",
       "      <td>49</td>\n",
       "      <td>86</td>\n",
       "      <td>6</td>\n",
       "      <td>148</td>\n",
       "      <td>477</td>\n",
       "      <td>71</td>\n",
       "      <td>105</td>\n",
       "      <td>1846.0</td>\n",
       "      <td>POLYGON ((-13612229.26534672 4552468.518270037...</td>\n",
       "    </tr>\n",
       "    <tr>\n",
       "      <th>2</th>\n",
       "      <td>6001402801</td>\n",
       "      <td>Census Tract 4028.01, Alameda County, California</td>\n",
       "      <td>ACSSF</td>\n",
       "      <td>ca</td>\n",
       "      <td>140</td>\n",
       "      <td>0</td>\n",
       "      <td>2841</td>\n",
       "      <td>NaN</td>\n",
       "      <td>NaN</td>\n",
       "      <td>NaN</td>\n",
       "      <td>...</td>\n",
       "      <td>32</td>\n",
       "      <td>52</td>\n",
       "      <td>214</td>\n",
       "      <td>16</td>\n",
       "      <td>433</td>\n",
       "      <td>1497</td>\n",
       "      <td>295</td>\n",
       "      <td>319</td>\n",
       "      <td>1971.0</td>\n",
       "      <td>POLYGON ((-13611476.85690844 4553015.366054876...</td>\n",
       "    </tr>\n",
       "    <tr>\n",
       "      <th>3</th>\n",
       "      <td>6001402802</td>\n",
       "      <td>Census Tract 4028.02, Alameda County, California</td>\n",
       "      <td>ACSSF</td>\n",
       "      <td>ca</td>\n",
       "      <td>140</td>\n",
       "      <td>0</td>\n",
       "      <td>2842</td>\n",
       "      <td>NaN</td>\n",
       "      <td>NaN</td>\n",
       "      <td>NaN</td>\n",
       "      <td>...</td>\n",
       "      <td>15</td>\n",
       "      <td>12</td>\n",
       "      <td>33</td>\n",
       "      <td>14</td>\n",
       "      <td>95</td>\n",
       "      <td>671</td>\n",
       "      <td>195</td>\n",
       "      <td>227</td>\n",
       "      <td>530.0</td>\n",
       "      <td>POLYGON ((-13611662.76045807 4552162.064995428...</td>\n",
       "    </tr>\n",
       "    <tr>\n",
       "      <th>4</th>\n",
       "      <td>6001402900</td>\n",
       "      <td>Census Tract 4029, Alameda County, California</td>\n",
       "      <td>ACSSF</td>\n",
       "      <td>ca</td>\n",
       "      <td>140</td>\n",
       "      <td>0</td>\n",
       "      <td>2843</td>\n",
       "      <td>NaN</td>\n",
       "      <td>NaN</td>\n",
       "      <td>NaN</td>\n",
       "      <td>...</td>\n",
       "      <td>0</td>\n",
       "      <td>19</td>\n",
       "      <td>96</td>\n",
       "      <td>0</td>\n",
       "      <td>142</td>\n",
       "      <td>1025</td>\n",
       "      <td>228</td>\n",
       "      <td>222</td>\n",
       "      <td>1201.0</td>\n",
       "      <td>POLYGON ((-13611160.5982351 4551847.308131741,...</td>\n",
       "    </tr>\n",
       "  </tbody>\n",
       "</table>\n",
       "<p>5 rows × 109 columns</p>\n",
       "</div>"
      ],
      "text/plain": [
       "         FIPS                                   Qualifying Name  \\\n",
       "0  6001402600     Census Tract 4026, Alameda County, California   \n",
       "1  6001402700     Census Tract 4027, Alameda County, California   \n",
       "2  6001402801  Census Tract 4028.01, Alameda County, California   \n",
       "3  6001402802  Census Tract 4028.02, Alameda County, California   \n",
       "4  6001402900     Census Tract 4029, Alameda County, California   \n",
       "\n",
       "  File identification State Postal Abbreviation  Summary Level  \\\n",
       "0               ACSSF                        ca            140   \n",
       "1               ACSSF                        ca            140   \n",
       "2               ACSSF                        ca            140   \n",
       "3               ACSSF                        ca            140   \n",
       "4               ACSSF                        ca            140   \n",
       "\n",
       "   Geographic Component  Logical Record Number  US  Census Region  \\\n",
       "0                     0                   2839 NaN            NaN   \n",
       "1                     0                   2840 NaN            NaN   \n",
       "2                     0                   2841 NaN            NaN   \n",
       "3                     0                   2842 NaN            NaN   \n",
       "4                     0                   2843 NaN            NaN   \n",
       "\n",
       "   Census Division  ...  Workers 16 Years and Over: Motorcycle  \\\n",
       "0              NaN  ...                                      0   \n",
       "1              NaN  ...                                      0   \n",
       "2              NaN  ...                                     32   \n",
       "3              NaN  ...                                     15   \n",
       "4              NaN  ...                                      0   \n",
       "\n",
       "   Workers 16 Years and Over: Bicycle  Workers 16 Years and Over: Walked  \\\n",
       "0                                   5                                 91   \n",
       "1                                  49                                 86   \n",
       "2                                  52                                214   \n",
       "3                                  12                                 33   \n",
       "4                                  19                                 96   \n",
       "\n",
       "   Workers 16 Years and Over: Other Means  \\\n",
       "0                                      41   \n",
       "1                                       6   \n",
       "2                                      16   \n",
       "3                                      14   \n",
       "4                                       0   \n",
       "\n",
       "   Workers 16 Years and Over: Worked At Home  Renter-Occupied Housing Units  \\\n",
       "0                                         66                            517   \n",
       "1                                        148                            477   \n",
       "2                                        433                           1497   \n",
       "3                                         95                            671   \n",
       "4                                        142                           1025   \n",
       "\n",
       "   Renter-Occupied Housing Units: 30 to 49 Percent  \\\n",
       "0                                              133   \n",
       "1                                               71   \n",
       "2                                              295   \n",
       "3                                              195   \n",
       "4                                              228   \n",
       "\n",
       "   Renter-Occupied Housing Units: 50 percent or More  Median Gross Rent  \\\n",
       "0                                                116             1061.0   \n",
       "1                                                105             1846.0   \n",
       "2                                                319             1971.0   \n",
       "3                                                227              530.0   \n",
       "4                                                222             1201.0   \n",
       "\n",
       "                                            geometry  \n",
       "0  POLYGON ((-13612510.45838046 4551475.078864686...  \n",
       "1  POLYGON ((-13612229.26534672 4552468.518270037...  \n",
       "2  POLYGON ((-13611476.85690844 4553015.366054876...  \n",
       "3  POLYGON ((-13611662.76045807 4552162.064995428...  \n",
       "4  POLYGON ((-13611160.5982351 4551847.308131741,...  \n",
       "\n",
       "[5 rows x 109 columns]"
      ]
     },
     "execution_count": 183,
     "metadata": {},
     "output_type": "execute_result"
    }
   ],
   "source": [
    "joined = data.merge(right = geom_data, on='FIPS')\n",
    "joined.head()"
   ]
  },
  {
   "cell_type": "markdown",
   "id": "18c1fa3f-727b-436b-8ba6-a81ef7f54e6d",
   "metadata": {},
   "source": [
    "Added a 0 to the beginnning of the FIPS values as it was omitted when the data was read in"
   ]
  },
  {
   "cell_type": "code",
   "execution_count": 184,
   "id": "3efd4e74-b7cb-4a13-a2bf-1fd5fd4c74a6",
   "metadata": {},
   "outputs": [
    {
     "data": {
      "text/html": [
       "<div>\n",
       "<style scoped>\n",
       "    .dataframe tbody tr th:only-of-type {\n",
       "        vertical-align: middle;\n",
       "    }\n",
       "\n",
       "    .dataframe tbody tr th {\n",
       "        vertical-align: top;\n",
       "    }\n",
       "\n",
       "    .dataframe thead th {\n",
       "        text-align: right;\n",
       "    }\n",
       "</style>\n",
       "<table border=\"1\" class=\"dataframe\">\n",
       "  <thead>\n",
       "    <tr style=\"text-align: right;\">\n",
       "      <th></th>\n",
       "      <th>FIPS</th>\n",
       "      <th>Qualifying Name</th>\n",
       "      <th>File identification</th>\n",
       "      <th>State Postal Abbreviation</th>\n",
       "      <th>Summary Level</th>\n",
       "      <th>Geographic Component</th>\n",
       "      <th>Logical Record Number</th>\n",
       "      <th>US</th>\n",
       "      <th>Census Region</th>\n",
       "      <th>Census Division</th>\n",
       "      <th>...</th>\n",
       "      <th>Workers 16 Years and Over: Motorcycle</th>\n",
       "      <th>Workers 16 Years and Over: Bicycle</th>\n",
       "      <th>Workers 16 Years and Over: Walked</th>\n",
       "      <th>Workers 16 Years and Over: Other Means</th>\n",
       "      <th>Workers 16 Years and Over: Worked At Home</th>\n",
       "      <th>Renter-Occupied Housing Units</th>\n",
       "      <th>Renter-Occupied Housing Units: 30 to 49 Percent</th>\n",
       "      <th>Renter-Occupied Housing Units: 50 percent or More</th>\n",
       "      <th>Median Gross Rent</th>\n",
       "      <th>geometry</th>\n",
       "    </tr>\n",
       "  </thead>\n",
       "  <tbody>\n",
       "    <tr>\n",
       "      <th>0</th>\n",
       "      <td>06001402600</td>\n",
       "      <td>Census Tract 4026, Alameda County, California</td>\n",
       "      <td>ACSSF</td>\n",
       "      <td>ca</td>\n",
       "      <td>140</td>\n",
       "      <td>0</td>\n",
       "      <td>2839</td>\n",
       "      <td>NaN</td>\n",
       "      <td>NaN</td>\n",
       "      <td>NaN</td>\n",
       "      <td>...</td>\n",
       "      <td>0</td>\n",
       "      <td>5</td>\n",
       "      <td>91</td>\n",
       "      <td>41</td>\n",
       "      <td>66</td>\n",
       "      <td>517</td>\n",
       "      <td>133</td>\n",
       "      <td>116</td>\n",
       "      <td>1061.0</td>\n",
       "      <td>POLYGON ((-13612510.45838046 4551475.078864686...</td>\n",
       "    </tr>\n",
       "    <tr>\n",
       "      <th>1</th>\n",
       "      <td>06001402700</td>\n",
       "      <td>Census Tract 4027, Alameda County, California</td>\n",
       "      <td>ACSSF</td>\n",
       "      <td>ca</td>\n",
       "      <td>140</td>\n",
       "      <td>0</td>\n",
       "      <td>2840</td>\n",
       "      <td>NaN</td>\n",
       "      <td>NaN</td>\n",
       "      <td>NaN</td>\n",
       "      <td>...</td>\n",
       "      <td>0</td>\n",
       "      <td>49</td>\n",
       "      <td>86</td>\n",
       "      <td>6</td>\n",
       "      <td>148</td>\n",
       "      <td>477</td>\n",
       "      <td>71</td>\n",
       "      <td>105</td>\n",
       "      <td>1846.0</td>\n",
       "      <td>POLYGON ((-13612229.26534672 4552468.518270037...</td>\n",
       "    </tr>\n",
       "    <tr>\n",
       "      <th>2</th>\n",
       "      <td>06001402801</td>\n",
       "      <td>Census Tract 4028.01, Alameda County, California</td>\n",
       "      <td>ACSSF</td>\n",
       "      <td>ca</td>\n",
       "      <td>140</td>\n",
       "      <td>0</td>\n",
       "      <td>2841</td>\n",
       "      <td>NaN</td>\n",
       "      <td>NaN</td>\n",
       "      <td>NaN</td>\n",
       "      <td>...</td>\n",
       "      <td>32</td>\n",
       "      <td>52</td>\n",
       "      <td>214</td>\n",
       "      <td>16</td>\n",
       "      <td>433</td>\n",
       "      <td>1497</td>\n",
       "      <td>295</td>\n",
       "      <td>319</td>\n",
       "      <td>1971.0</td>\n",
       "      <td>POLYGON ((-13611476.85690844 4553015.366054876...</td>\n",
       "    </tr>\n",
       "    <tr>\n",
       "      <th>3</th>\n",
       "      <td>06001402802</td>\n",
       "      <td>Census Tract 4028.02, Alameda County, California</td>\n",
       "      <td>ACSSF</td>\n",
       "      <td>ca</td>\n",
       "      <td>140</td>\n",
       "      <td>0</td>\n",
       "      <td>2842</td>\n",
       "      <td>NaN</td>\n",
       "      <td>NaN</td>\n",
       "      <td>NaN</td>\n",
       "      <td>...</td>\n",
       "      <td>15</td>\n",
       "      <td>12</td>\n",
       "      <td>33</td>\n",
       "      <td>14</td>\n",
       "      <td>95</td>\n",
       "      <td>671</td>\n",
       "      <td>195</td>\n",
       "      <td>227</td>\n",
       "      <td>530.0</td>\n",
       "      <td>POLYGON ((-13611662.76045807 4552162.064995428...</td>\n",
       "    </tr>\n",
       "    <tr>\n",
       "      <th>4</th>\n",
       "      <td>06001402900</td>\n",
       "      <td>Census Tract 4029, Alameda County, California</td>\n",
       "      <td>ACSSF</td>\n",
       "      <td>ca</td>\n",
       "      <td>140</td>\n",
       "      <td>0</td>\n",
       "      <td>2843</td>\n",
       "      <td>NaN</td>\n",
       "      <td>NaN</td>\n",
       "      <td>NaN</td>\n",
       "      <td>...</td>\n",
       "      <td>0</td>\n",
       "      <td>19</td>\n",
       "      <td>96</td>\n",
       "      <td>0</td>\n",
       "      <td>142</td>\n",
       "      <td>1025</td>\n",
       "      <td>228</td>\n",
       "      <td>222</td>\n",
       "      <td>1201.0</td>\n",
       "      <td>POLYGON ((-13611160.5982351 4551847.308131741,...</td>\n",
       "    </tr>\n",
       "  </tbody>\n",
       "</table>\n",
       "<p>5 rows × 109 columns</p>\n",
       "</div>"
      ],
      "text/plain": [
       "          FIPS                                   Qualifying Name  \\\n",
       "0  06001402600     Census Tract 4026, Alameda County, California   \n",
       "1  06001402700     Census Tract 4027, Alameda County, California   \n",
       "2  06001402801  Census Tract 4028.01, Alameda County, California   \n",
       "3  06001402802  Census Tract 4028.02, Alameda County, California   \n",
       "4  06001402900     Census Tract 4029, Alameda County, California   \n",
       "\n",
       "  File identification State Postal Abbreviation  Summary Level  \\\n",
       "0               ACSSF                        ca            140   \n",
       "1               ACSSF                        ca            140   \n",
       "2               ACSSF                        ca            140   \n",
       "3               ACSSF                        ca            140   \n",
       "4               ACSSF                        ca            140   \n",
       "\n",
       "   Geographic Component  Logical Record Number  US  Census Region  \\\n",
       "0                     0                   2839 NaN            NaN   \n",
       "1                     0                   2840 NaN            NaN   \n",
       "2                     0                   2841 NaN            NaN   \n",
       "3                     0                   2842 NaN            NaN   \n",
       "4                     0                   2843 NaN            NaN   \n",
       "\n",
       "   Census Division  ...  Workers 16 Years and Over: Motorcycle  \\\n",
       "0              NaN  ...                                      0   \n",
       "1              NaN  ...                                      0   \n",
       "2              NaN  ...                                     32   \n",
       "3              NaN  ...                                     15   \n",
       "4              NaN  ...                                      0   \n",
       "\n",
       "   Workers 16 Years and Over: Bicycle  Workers 16 Years and Over: Walked  \\\n",
       "0                                   5                                 91   \n",
       "1                                  49                                 86   \n",
       "2                                  52                                214   \n",
       "3                                  12                                 33   \n",
       "4                                  19                                 96   \n",
       "\n",
       "   Workers 16 Years and Over: Other Means  \\\n",
       "0                                      41   \n",
       "1                                       6   \n",
       "2                                      16   \n",
       "3                                      14   \n",
       "4                                       0   \n",
       "\n",
       "   Workers 16 Years and Over: Worked At Home  Renter-Occupied Housing Units  \\\n",
       "0                                         66                            517   \n",
       "1                                        148                            477   \n",
       "2                                        433                           1497   \n",
       "3                                         95                            671   \n",
       "4                                        142                           1025   \n",
       "\n",
       "   Renter-Occupied Housing Units: 30 to 49 Percent  \\\n",
       "0                                              133   \n",
       "1                                               71   \n",
       "2                                              295   \n",
       "3                                              195   \n",
       "4                                              228   \n",
       "\n",
       "   Renter-Occupied Housing Units: 50 percent or More  Median Gross Rent  \\\n",
       "0                                                116             1061.0   \n",
       "1                                                105             1846.0   \n",
       "2                                                319             1971.0   \n",
       "3                                                227              530.0   \n",
       "4                                                222             1201.0   \n",
       "\n",
       "                                            geometry  \n",
       "0  POLYGON ((-13612510.45838046 4551475.078864686...  \n",
       "1  POLYGON ((-13612229.26534672 4552468.518270037...  \n",
       "2  POLYGON ((-13611476.85690844 4553015.366054876...  \n",
       "3  POLYGON ((-13611662.76045807 4552162.064995428...  \n",
       "4  POLYGON ((-13611160.5982351 4551847.308131741,...  \n",
       "\n",
       "[5 rows x 109 columns]"
      ]
     },
     "execution_count": 184,
     "metadata": {},
     "output_type": "execute_result"
    }
   ],
   "source": [
    "joined['FIPS'] = joined['FIPS'].astype(str)\n",
    "joined['FIPS'] = '0' + joined['FIPS']\n",
    "joined.head()"
   ]
  },
  {
   "cell_type": "markdown",
   "id": "c0a598a6-ed74-4817-844e-c27011fb4625",
   "metadata": {},
   "source": [
    "Removed columns with null values"
   ]
  },
  {
   "cell_type": "code",
   "execution_count": 185,
   "id": "df56ca2b-a993-4c77-b114-d8055b1011db",
   "metadata": {},
   "outputs": [
    {
     "data": {
      "text/plain": [
       "['US',\n",
       " 'Census Region',\n",
       " 'Census Division',\n",
       " 'State (Census Code)',\n",
       " 'County Subdivision (FIPS)',\n",
       " 'Place (FIPS Code)',\n",
       " 'Block Group',\n",
       " 'Consolidated City',\n",
       " 'American Indian Area/AlaskaNative Area/ Hawaiian Home Land(Census)',\n",
       " 'American Indian Area/AlaskaNative Area/ Hawaiian Home Land(FIPS)',\n",
       " 'American Indian Trust Land/Hawaiian Home Land Indicator',\n",
       " 'American Indian TribalSubdivision (Census)',\n",
       " 'American Indian TribalSubdivision (FIPS)',\n",
       " 'Alaska Native RegionalCorporation (FIPS)',\n",
       " 'Metropolitan and MicropolitanStatistical Area',\n",
       " 'Combined Statistical Area',\n",
       " 'Metropolitan Statistical Area-Metropolitan Division',\n",
       " 'Metropolitan Area Central City',\n",
       " 'Metropolitan/MicropolitanIndicator Flag',\n",
       " 'New England City and Town Area',\n",
       " 'New England City and TownCombined Statistical Area',\n",
       " 'New England City and Town AreaDivision',\n",
       " 'Urban Area',\n",
       " 'Urban Area Central Place',\n",
       " 'Current Congressional District ***',\n",
       " 'State Legislative District Upper',\n",
       " 'State Legislative District Lower',\n",
       " 'Voting District',\n",
       " 'ZIP Code Tabulation Area (3-digit)',\n",
       " '5-digit ZIP Code Tabulation Area',\n",
       " 'Subminor Civil Division (FIPS)',\n",
       " 'State-School District (Elementary)',\n",
       " 'State-School District (Secondary)',\n",
       " 'State-School District (Unified)',\n",
       " 'Urban/Rural',\n",
       " 'Principal City Indicator',\n",
       " 'Traffic Analysis Zone',\n",
       " 'Urban Growth Area',\n",
       " 'Public Use Microdata Area – 5%File',\n",
       " 'Public Use Microdata Area - 1% File',\n",
       " 'Tribal Tract',\n",
       " 'Tribal Block Group',\n",
       " 'Place (State FIPS + Place FIPS)']"
      ]
     },
     "execution_count": 185,
     "metadata": {},
     "output_type": "execute_result"
    }
   ],
   "source": [
    "joined.columns[joined.isna().all()].tolist()"
   ]
  },
  {
   "cell_type": "code",
   "execution_count": 186,
   "id": "8527281f-bdde-4768-baf1-dc7e0fcb4106",
   "metadata": {},
   "outputs": [],
   "source": [
    "joined = joined.dropna(axis=1,how=\"all\")"
   ]
  },
  {
   "cell_type": "code",
   "execution_count": 187,
   "id": "e2f2428c-8850-477f-8407-9194fc61993d",
   "metadata": {
    "tags": []
   },
   "outputs": [
    {
     "name": "stdout",
     "output_type": "stream",
     "text": [
      "<class 'pandas.core.frame.DataFrame'>\n",
      "Int64Index: 41 entries, 0 to 40\n",
      "Data columns (total 66 columns):\n",
      " #   Column                                                               Non-Null Count  Dtype  \n",
      "---  ------                                                               --------------  -----  \n",
      " 0   FIPS                                                                 41 non-null     object \n",
      " 1   Qualifying Name                                                      41 non-null     object \n",
      " 2   File identification                                                  41 non-null     object \n",
      " 3   State Postal Abbreviation                                            41 non-null     object \n",
      " 4   Summary Level                                                        41 non-null     int64  \n",
      " 5   Geographic Component                                                 41 non-null     int64  \n",
      " 6   Logical Record Number                                                41 non-null     int64  \n",
      " 7   State (FIPS Code)                                                    41 non-null     int64  \n",
      " 8   County of current residence                                          41 non-null     int64  \n",
      " 9   Census Tract                                                         41 non-null     int64  \n",
      " 10  Geographic Identifier                                                41 non-null     object \n",
      " 11  Area Name                                                            41 non-null     object \n",
      " 12  Total Population:                                                    41 non-null     int64  \n",
      " 13  Total Population: White Alone                                        41 non-null     int64  \n",
      " 14  Total Population: Black or African American Alone                    41 non-null     int64  \n",
      " 15  Total Population: American Indian and Alaska Native Alone            41 non-null     int64  \n",
      " 16  Total Population: Asian Alone                                        41 non-null     int64  \n",
      " 17  Total Population: Native Hawaiian and Other Pacific Islander Alone   41 non-null     int64  \n",
      " 18  Total Population: Some Other Race Alone                              41 non-null     int64  \n",
      " 19  Total Population: Two or More Races                                  41 non-null     int64  \n",
      " 20  Total Population:.1                                                  41 non-null     int64  \n",
      " 21  Total Population: Under 5 Years                                      41 non-null     int64  \n",
      " 22  Total Population: 5 to 9 Years                                       41 non-null     int64  \n",
      " 23  Total Population: 10 to 14 Years                                     41 non-null     int64  \n",
      " 24  Total Population: 15 to 17 Years                                     41 non-null     int64  \n",
      " 25  Total Population: 18 to 24 Years                                     41 non-null     int64  \n",
      " 26  Total Population: 25 to 34 Years                                     41 non-null     int64  \n",
      " 27  Total Population: 35 to 44 Years                                     41 non-null     int64  \n",
      " 28  Total Population: 45 to 54 Years                                     41 non-null     int64  \n",
      " 29  Total Population: 55 to 64 Years                                     41 non-null     int64  \n",
      " 30  Total Population: 65 to 74 Years                                     41 non-null     int64  \n",
      " 31  Total Population: 75 to 84 Years                                     41 non-null     int64  \n",
      " 32  Total Population: 85 Years and Over                                  41 non-null     int64  \n",
      " 33  Households:                                                          41 non-null     int64  \n",
      " 34  Households: Less than $10,000                                        41 non-null     int64  \n",
      " 35  Households: $10,000 to $14,999                                       41 non-null     int64  \n",
      " 36  Households: $15,000 to $19,999                                       41 non-null     int64  \n",
      " 37  Households: $20,000 to $24,999                                       41 non-null     int64  \n",
      " 38  Households: $25,000 to $29,999                                       41 non-null     int64  \n",
      " 39  Households: $30,000 to $34,999                                       41 non-null     int64  \n",
      " 40  Households: $35,000 to $39,999                                       41 non-null     int64  \n",
      " 41  Households: $40,000 to $44,999                                       41 non-null     int64  \n",
      " 42  Households: $45,000 to $49,999                                       41 non-null     int64  \n",
      " 43  Households: $50,000 to $59,999                                       41 non-null     int64  \n",
      " 44  Households: $60,000 to $74,999                                       41 non-null     int64  \n",
      " 45  Households: $75,000 to $99,999                                       41 non-null     int64  \n",
      " 46  Households: $100,000 to $124,999                                     41 non-null     int64  \n",
      " 47  Households: $125,000 to $149,999                                     41 non-null     int64  \n",
      " 48  Households: $150,000 to $199,999                                     41 non-null     int64  \n",
      " 49  Households: $200,000 or More                                         41 non-null     int64  \n",
      " 50  Median Household Income (In 2021 Inflation Adjusted Dollars)         41 non-null     int64  \n",
      " 51  Workers 16 Years and Over:                                           41 non-null     int64  \n",
      " 52  Workers 16 Years and Over: Car, Truck, or Van                        41 non-null     int64  \n",
      " 53  Workers 16 Years and Over: Drove Alone                               41 non-null     int64  \n",
      " 54  Workers 16 Years and Over: Carpooled                                 41 non-null     int64  \n",
      " 55  Workers 16 Years and Over: Public Transportation (Includes Taxicab)  41 non-null     int64  \n",
      " 56  Workers 16 Years and Over: Motorcycle                                41 non-null     int64  \n",
      " 57  Workers 16 Years and Over: Bicycle                                   41 non-null     int64  \n",
      " 58  Workers 16 Years and Over: Walked                                    41 non-null     int64  \n",
      " 59  Workers 16 Years and Over: Other Means                               41 non-null     int64  \n",
      " 60  Workers 16 Years and Over: Worked At Home                            41 non-null     int64  \n",
      " 61  Renter-Occupied Housing Units                                        41 non-null     int64  \n",
      " 62  Renter-Occupied Housing Units: 30 to 49 Percent                      41 non-null     int64  \n",
      " 63  Renter-Occupied Housing Units: 50 percent or More                    41 non-null     int64  \n",
      " 64  Median Gross Rent                                                    40 non-null     float64\n",
      " 65  geometry                                                             41 non-null     object \n",
      "dtypes: float64(1), int64(58), object(7)\n",
      "memory usage: 21.5+ KB\n"
     ]
    }
   ],
   "source": [
    "joined.info()"
   ]
  },
  {
   "cell_type": "markdown",
   "id": "d062da2e-defe-47ef-8fe6-79d038aec5e4",
   "metadata": {},
   "source": [
    "## Population by Race"
   ]
  },
  {
   "cell_type": "markdown",
   "id": "375592e5-9daf-4da8-8ded-409aa4d16e1f",
   "metadata": {},
   "source": [
    "I filtered to only include columns with population counts by race in the following cells."
   ]
  },
  {
   "cell_type": "markdown",
   "id": "bc702b8c-0b68-4b9c-8239-a147ea9a0fa6",
   "metadata": {},
   "source": [
    "minority_pop = joined[['FIPS','Census Tract','Total Population: Black or African American Alone','Total Population: American Indian and Alaska Native Alone','Total Population: Asian Alone','Total Population: Native Hawaiian and Other Pacific Islander Alone','Total Population: Some Other Race Alone','Total Population: Two or More Races']].sort_values('FIPS', ascending = True).head()\n",
    "minority_pop"
   ]
  },
  {
   "cell_type": "markdown",
   "id": "11128e64-f15d-4439-bd35-ea190f4db5d8",
   "metadata": {},
   "source": [
    "Then, I renamed the columns to have shorter names."
   ]
  },
  {
   "cell_type": "code",
   "execution_count": 189,
   "id": "f0c52361-72a3-4398-8f45-11e90e57a077",
   "metadata": {},
   "outputs": [],
   "source": [
    "minority_pop['Census Tract'] = minority_pop['Census Tract'].apply(str)\n",
    "minority_pop = minority_pop.rename(columns={\n",
    "    'Total Population: Black or African American Alone':'Black',\n",
    "    'Total Population: American Indian and Alaska Native Alone':'Native American',\n",
    "    'Total Population: Asian Alone':'Asian',\n",
    "    'Total Population: Native Hawaiian and Other Pacific Islander Alone':'Native Hawaiian/PI',\n",
    "    'Total Population: Some Other Race Alone':'Other',\n",
    "    'Total Population: Two or More Races':'Two or More Races'})"
   ]
  },
  {
   "cell_type": "markdown",
   "id": "a4762919-6bd0-4b50-9d41-5700bce3f457",
   "metadata": {},
   "source": [
    "Then, I reformatted the table to aid in the process of creating a stacked bar chart. In this new dataframe, each population value in the previous dataframe has its own row."
   ]
  },
  {
   "cell_type": "code",
   "execution_count": 192,
   "id": "2ab8eaa5-77f4-4d24-ad88-da55948e6a71",
   "metadata": {},
   "outputs": [
    {
     "data": {
      "text/html": [
       "<div>\n",
       "<style scoped>\n",
       "    .dataframe tbody tr th:only-of-type {\n",
       "        vertical-align: middle;\n",
       "    }\n",
       "\n",
       "    .dataframe tbody tr th {\n",
       "        vertical-align: top;\n",
       "    }\n",
       "\n",
       "    .dataframe thead th {\n",
       "        text-align: right;\n",
       "    }\n",
       "</style>\n",
       "<table border=\"1\" class=\"dataframe\">\n",
       "  <thead>\n",
       "    <tr style=\"text-align: right;\">\n",
       "      <th></th>\n",
       "      <th>Census Tract</th>\n",
       "      <th>FIPS</th>\n",
       "      <th>variable</th>\n",
       "      <th>Population</th>\n",
       "    </tr>\n",
       "  </thead>\n",
       "  <tbody>\n",
       "    <tr>\n",
       "      <th>0</th>\n",
       "      <td>402600</td>\n",
       "      <td>06001402600</td>\n",
       "      <td>Black</td>\n",
       "      <td>437</td>\n",
       "    </tr>\n",
       "    <tr>\n",
       "      <th>1</th>\n",
       "      <td>402700</td>\n",
       "      <td>06001402700</td>\n",
       "      <td>Black</td>\n",
       "      <td>717</td>\n",
       "    </tr>\n",
       "    <tr>\n",
       "      <th>2</th>\n",
       "      <td>402801</td>\n",
       "      <td>06001402801</td>\n",
       "      <td>Black</td>\n",
       "      <td>1230</td>\n",
       "    </tr>\n",
       "    <tr>\n",
       "      <th>3</th>\n",
       "      <td>402802</td>\n",
       "      <td>06001402802</td>\n",
       "      <td>Black</td>\n",
       "      <td>583</td>\n",
       "    </tr>\n",
       "    <tr>\n",
       "      <th>4</th>\n",
       "      <td>402900</td>\n",
       "      <td>06001402900</td>\n",
       "      <td>Black</td>\n",
       "      <td>291</td>\n",
       "    </tr>\n",
       "    <tr>\n",
       "      <th>5</th>\n",
       "      <td>402600</td>\n",
       "      <td>06001402600</td>\n",
       "      <td>Native American</td>\n",
       "      <td>4</td>\n",
       "    </tr>\n",
       "    <tr>\n",
       "      <th>6</th>\n",
       "      <td>402700</td>\n",
       "      <td>06001402700</td>\n",
       "      <td>Native American</td>\n",
       "      <td>0</td>\n",
       "    </tr>\n",
       "    <tr>\n",
       "      <th>7</th>\n",
       "      <td>402801</td>\n",
       "      <td>06001402801</td>\n",
       "      <td>Native American</td>\n",
       "      <td>31</td>\n",
       "    </tr>\n",
       "    <tr>\n",
       "      <th>8</th>\n",
       "      <td>402802</td>\n",
       "      <td>06001402802</td>\n",
       "      <td>Native American</td>\n",
       "      <td>0</td>\n",
       "    </tr>\n",
       "    <tr>\n",
       "      <th>9</th>\n",
       "      <td>402900</td>\n",
       "      <td>06001402900</td>\n",
       "      <td>Native American</td>\n",
       "      <td>3</td>\n",
       "    </tr>\n",
       "    <tr>\n",
       "      <th>10</th>\n",
       "      <td>402600</td>\n",
       "      <td>06001402600</td>\n",
       "      <td>Asian</td>\n",
       "      <td>454</td>\n",
       "    </tr>\n",
       "    <tr>\n",
       "      <th>11</th>\n",
       "      <td>402700</td>\n",
       "      <td>06001402700</td>\n",
       "      <td>Asian</td>\n",
       "      <td>313</td>\n",
       "    </tr>\n",
       "    <tr>\n",
       "      <th>12</th>\n",
       "      <td>402801</td>\n",
       "      <td>06001402801</td>\n",
       "      <td>Asian</td>\n",
       "      <td>582</td>\n",
       "    </tr>\n",
       "    <tr>\n",
       "      <th>13</th>\n",
       "      <td>402802</td>\n",
       "      <td>06001402802</td>\n",
       "      <td>Asian</td>\n",
       "      <td>195</td>\n",
       "    </tr>\n",
       "    <tr>\n",
       "      <th>14</th>\n",
       "      <td>402900</td>\n",
       "      <td>06001402900</td>\n",
       "      <td>Asian</td>\n",
       "      <td>742</td>\n",
       "    </tr>\n",
       "    <tr>\n",
       "      <th>15</th>\n",
       "      <td>402600</td>\n",
       "      <td>06001402600</td>\n",
       "      <td>Native Hawaiian/PI</td>\n",
       "      <td>0</td>\n",
       "    </tr>\n",
       "    <tr>\n",
       "      <th>16</th>\n",
       "      <td>402700</td>\n",
       "      <td>06001402700</td>\n",
       "      <td>Native Hawaiian/PI</td>\n",
       "      <td>0</td>\n",
       "    </tr>\n",
       "    <tr>\n",
       "      <th>17</th>\n",
       "      <td>402801</td>\n",
       "      <td>06001402801</td>\n",
       "      <td>Native Hawaiian/PI</td>\n",
       "      <td>0</td>\n",
       "    </tr>\n",
       "    <tr>\n",
       "      <th>18</th>\n",
       "      <td>402802</td>\n",
       "      <td>06001402802</td>\n",
       "      <td>Native Hawaiian/PI</td>\n",
       "      <td>0</td>\n",
       "    </tr>\n",
       "    <tr>\n",
       "      <th>19</th>\n",
       "      <td>402900</td>\n",
       "      <td>06001402900</td>\n",
       "      <td>Native Hawaiian/PI</td>\n",
       "      <td>0</td>\n",
       "    </tr>\n",
       "    <tr>\n",
       "      <th>20</th>\n",
       "      <td>402600</td>\n",
       "      <td>06001402600</td>\n",
       "      <td>Other</td>\n",
       "      <td>38</td>\n",
       "    </tr>\n",
       "    <tr>\n",
       "      <th>21</th>\n",
       "      <td>402700</td>\n",
       "      <td>06001402700</td>\n",
       "      <td>Other</td>\n",
       "      <td>252</td>\n",
       "    </tr>\n",
       "    <tr>\n",
       "      <th>22</th>\n",
       "      <td>402801</td>\n",
       "      <td>06001402801</td>\n",
       "      <td>Other</td>\n",
       "      <td>67</td>\n",
       "    </tr>\n",
       "    <tr>\n",
       "      <th>23</th>\n",
       "      <td>402802</td>\n",
       "      <td>06001402802</td>\n",
       "      <td>Other</td>\n",
       "      <td>56</td>\n",
       "    </tr>\n",
       "    <tr>\n",
       "      <th>24</th>\n",
       "      <td>402900</td>\n",
       "      <td>06001402900</td>\n",
       "      <td>Other</td>\n",
       "      <td>100</td>\n",
       "    </tr>\n",
       "    <tr>\n",
       "      <th>25</th>\n",
       "      <td>402600</td>\n",
       "      <td>06001402600</td>\n",
       "      <td>Two or More Races</td>\n",
       "      <td>169</td>\n",
       "    </tr>\n",
       "    <tr>\n",
       "      <th>26</th>\n",
       "      <td>402700</td>\n",
       "      <td>06001402700</td>\n",
       "      <td>Two or More Races</td>\n",
       "      <td>90</td>\n",
       "    </tr>\n",
       "    <tr>\n",
       "      <th>27</th>\n",
       "      <td>402801</td>\n",
       "      <td>06001402801</td>\n",
       "      <td>Two or More Races</td>\n",
       "      <td>401</td>\n",
       "    </tr>\n",
       "    <tr>\n",
       "      <th>28</th>\n",
       "      <td>402802</td>\n",
       "      <td>06001402802</td>\n",
       "      <td>Two or More Races</td>\n",
       "      <td>133</td>\n",
       "    </tr>\n",
       "    <tr>\n",
       "      <th>29</th>\n",
       "      <td>402900</td>\n",
       "      <td>06001402900</td>\n",
       "      <td>Two or More Races</td>\n",
       "      <td>76</td>\n",
       "    </tr>\n",
       "  </tbody>\n",
       "</table>\n",
       "</div>"
      ],
      "text/plain": [
       "   Census Tract         FIPS            variable  Population\n",
       "0        402600  06001402600               Black         437\n",
       "1        402700  06001402700               Black         717\n",
       "2        402801  06001402801               Black        1230\n",
       "3        402802  06001402802               Black         583\n",
       "4        402900  06001402900               Black         291\n",
       "5        402600  06001402600     Native American           4\n",
       "6        402700  06001402700     Native American           0\n",
       "7        402801  06001402801     Native American          31\n",
       "8        402802  06001402802     Native American           0\n",
       "9        402900  06001402900     Native American           3\n",
       "10       402600  06001402600               Asian         454\n",
       "11       402700  06001402700               Asian         313\n",
       "12       402801  06001402801               Asian         582\n",
       "13       402802  06001402802               Asian         195\n",
       "14       402900  06001402900               Asian         742\n",
       "15       402600  06001402600  Native Hawaiian/PI           0\n",
       "16       402700  06001402700  Native Hawaiian/PI           0\n",
       "17       402801  06001402801  Native Hawaiian/PI           0\n",
       "18       402802  06001402802  Native Hawaiian/PI           0\n",
       "19       402900  06001402900  Native Hawaiian/PI           0\n",
       "20       402600  06001402600               Other          38\n",
       "21       402700  06001402700               Other         252\n",
       "22       402801  06001402801               Other          67\n",
       "23       402802  06001402802               Other          56\n",
       "24       402900  06001402900               Other         100\n",
       "25       402600  06001402600   Two or More Races         169\n",
       "26       402700  06001402700   Two or More Races          90\n",
       "27       402801  06001402801   Two or More Races         401\n",
       "28       402802  06001402802   Two or More Races         133\n",
       "29       402900  06001402900   Two or More Races          76"
      ]
     },
     "execution_count": 192,
     "metadata": {},
     "output_type": "execute_result"
    }
   ],
   "source": [
    "minority_pop_2 = minority_pop.melt(id_vars=[\"Census Tract\", \"FIPS\"], value_name = \"Population\")\n",
    "minority_pop_2"
   ]
  },
  {
   "cell_type": "markdown",
   "id": "5c211d8b-3bdc-4a5f-8997-6b316116f8bb",
   "metadata": {},
   "source": [
    "Then, I created a stacked bar chart with this dataframe."
   ]
  },
  {
   "cell_type": "code",
   "execution_count": 194,
   "id": "d7d16979-1e45-46ab-a615-fa6893ad722a",
   "metadata": {},
   "outputs": [
    {
     "data": {
      "application/vnd.plotly.v1+json": {
       "config": {
        "plotlyServerURL": "https://plot.ly"
       },
       "data": [
        {
         "alignmentgroup": "True",
         "hovertemplate": "Race=Black<br>Census Tract=%{x}<br>Population=%{y}<extra></extra>",
         "legendgroup": "Black",
         "marker": {
          "color": "#636efa",
          "pattern": {
           "shape": ""
          }
         },
         "name": "Black",
         "offsetgroup": "Black",
         "orientation": "v",
         "showlegend": true,
         "textposition": "auto",
         "type": "bar",
         "x": [
          "402600",
          "402700",
          "402801",
          "402802",
          "402900"
         ],
         "xaxis": "x",
         "y": [
          437,
          717,
          1230,
          583,
          291
         ],
         "yaxis": "y"
        },
        {
         "alignmentgroup": "True",
         "hovertemplate": "Race=Native American<br>Census Tract=%{x}<br>Population=%{y}<extra></extra>",
         "legendgroup": "Native American",
         "marker": {
          "color": "#EF553B",
          "pattern": {
           "shape": ""
          }
         },
         "name": "Native American",
         "offsetgroup": "Native American",
         "orientation": "v",
         "showlegend": true,
         "textposition": "auto",
         "type": "bar",
         "x": [
          "402600",
          "402700",
          "402801",
          "402802",
          "402900"
         ],
         "xaxis": "x",
         "y": [
          4,
          0,
          31,
          0,
          3
         ],
         "yaxis": "y"
        },
        {
         "alignmentgroup": "True",
         "hovertemplate": "Race=Asian<br>Census Tract=%{x}<br>Population=%{y}<extra></extra>",
         "legendgroup": "Asian",
         "marker": {
          "color": "#00cc96",
          "pattern": {
           "shape": ""
          }
         },
         "name": "Asian",
         "offsetgroup": "Asian",
         "orientation": "v",
         "showlegend": true,
         "textposition": "auto",
         "type": "bar",
         "x": [
          "402600",
          "402700",
          "402801",
          "402802",
          "402900"
         ],
         "xaxis": "x",
         "y": [
          454,
          313,
          582,
          195,
          742
         ],
         "yaxis": "y"
        },
        {
         "alignmentgroup": "True",
         "hovertemplate": "Race=Native Hawaiian/PI<br>Census Tract=%{x}<br>Population=%{y}<extra></extra>",
         "legendgroup": "Native Hawaiian/PI",
         "marker": {
          "color": "#ab63fa",
          "pattern": {
           "shape": ""
          }
         },
         "name": "Native Hawaiian/PI",
         "offsetgroup": "Native Hawaiian/PI",
         "orientation": "v",
         "showlegend": true,
         "textposition": "auto",
         "type": "bar",
         "x": [
          "402600",
          "402700",
          "402801",
          "402802",
          "402900"
         ],
         "xaxis": "x",
         "y": [
          0,
          0,
          0,
          0,
          0
         ],
         "yaxis": "y"
        },
        {
         "alignmentgroup": "True",
         "hovertemplate": "Race=Other<br>Census Tract=%{x}<br>Population=%{y}<extra></extra>",
         "legendgroup": "Other",
         "marker": {
          "color": "#FFA15A",
          "pattern": {
           "shape": ""
          }
         },
         "name": "Other",
         "offsetgroup": "Other",
         "orientation": "v",
         "showlegend": true,
         "textposition": "auto",
         "type": "bar",
         "x": [
          "402600",
          "402700",
          "402801",
          "402802",
          "402900"
         ],
         "xaxis": "x",
         "y": [
          38,
          252,
          67,
          56,
          100
         ],
         "yaxis": "y"
        },
        {
         "alignmentgroup": "True",
         "hovertemplate": "Race=Two or More Races<br>Census Tract=%{x}<br>Population=%{y}<extra></extra>",
         "legendgroup": "Two or More Races",
         "marker": {
          "color": "#19d3f3",
          "pattern": {
           "shape": ""
          }
         },
         "name": "Two or More Races",
         "offsetgroup": "Two or More Races",
         "orientation": "v",
         "showlegend": true,
         "textposition": "auto",
         "type": "bar",
         "x": [
          "402600",
          "402700",
          "402801",
          "402802",
          "402900"
         ],
         "xaxis": "x",
         "y": [
          169,
          90,
          401,
          133,
          76
         ],
         "yaxis": "y"
        }
       ],
       "layout": {
        "autosize": true,
        "barmode": "relative",
        "legend": {
         "title": {
          "text": "Race"
         },
         "tracegroupgap": 0
        },
        "template": {
         "data": {
          "bar": [
           {
            "error_x": {
             "color": "#2a3f5f"
            },
            "error_y": {
             "color": "#2a3f5f"
            },
            "marker": {
             "line": {
              "color": "#E5ECF6",
              "width": 0.5
             },
             "pattern": {
              "fillmode": "overlay",
              "size": 10,
              "solidity": 0.2
             }
            },
            "type": "bar"
           }
          ],
          "barpolar": [
           {
            "marker": {
             "line": {
              "color": "#E5ECF6",
              "width": 0.5
             },
             "pattern": {
              "fillmode": "overlay",
              "size": 10,
              "solidity": 0.2
             }
            },
            "type": "barpolar"
           }
          ],
          "carpet": [
           {
            "aaxis": {
             "endlinecolor": "#2a3f5f",
             "gridcolor": "white",
             "linecolor": "white",
             "minorgridcolor": "white",
             "startlinecolor": "#2a3f5f"
            },
            "baxis": {
             "endlinecolor": "#2a3f5f",
             "gridcolor": "white",
             "linecolor": "white",
             "minorgridcolor": "white",
             "startlinecolor": "#2a3f5f"
            },
            "type": "carpet"
           }
          ],
          "choropleth": [
           {
            "colorbar": {
             "outlinewidth": 0,
             "ticks": ""
            },
            "type": "choropleth"
           }
          ],
          "contour": [
           {
            "colorbar": {
             "outlinewidth": 0,
             "ticks": ""
            },
            "colorscale": [
             [
              0,
              "#0d0887"
             ],
             [
              0.1111111111111111,
              "#46039f"
             ],
             [
              0.2222222222222222,
              "#7201a8"
             ],
             [
              0.3333333333333333,
              "#9c179e"
             ],
             [
              0.4444444444444444,
              "#bd3786"
             ],
             [
              0.5555555555555556,
              "#d8576b"
             ],
             [
              0.6666666666666666,
              "#ed7953"
             ],
             [
              0.7777777777777778,
              "#fb9f3a"
             ],
             [
              0.8888888888888888,
              "#fdca26"
             ],
             [
              1,
              "#f0f921"
             ]
            ],
            "type": "contour"
           }
          ],
          "contourcarpet": [
           {
            "colorbar": {
             "outlinewidth": 0,
             "ticks": ""
            },
            "type": "contourcarpet"
           }
          ],
          "heatmap": [
           {
            "colorbar": {
             "outlinewidth": 0,
             "ticks": ""
            },
            "colorscale": [
             [
              0,
              "#0d0887"
             ],
             [
              0.1111111111111111,
              "#46039f"
             ],
             [
              0.2222222222222222,
              "#7201a8"
             ],
             [
              0.3333333333333333,
              "#9c179e"
             ],
             [
              0.4444444444444444,
              "#bd3786"
             ],
             [
              0.5555555555555556,
              "#d8576b"
             ],
             [
              0.6666666666666666,
              "#ed7953"
             ],
             [
              0.7777777777777778,
              "#fb9f3a"
             ],
             [
              0.8888888888888888,
              "#fdca26"
             ],
             [
              1,
              "#f0f921"
             ]
            ],
            "type": "heatmap"
           }
          ],
          "heatmapgl": [
           {
            "colorbar": {
             "outlinewidth": 0,
             "ticks": ""
            },
            "colorscale": [
             [
              0,
              "#0d0887"
             ],
             [
              0.1111111111111111,
              "#46039f"
             ],
             [
              0.2222222222222222,
              "#7201a8"
             ],
             [
              0.3333333333333333,
              "#9c179e"
             ],
             [
              0.4444444444444444,
              "#bd3786"
             ],
             [
              0.5555555555555556,
              "#d8576b"
             ],
             [
              0.6666666666666666,
              "#ed7953"
             ],
             [
              0.7777777777777778,
              "#fb9f3a"
             ],
             [
              0.8888888888888888,
              "#fdca26"
             ],
             [
              1,
              "#f0f921"
             ]
            ],
            "type": "heatmapgl"
           }
          ],
          "histogram": [
           {
            "marker": {
             "pattern": {
              "fillmode": "overlay",
              "size": 10,
              "solidity": 0.2
             }
            },
            "type": "histogram"
           }
          ],
          "histogram2d": [
           {
            "colorbar": {
             "outlinewidth": 0,
             "ticks": ""
            },
            "colorscale": [
             [
              0,
              "#0d0887"
             ],
             [
              0.1111111111111111,
              "#46039f"
             ],
             [
              0.2222222222222222,
              "#7201a8"
             ],
             [
              0.3333333333333333,
              "#9c179e"
             ],
             [
              0.4444444444444444,
              "#bd3786"
             ],
             [
              0.5555555555555556,
              "#d8576b"
             ],
             [
              0.6666666666666666,
              "#ed7953"
             ],
             [
              0.7777777777777778,
              "#fb9f3a"
             ],
             [
              0.8888888888888888,
              "#fdca26"
             ],
             [
              1,
              "#f0f921"
             ]
            ],
            "type": "histogram2d"
           }
          ],
          "histogram2dcontour": [
           {
            "colorbar": {
             "outlinewidth": 0,
             "ticks": ""
            },
            "colorscale": [
             [
              0,
              "#0d0887"
             ],
             [
              0.1111111111111111,
              "#46039f"
             ],
             [
              0.2222222222222222,
              "#7201a8"
             ],
             [
              0.3333333333333333,
              "#9c179e"
             ],
             [
              0.4444444444444444,
              "#bd3786"
             ],
             [
              0.5555555555555556,
              "#d8576b"
             ],
             [
              0.6666666666666666,
              "#ed7953"
             ],
             [
              0.7777777777777778,
              "#fb9f3a"
             ],
             [
              0.8888888888888888,
              "#fdca26"
             ],
             [
              1,
              "#f0f921"
             ]
            ],
            "type": "histogram2dcontour"
           }
          ],
          "mesh3d": [
           {
            "colorbar": {
             "outlinewidth": 0,
             "ticks": ""
            },
            "type": "mesh3d"
           }
          ],
          "parcoords": [
           {
            "line": {
             "colorbar": {
              "outlinewidth": 0,
              "ticks": ""
             }
            },
            "type": "parcoords"
           }
          ],
          "pie": [
           {
            "automargin": true,
            "type": "pie"
           }
          ],
          "scatter": [
           {
            "fillpattern": {
             "fillmode": "overlay",
             "size": 10,
             "solidity": 0.2
            },
            "type": "scatter"
           }
          ],
          "scatter3d": [
           {
            "line": {
             "colorbar": {
              "outlinewidth": 0,
              "ticks": ""
             }
            },
            "marker": {
             "colorbar": {
              "outlinewidth": 0,
              "ticks": ""
             }
            },
            "type": "scatter3d"
           }
          ],
          "scattercarpet": [
           {
            "marker": {
             "colorbar": {
              "outlinewidth": 0,
              "ticks": ""
             }
            },
            "type": "scattercarpet"
           }
          ],
          "scattergeo": [
           {
            "marker": {
             "colorbar": {
              "outlinewidth": 0,
              "ticks": ""
             }
            },
            "type": "scattergeo"
           }
          ],
          "scattergl": [
           {
            "marker": {
             "colorbar": {
              "outlinewidth": 0,
              "ticks": ""
             }
            },
            "type": "scattergl"
           }
          ],
          "scattermapbox": [
           {
            "marker": {
             "colorbar": {
              "outlinewidth": 0,
              "ticks": ""
             }
            },
            "type": "scattermapbox"
           }
          ],
          "scatterpolar": [
           {
            "marker": {
             "colorbar": {
              "outlinewidth": 0,
              "ticks": ""
             }
            },
            "type": "scatterpolar"
           }
          ],
          "scatterpolargl": [
           {
            "marker": {
             "colorbar": {
              "outlinewidth": 0,
              "ticks": ""
             }
            },
            "type": "scatterpolargl"
           }
          ],
          "scatterternary": [
           {
            "marker": {
             "colorbar": {
              "outlinewidth": 0,
              "ticks": ""
             }
            },
            "type": "scatterternary"
           }
          ],
          "surface": [
           {
            "colorbar": {
             "outlinewidth": 0,
             "ticks": ""
            },
            "colorscale": [
             [
              0,
              "#0d0887"
             ],
             [
              0.1111111111111111,
              "#46039f"
             ],
             [
              0.2222222222222222,
              "#7201a8"
             ],
             [
              0.3333333333333333,
              "#9c179e"
             ],
             [
              0.4444444444444444,
              "#bd3786"
             ],
             [
              0.5555555555555556,
              "#d8576b"
             ],
             [
              0.6666666666666666,
              "#ed7953"
             ],
             [
              0.7777777777777778,
              "#fb9f3a"
             ],
             [
              0.8888888888888888,
              "#fdca26"
             ],
             [
              1,
              "#f0f921"
             ]
            ],
            "type": "surface"
           }
          ],
          "table": [
           {
            "cells": {
             "fill": {
              "color": "#EBF0F8"
             },
             "line": {
              "color": "white"
             }
            },
            "header": {
             "fill": {
              "color": "#C8D4E3"
             },
             "line": {
              "color": "white"
             }
            },
            "type": "table"
           }
          ]
         },
         "layout": {
          "annotationdefaults": {
           "arrowcolor": "#2a3f5f",
           "arrowhead": 0,
           "arrowwidth": 1
          },
          "autotypenumbers": "strict",
          "coloraxis": {
           "colorbar": {
            "outlinewidth": 0,
            "ticks": ""
           }
          },
          "colorscale": {
           "diverging": [
            [
             0,
             "#8e0152"
            ],
            [
             0.1,
             "#c51b7d"
            ],
            [
             0.2,
             "#de77ae"
            ],
            [
             0.3,
             "#f1b6da"
            ],
            [
             0.4,
             "#fde0ef"
            ],
            [
             0.5,
             "#f7f7f7"
            ],
            [
             0.6,
             "#e6f5d0"
            ],
            [
             0.7,
             "#b8e186"
            ],
            [
             0.8,
             "#7fbc41"
            ],
            [
             0.9,
             "#4d9221"
            ],
            [
             1,
             "#276419"
            ]
           ],
           "sequential": [
            [
             0,
             "#0d0887"
            ],
            [
             0.1111111111111111,
             "#46039f"
            ],
            [
             0.2222222222222222,
             "#7201a8"
            ],
            [
             0.3333333333333333,
             "#9c179e"
            ],
            [
             0.4444444444444444,
             "#bd3786"
            ],
            [
             0.5555555555555556,
             "#d8576b"
            ],
            [
             0.6666666666666666,
             "#ed7953"
            ],
            [
             0.7777777777777778,
             "#fb9f3a"
            ],
            [
             0.8888888888888888,
             "#fdca26"
            ],
            [
             1,
             "#f0f921"
            ]
           ],
           "sequentialminus": [
            [
             0,
             "#0d0887"
            ],
            [
             0.1111111111111111,
             "#46039f"
            ],
            [
             0.2222222222222222,
             "#7201a8"
            ],
            [
             0.3333333333333333,
             "#9c179e"
            ],
            [
             0.4444444444444444,
             "#bd3786"
            ],
            [
             0.5555555555555556,
             "#d8576b"
            ],
            [
             0.6666666666666666,
             "#ed7953"
            ],
            [
             0.7777777777777778,
             "#fb9f3a"
            ],
            [
             0.8888888888888888,
             "#fdca26"
            ],
            [
             1,
             "#f0f921"
            ]
           ]
          },
          "colorway": [
           "#636efa",
           "#EF553B",
           "#00cc96",
           "#ab63fa",
           "#FFA15A",
           "#19d3f3",
           "#FF6692",
           "#B6E880",
           "#FF97FF",
           "#FECB52"
          ],
          "font": {
           "color": "#2a3f5f"
          },
          "geo": {
           "bgcolor": "white",
           "lakecolor": "white",
           "landcolor": "#E5ECF6",
           "showlakes": true,
           "showland": true,
           "subunitcolor": "white"
          },
          "hoverlabel": {
           "align": "left"
          },
          "hovermode": "closest",
          "mapbox": {
           "style": "light"
          },
          "paper_bgcolor": "white",
          "plot_bgcolor": "#E5ECF6",
          "polar": {
           "angularaxis": {
            "gridcolor": "white",
            "linecolor": "white",
            "ticks": ""
           },
           "bgcolor": "#E5ECF6",
           "radialaxis": {
            "gridcolor": "white",
            "linecolor": "white",
            "ticks": ""
           }
          },
          "scene": {
           "xaxis": {
            "backgroundcolor": "#E5ECF6",
            "gridcolor": "white",
            "gridwidth": 2,
            "linecolor": "white",
            "showbackground": true,
            "ticks": "",
            "zerolinecolor": "white"
           },
           "yaxis": {
            "backgroundcolor": "#E5ECF6",
            "gridcolor": "white",
            "gridwidth": 2,
            "linecolor": "white",
            "showbackground": true,
            "ticks": "",
            "zerolinecolor": "white"
           },
           "zaxis": {
            "backgroundcolor": "#E5ECF6",
            "gridcolor": "white",
            "gridwidth": 2,
            "linecolor": "white",
            "showbackground": true,
            "ticks": "",
            "zerolinecolor": "white"
           }
          },
          "shapedefaults": {
           "line": {
            "color": "#2a3f5f"
           }
          },
          "ternary": {
           "aaxis": {
            "gridcolor": "white",
            "linecolor": "white",
            "ticks": ""
           },
           "baxis": {
            "gridcolor": "white",
            "linecolor": "white",
            "ticks": ""
           },
           "bgcolor": "#E5ECF6",
           "caxis": {
            "gridcolor": "white",
            "linecolor": "white",
            "ticks": ""
           }
          },
          "title": {
           "x": 0.05
          },
          "xaxis": {
           "automargin": true,
           "gridcolor": "white",
           "linecolor": "white",
           "ticks": "",
           "title": {
            "standoff": 15
           },
           "zerolinecolor": "white",
           "zerolinewidth": 2
          },
          "yaxis": {
           "automargin": true,
           "gridcolor": "white",
           "linecolor": "white",
           "ticks": "",
           "title": {
            "standoff": 15
           },
           "zerolinecolor": "white",
           "zerolinewidth": 2
          }
         }
        },
        "title": {
         "text": "Population by Race for 5 Sample Census Tracts"
        },
        "xaxis": {
         "anchor": "y",
         "autorange": true,
         "domain": [
          0,
          1
         ],
         "range": [
          -0.5,
          4.5
         ],
         "title": {
          "text": "Census Tract"
         },
         "type": "category"
        },
        "yaxis": {
         "anchor": "x",
         "autorange": true,
         "domain": [
          0,
          1
         ],
         "range": [
          0,
          2432.6315789473683
         ],
         "title": {
          "text": "Population"
         },
         "type": "linear"
        }
       }
      },
      "image/png": "[encoded data removed]",
      "text/html": [
       "<div>                            <div id=\"0783d4ac-1aaa-485d-86ea-a4ad6851cdf5\" class=\"plotly-graph-div\" style=\"height:525px; width:100%;\"></div>            <script type=\"text/javascript\">                require([\"plotly\"], function(Plotly) {                    window.PLOTLYENV=window.PLOTLYENV || {};                                    if (document.getElementById(\"0783d4ac-1aaa-485d-86ea-a4ad6851cdf5\")) {                    Plotly.newPlot(                        \"0783d4ac-1aaa-485d-86ea-a4ad6851cdf5\",                        [{\"alignmentgroup\":\"True\",\"hovertemplate\":\"Race=Black<br>Census Tract=%{x}<br>Population=%{y}<extra></extra>\",\"legendgroup\":\"Black\",\"marker\":{\"color\":\"#636efa\",\"pattern\":{\"shape\":\"\"}},\"name\":\"Black\",\"offsetgroup\":\"Black\",\"orientation\":\"v\",\"showlegend\":true,\"textposition\":\"auto\",\"x\":[\"402600\",\"402700\",\"402801\",\"402802\",\"402900\"],\"xaxis\":\"x\",\"y\":[437,717,1230,583,291],\"yaxis\":\"y\",\"type\":\"bar\"},{\"alignmentgroup\":\"True\",\"hovertemplate\":\"Race=Native American<br>Census Tract=%{x}<br>Population=%{y}<extra></extra>\",\"legendgroup\":\"Native American\",\"marker\":{\"color\":\"#EF553B\",\"pattern\":{\"shape\":\"\"}},\"name\":\"Native American\",\"offsetgroup\":\"Native American\",\"orientation\":\"v\",\"showlegend\":true,\"textposition\":\"auto\",\"x\":[\"402600\",\"402700\",\"402801\",\"402802\",\"402900\"],\"xaxis\":\"x\",\"y\":[4,0,31,0,3],\"yaxis\":\"y\",\"type\":\"bar\"},{\"alignmentgroup\":\"True\",\"hovertemplate\":\"Race=Asian<br>Census Tract=%{x}<br>Population=%{y}<extra></extra>\",\"legendgroup\":\"Asian\",\"marker\":{\"color\":\"#00cc96\",\"pattern\":{\"shape\":\"\"}},\"name\":\"Asian\",\"offsetgroup\":\"Asian\",\"orientation\":\"v\",\"showlegend\":true,\"textposition\":\"auto\",\"x\":[\"402600\",\"402700\",\"402801\",\"402802\",\"402900\"],\"xaxis\":\"x\",\"y\":[454,313,582,195,742],\"yaxis\":\"y\",\"type\":\"bar\"},{\"alignmentgroup\":\"True\",\"hovertemplate\":\"Race=Native Hawaiian/PI<br>Census Tract=%{x}<br>Population=%{y}<extra></extra>\",\"legendgroup\":\"Native Hawaiian/PI\",\"marker\":{\"color\":\"#ab63fa\",\"pattern\":{\"shape\":\"\"}},\"name\":\"Native Hawaiian/PI\",\"offsetgroup\":\"Native Hawaiian/PI\",\"orientation\":\"v\",\"showlegend\":true,\"textposition\":\"auto\",\"x\":[\"402600\",\"402700\",\"402801\",\"402802\",\"402900\"],\"xaxis\":\"x\",\"y\":[0,0,0,0,0],\"yaxis\":\"y\",\"type\":\"bar\"},{\"alignmentgroup\":\"True\",\"hovertemplate\":\"Race=Other<br>Census Tract=%{x}<br>Population=%{y}<extra></extra>\",\"legendgroup\":\"Other\",\"marker\":{\"color\":\"#FFA15A\",\"pattern\":{\"shape\":\"\"}},\"name\":\"Other\",\"offsetgroup\":\"Other\",\"orientation\":\"v\",\"showlegend\":true,\"textposition\":\"auto\",\"x\":[\"402600\",\"402700\",\"402801\",\"402802\",\"402900\"],\"xaxis\":\"x\",\"y\":[38,252,67,56,100],\"yaxis\":\"y\",\"type\":\"bar\"},{\"alignmentgroup\":\"True\",\"hovertemplate\":\"Race=Two or More Races<br>Census Tract=%{x}<br>Population=%{y}<extra></extra>\",\"legendgroup\":\"Two or More Races\",\"marker\":{\"color\":\"#19d3f3\",\"pattern\":{\"shape\":\"\"}},\"name\":\"Two or More Races\",\"offsetgroup\":\"Two or More Races\",\"orientation\":\"v\",\"showlegend\":true,\"textposition\":\"auto\",\"x\":[\"402600\",\"402700\",\"402801\",\"402802\",\"402900\"],\"xaxis\":\"x\",\"y\":[169,90,401,133,76],\"yaxis\":\"y\",\"type\":\"bar\"}],                        {\"template\":{\"data\":{\"histogram2dcontour\":[{\"type\":\"histogram2dcontour\",\"colorbar\":{\"outlinewidth\":0,\"ticks\":\"\"},\"colorscale\":[[0.0,\"#0d0887\"],[0.1111111111111111,\"#46039f\"],[0.2222222222222222,\"#7201a8\"],[0.3333333333333333,\"#9c179e\"],[0.4444444444444444,\"#bd3786\"],[0.5555555555555556,\"#d8576b\"],[0.6666666666666666,\"#ed7953\"],[0.7777777777777778,\"#fb9f3a\"],[0.8888888888888888,\"#fdca26\"],[1.0,\"#f0f921\"]]}],\"choropleth\":[{\"type\":\"choropleth\",\"colorbar\":{\"outlinewidth\":0,\"ticks\":\"\"}}],\"histogram2d\":[{\"type\":\"histogram2d\",\"colorbar\":{\"outlinewidth\":0,\"ticks\":\"\"},\"colorscale\":[[0.0,\"#0d0887\"],[0.1111111111111111,\"#46039f\"],[0.2222222222222222,\"#7201a8\"],[0.3333333333333333,\"#9c179e\"],[0.4444444444444444,\"#bd3786\"],[0.5555555555555556,\"#d8576b\"],[0.6666666666666666,\"#ed7953\"],[0.7777777777777778,\"#fb9f3a\"],[0.8888888888888888,\"#fdca26\"],[1.0,\"#f0f921\"]]}],\"heatmap\":[{\"type\":\"heatmap\",\"colorbar\":{\"outlinewidth\":0,\"ticks\":\"\"},\"colorscale\":[[0.0,\"#0d0887\"],[0.1111111111111111,\"#46039f\"],[0.2222222222222222,\"#7201a8\"],[0.3333333333333333,\"#9c179e\"],[0.4444444444444444,\"#bd3786\"],[0.5555555555555556,\"#d8576b\"],[0.6666666666666666,\"#ed7953\"],[0.7777777777777778,\"#fb9f3a\"],[0.8888888888888888,\"#fdca26\"],[1.0,\"#f0f921\"]]}],\"heatmapgl\":[{\"type\":\"heatmapgl\",\"colorbar\":{\"outlinewidth\":0,\"ticks\":\"\"},\"colorscale\":[[0.0,\"#0d0887\"],[0.1111111111111111,\"#46039f\"],[0.2222222222222222,\"#7201a8\"],[0.3333333333333333,\"#9c179e\"],[0.4444444444444444,\"#bd3786\"],[0.5555555555555556,\"#d8576b\"],[0.6666666666666666,\"#ed7953\"],[0.7777777777777778,\"#fb9f3a\"],[0.8888888888888888,\"#fdca26\"],[1.0,\"#f0f921\"]]}],\"contourcarpet\":[{\"type\":\"contourcarpet\",\"colorbar\":{\"outlinewidth\":0,\"ticks\":\"\"}}],\"contour\":[{\"type\":\"contour\",\"colorbar\":{\"outlinewidth\":0,\"ticks\":\"\"},\"colorscale\":[[0.0,\"#0d0887\"],[0.1111111111111111,\"#46039f\"],[0.2222222222222222,\"#7201a8\"],[0.3333333333333333,\"#9c179e\"],[0.4444444444444444,\"#bd3786\"],[0.5555555555555556,\"#d8576b\"],[0.6666666666666666,\"#ed7953\"],[0.7777777777777778,\"#fb9f3a\"],[0.8888888888888888,\"#fdca26\"],[1.0,\"#f0f921\"]]}],\"surface\":[{\"type\":\"surface\",\"colorbar\":{\"outlinewidth\":0,\"ticks\":\"\"},\"colorscale\":[[0.0,\"#0d0887\"],[0.1111111111111111,\"#46039f\"],[0.2222222222222222,\"#7201a8\"],[0.3333333333333333,\"#9c179e\"],[0.4444444444444444,\"#bd3786\"],[0.5555555555555556,\"#d8576b\"],[0.6666666666666666,\"#ed7953\"],[0.7777777777777778,\"#fb9f3a\"],[0.8888888888888888,\"#fdca26\"],[1.0,\"#f0f921\"]]}],\"mesh3d\":[{\"type\":\"mesh3d\",\"colorbar\":{\"outlinewidth\":0,\"ticks\":\"\"}}],\"scatter\":[{\"fillpattern\":{\"fillmode\":\"overlay\",\"size\":10,\"solidity\":0.2},\"type\":\"scatter\"}],\"parcoords\":[{\"type\":\"parcoords\",\"line\":{\"colorbar\":{\"outlinewidth\":0,\"ticks\":\"\"}}}],\"scatterpolargl\":[{\"type\":\"scatterpolargl\",\"marker\":{\"colorbar\":{\"outlinewidth\":0,\"ticks\":\"\"}}}],\"bar\":[{\"error_x\":{\"color\":\"#2a3f5f\"},\"error_y\":{\"color\":\"#2a3f5f\"},\"marker\":{\"line\":{\"color\":\"#E5ECF6\",\"width\":0.5},\"pattern\":{\"fillmode\":\"overlay\",\"size\":10,\"solidity\":0.2}},\"type\":\"bar\"}],\"scattergeo\":[{\"type\":\"scattergeo\",\"marker\":{\"colorbar\":{\"outlinewidth\":0,\"ticks\":\"\"}}}],\"scatterpolar\":[{\"type\":\"scatterpolar\",\"marker\":{\"colorbar\":{\"outlinewidth\":0,\"ticks\":\"\"}}}],\"histogram\":[{\"marker\":{\"pattern\":{\"fillmode\":\"overlay\",\"size\":10,\"solidity\":0.2}},\"type\":\"histogram\"}],\"scattergl\":[{\"type\":\"scattergl\",\"marker\":{\"colorbar\":{\"outlinewidth\":0,\"ticks\":\"\"}}}],\"scatter3d\":[{\"type\":\"scatter3d\",\"line\":{\"colorbar\":{\"outlinewidth\":0,\"ticks\":\"\"}},\"marker\":{\"colorbar\":{\"outlinewidth\":0,\"ticks\":\"\"}}}],\"scattermapbox\":[{\"type\":\"scattermapbox\",\"marker\":{\"colorbar\":{\"outlinewidth\":0,\"ticks\":\"\"}}}],\"scatterternary\":[{\"type\":\"scatterternary\",\"marker\":{\"colorbar\":{\"outlinewidth\":0,\"ticks\":\"\"}}}],\"scattercarpet\":[{\"type\":\"scattercarpet\",\"marker\":{\"colorbar\":{\"outlinewidth\":0,\"ticks\":\"\"}}}],\"carpet\":[{\"aaxis\":{\"endlinecolor\":\"#2a3f5f\",\"gridcolor\":\"white\",\"linecolor\":\"white\",\"minorgridcolor\":\"white\",\"startlinecolor\":\"#2a3f5f\"},\"baxis\":{\"endlinecolor\":\"#2a3f5f\",\"gridcolor\":\"white\",\"linecolor\":\"white\",\"minorgridcolor\":\"white\",\"startlinecolor\":\"#2a3f5f\"},\"type\":\"carpet\"}],\"table\":[{\"cells\":{\"fill\":{\"color\":\"#EBF0F8\"},\"line\":{\"color\":\"white\"}},\"header\":{\"fill\":{\"color\":\"#C8D4E3\"},\"line\":{\"color\":\"white\"}},\"type\":\"table\"}],\"barpolar\":[{\"marker\":{\"line\":{\"color\":\"#E5ECF6\",\"width\":0.5},\"pattern\":{\"fillmode\":\"overlay\",\"size\":10,\"solidity\":0.2}},\"type\":\"barpolar\"}],\"pie\":[{\"automargin\":true,\"type\":\"pie\"}]},\"layout\":{\"autotypenumbers\":\"strict\",\"colorway\":[\"#636efa\",\"#EF553B\",\"#00cc96\",\"#ab63fa\",\"#FFA15A\",\"#19d3f3\",\"#FF6692\",\"#B6E880\",\"#FF97FF\",\"#FECB52\"],\"font\":{\"color\":\"#2a3f5f\"},\"hovermode\":\"closest\",\"hoverlabel\":{\"align\":\"left\"},\"paper_bgcolor\":\"white\",\"plot_bgcolor\":\"#E5ECF6\",\"polar\":{\"bgcolor\":\"#E5ECF6\",\"angularaxis\":{\"gridcolor\":\"white\",\"linecolor\":\"white\",\"ticks\":\"\"},\"radialaxis\":{\"gridcolor\":\"white\",\"linecolor\":\"white\",\"ticks\":\"\"}},\"ternary\":{\"bgcolor\":\"#E5ECF6\",\"aaxis\":{\"gridcolor\":\"white\",\"linecolor\":\"white\",\"ticks\":\"\"},\"baxis\":{\"gridcolor\":\"white\",\"linecolor\":\"white\",\"ticks\":\"\"},\"caxis\":{\"gridcolor\":\"white\",\"linecolor\":\"white\",\"ticks\":\"\"}},\"coloraxis\":{\"colorbar\":{\"outlinewidth\":0,\"ticks\":\"\"}},\"colorscale\":{\"sequential\":[[0.0,\"#0d0887\"],[0.1111111111111111,\"#46039f\"],[0.2222222222222222,\"#7201a8\"],[0.3333333333333333,\"#9c179e\"],[0.4444444444444444,\"#bd3786\"],[0.5555555555555556,\"#d8576b\"],[0.6666666666666666,\"#ed7953\"],[0.7777777777777778,\"#fb9f3a\"],[0.8888888888888888,\"#fdca26\"],[1.0,\"#f0f921\"]],\"sequentialminus\":[[0.0,\"#0d0887\"],[0.1111111111111111,\"#46039f\"],[0.2222222222222222,\"#7201a8\"],[0.3333333333333333,\"#9c179e\"],[0.4444444444444444,\"#bd3786\"],[0.5555555555555556,\"#d8576b\"],[0.6666666666666666,\"#ed7953\"],[0.7777777777777778,\"#fb9f3a\"],[0.8888888888888888,\"#fdca26\"],[1.0,\"#f0f921\"]],\"diverging\":[[0,\"#8e0152\"],[0.1,\"#c51b7d\"],[0.2,\"#de77ae\"],[0.3,\"#f1b6da\"],[0.4,\"#fde0ef\"],[0.5,\"#f7f7f7\"],[0.6,\"#e6f5d0\"],[0.7,\"#b8e186\"],[0.8,\"#7fbc41\"],[0.9,\"#4d9221\"],[1,\"#276419\"]]},\"xaxis\":{\"gridcolor\":\"white\",\"linecolor\":\"white\",\"ticks\":\"\",\"title\":{\"standoff\":15},\"zerolinecolor\":\"white\",\"automargin\":true,\"zerolinewidth\":2},\"yaxis\":{\"gridcolor\":\"white\",\"linecolor\":\"white\",\"ticks\":\"\",\"title\":{\"standoff\":15},\"zerolinecolor\":\"white\",\"automargin\":true,\"zerolinewidth\":2},\"scene\":{\"xaxis\":{\"backgroundcolor\":\"#E5ECF6\",\"gridcolor\":\"white\",\"linecolor\":\"white\",\"showbackground\":true,\"ticks\":\"\",\"zerolinecolor\":\"white\",\"gridwidth\":2},\"yaxis\":{\"backgroundcolor\":\"#E5ECF6\",\"gridcolor\":\"white\",\"linecolor\":\"white\",\"showbackground\":true,\"ticks\":\"\",\"zerolinecolor\":\"white\",\"gridwidth\":2},\"zaxis\":{\"backgroundcolor\":\"#E5ECF6\",\"gridcolor\":\"white\",\"linecolor\":\"white\",\"showbackground\":true,\"ticks\":\"\",\"zerolinecolor\":\"white\",\"gridwidth\":2}},\"shapedefaults\":{\"line\":{\"color\":\"#2a3f5f\"}},\"annotationdefaults\":{\"arrowcolor\":\"#2a3f5f\",\"arrowhead\":0,\"arrowwidth\":1},\"geo\":{\"bgcolor\":\"white\",\"landcolor\":\"#E5ECF6\",\"subunitcolor\":\"white\",\"showland\":true,\"showlakes\":true,\"lakecolor\":\"white\"},\"title\":{\"x\":0.05},\"mapbox\":{\"style\":\"light\"}}},\"xaxis\":{\"anchor\":\"y\",\"domain\":[0.0,1.0],\"title\":{\"text\":\"Census Tract\"}},\"yaxis\":{\"anchor\":\"x\",\"domain\":[0.0,1.0],\"title\":{\"text\":\"Population\"}},\"legend\":{\"title\":{\"text\":\"Race\"},\"tracegroupgap\":0},\"title\":{\"text\":\"Population by Race for 5 Sample Census Tracts\"},\"barmode\":\"relative\"},                        {\"responsive\": true}                    ).then(function(){\n",
       "                            \n",
       "var gd = document.getElementById('0783d4ac-1aaa-485d-86ea-a4ad6851cdf5');\n",
       "var x = new MutationObserver(function (mutations, observer) {{\n",
       "        var display = window.getComputedStyle(gd).display;\n",
       "        if (!display || display === 'none') {{\n",
       "            console.log([gd, 'removed!']);\n",
       "            Plotly.purge(gd);\n",
       "            observer.disconnect();\n",
       "        }}\n",
       "}});\n",
       "\n",
       "// Listen for the removal of the full notebook cells\n",
       "var notebookContainer = gd.closest('#notebook-container');\n",
       "if (notebookContainer) {{\n",
       "    x.observe(notebookContainer, {childList: true});\n",
       "}}\n",
       "\n",
       "// Listen for the clearing of the current output cell\n",
       "var outputEl = gd.closest('.output');\n",
       "if (outputEl) {{\n",
       "    x.observe(outputEl, {childList: true});\n",
       "}}\n",
       "\n",
       "                        })                };                });            </script>        </div>"
      ]
     },
     "metadata": {},
     "output_type": "display_data"
    }
   ],
   "source": [
    "fig = px.bar(minority_pop_2,\n",
    "       x='Census Tract',\n",
    "       y='Population',\n",
    "       color='variable',\n",
    "       labels={'variable':'Race'},\n",
    "       title='Population by Race for 5 Sample Census Tracts'\n",
    ")\n",
    "\n",
    "fig.show()"
   ]
  },
  {
   "cell_type": "markdown",
   "id": "3e1cb65f-1562-44cd-abb9-8887e1b69e61",
   "metadata": {},
   "source": [
    "## Population by Income (Less than $40,000)"
   ]
  },
  {
   "cell_type": "markdown",
   "id": "566b9dda-849a-4f4f-b119-f838a781ec87",
   "metadata": {},
   "source": [
    "Here, I filtered to only include columns with income levels less than $40,000."
   ]
  },
  {
   "cell_type": "code",
   "execution_count": 195,
   "id": "d9fd51dd-5088-4265-9b59-5d43d3f19b9d",
   "metadata": {},
   "outputs": [
    {
     "data": {
      "text/html": [
       "<div>\n",
       "<style scoped>\n",
       "    .dataframe tbody tr th:only-of-type {\n",
       "        vertical-align: middle;\n",
       "    }\n",
       "\n",
       "    .dataframe tbody tr th {\n",
       "        vertical-align: top;\n",
       "    }\n",
       "\n",
       "    .dataframe thead th {\n",
       "        text-align: right;\n",
       "    }\n",
       "</style>\n",
       "<table border=\"1\" class=\"dataframe\">\n",
       "  <thead>\n",
       "    <tr style=\"text-align: right;\">\n",
       "      <th></th>\n",
       "      <th>FIPS</th>\n",
       "      <th>Census Tract</th>\n",
       "      <th>Households: Less than $10,000</th>\n",
       "      <th>Households: $10,000 to $14,999</th>\n",
       "      <th>Households: $15,000 to $19,999</th>\n",
       "      <th>Households: $20,000 to $24,999</th>\n",
       "      <th>Households: $25,000 to $29,999</th>\n",
       "      <th>Households: $30,000 to $34,999</th>\n",
       "      <th>Households: $35,000 to $39,999</th>\n",
       "    </tr>\n",
       "  </thead>\n",
       "  <tbody>\n",
       "    <tr>\n",
       "      <th>0</th>\n",
       "      <td>06001402600</td>\n",
       "      <td>402600</td>\n",
       "      <td>65</td>\n",
       "      <td>122</td>\n",
       "      <td>24</td>\n",
       "      <td>16</td>\n",
       "      <td>26</td>\n",
       "      <td>17</td>\n",
       "      <td>28</td>\n",
       "    </tr>\n",
       "    <tr>\n",
       "      <th>1</th>\n",
       "      <td>06001402700</td>\n",
       "      <td>402700</td>\n",
       "      <td>116</td>\n",
       "      <td>6</td>\n",
       "      <td>30</td>\n",
       "      <td>18</td>\n",
       "      <td>27</td>\n",
       "      <td>25</td>\n",
       "      <td>7</td>\n",
       "    </tr>\n",
       "    <tr>\n",
       "      <th>2</th>\n",
       "      <td>06001402801</td>\n",
       "      <td>402801</td>\n",
       "      <td>87</td>\n",
       "      <td>205</td>\n",
       "      <td>62</td>\n",
       "      <td>42</td>\n",
       "      <td>212</td>\n",
       "      <td>33</td>\n",
       "      <td>80</td>\n",
       "    </tr>\n",
       "    <tr>\n",
       "      <th>3</th>\n",
       "      <td>06001402802</td>\n",
       "      <td>402802</td>\n",
       "      <td>176</td>\n",
       "      <td>144</td>\n",
       "      <td>99</td>\n",
       "      <td>0</td>\n",
       "      <td>0</td>\n",
       "      <td>18</td>\n",
       "      <td>0</td>\n",
       "    </tr>\n",
       "    <tr>\n",
       "      <th>4</th>\n",
       "      <td>06001402900</td>\n",
       "      <td>402900</td>\n",
       "      <td>170</td>\n",
       "      <td>159</td>\n",
       "      <td>42</td>\n",
       "      <td>107</td>\n",
       "      <td>4</td>\n",
       "      <td>50</td>\n",
       "      <td>35</td>\n",
       "    </tr>\n",
       "  </tbody>\n",
       "</table>\n",
       "</div>"
      ],
      "text/plain": [
       "          FIPS  Census Tract  Households: Less than $10,000  \\\n",
       "0  06001402600        402600                             65   \n",
       "1  06001402700        402700                            116   \n",
       "2  06001402801        402801                             87   \n",
       "3  06001402802        402802                            176   \n",
       "4  06001402900        402900                            170   \n",
       "\n",
       "   Households: $10,000 to $14,999  Households: $15,000 to $19,999  \\\n",
       "0                             122                              24   \n",
       "1                               6                              30   \n",
       "2                             205                              62   \n",
       "3                             144                              99   \n",
       "4                             159                              42   \n",
       "\n",
       "   Households: $20,000 to $24,999  Households: $25,000 to $29,999  \\\n",
       "0                              16                              26   \n",
       "1                              18                              27   \n",
       "2                              42                             212   \n",
       "3                               0                               0   \n",
       "4                             107                               4   \n",
       "\n",
       "   Households: $30,000 to $34,999  Households: $35,000 to $39,999  \n",
       "0                              17                              28  \n",
       "1                              25                               7  \n",
       "2                              33                              80  \n",
       "3                              18                               0  \n",
       "4                              50                              35  "
      ]
     },
     "execution_count": 195,
     "metadata": {},
     "output_type": "execute_result"
    }
   ],
   "source": [
    "income = joined[['FIPS','Census Tract','Households: Less than $10,000','Households: $10,000 to $14,999','Households: $15,000 to $19,999','Households: $20,000 to $24,999','Households: $25,000 to $29,999','Households: $30,000 to $34,999','Households: $35,000 to $39,999']].sort_values('FIPS', ascending = True).head()\n",
    "income"
   ]
  },
  {
   "cell_type": "markdown",
   "id": "9eed5565-bd3c-4a9e-96be-c768dd24b867",
   "metadata": {},
   "source": [
    "Then, I renamed the columns to have more simple names."
   ]
  },
  {
   "cell_type": "code",
   "execution_count": 196,
   "id": "e21a47cb-dd96-4f6d-ab63-2f2938d3fa00",
   "metadata": {},
   "outputs": [
    {
     "data": {
      "text/html": [
       "<div>\n",
       "<style scoped>\n",
       "    .dataframe tbody tr th:only-of-type {\n",
       "        vertical-align: middle;\n",
       "    }\n",
       "\n",
       "    .dataframe tbody tr th {\n",
       "        vertical-align: top;\n",
       "    }\n",
       "\n",
       "    .dataframe thead th {\n",
       "        text-align: right;\n",
       "    }\n",
       "</style>\n",
       "<table border=\"1\" class=\"dataframe\">\n",
       "  <thead>\n",
       "    <tr style=\"text-align: right;\">\n",
       "      <th></th>\n",
       "      <th>FIPS</th>\n",
       "      <th>Census Tract</th>\n",
       "      <th>Less than $10,000</th>\n",
       "      <th>$10,000 to 14,999</th>\n",
       "      <th>$15,000 to 19,999</th>\n",
       "      <th>$20,000 to 24,999</th>\n",
       "      <th>$25,000 to 29,999</th>\n",
       "      <th>$30,000 to 34,999</th>\n",
       "      <th>$35,000 to 39,999</th>\n",
       "    </tr>\n",
       "  </thead>\n",
       "  <tbody>\n",
       "    <tr>\n",
       "      <th>0</th>\n",
       "      <td>06001402600</td>\n",
       "      <td>402600</td>\n",
       "      <td>65</td>\n",
       "      <td>122</td>\n",
       "      <td>24</td>\n",
       "      <td>16</td>\n",
       "      <td>26</td>\n",
       "      <td>17</td>\n",
       "      <td>28</td>\n",
       "    </tr>\n",
       "    <tr>\n",
       "      <th>1</th>\n",
       "      <td>06001402700</td>\n",
       "      <td>402700</td>\n",
       "      <td>116</td>\n",
       "      <td>6</td>\n",
       "      <td>30</td>\n",
       "      <td>18</td>\n",
       "      <td>27</td>\n",
       "      <td>25</td>\n",
       "      <td>7</td>\n",
       "    </tr>\n",
       "    <tr>\n",
       "      <th>2</th>\n",
       "      <td>06001402801</td>\n",
       "      <td>402801</td>\n",
       "      <td>87</td>\n",
       "      <td>205</td>\n",
       "      <td>62</td>\n",
       "      <td>42</td>\n",
       "      <td>212</td>\n",
       "      <td>33</td>\n",
       "      <td>80</td>\n",
       "    </tr>\n",
       "    <tr>\n",
       "      <th>3</th>\n",
       "      <td>06001402802</td>\n",
       "      <td>402802</td>\n",
       "      <td>176</td>\n",
       "      <td>144</td>\n",
       "      <td>99</td>\n",
       "      <td>0</td>\n",
       "      <td>0</td>\n",
       "      <td>18</td>\n",
       "      <td>0</td>\n",
       "    </tr>\n",
       "    <tr>\n",
       "      <th>4</th>\n",
       "      <td>06001402900</td>\n",
       "      <td>402900</td>\n",
       "      <td>170</td>\n",
       "      <td>159</td>\n",
       "      <td>42</td>\n",
       "      <td>107</td>\n",
       "      <td>4</td>\n",
       "      <td>50</td>\n",
       "      <td>35</td>\n",
       "    </tr>\n",
       "  </tbody>\n",
       "</table>\n",
       "</div>"
      ],
      "text/plain": [
       "          FIPS Census Tract  Less than $10,000  $10,000 to 14,999  \\\n",
       "0  06001402600       402600                 65                122   \n",
       "1  06001402700       402700                116                  6   \n",
       "2  06001402801       402801                 87                205   \n",
       "3  06001402802       402802                176                144   \n",
       "4  06001402900       402900                170                159   \n",
       "\n",
       "   $15,000 to 19,999  $20,000 to 24,999  $25,000 to 29,999  $30,000 to 34,999  \\\n",
       "0                 24                 16                 26                 17   \n",
       "1                 30                 18                 27                 25   \n",
       "2                 62                 42                212                 33   \n",
       "3                 99                  0                  0                 18   \n",
       "4                 42                107                  4                 50   \n",
       "\n",
       "   $35,000 to 39,999  \n",
       "0                 28  \n",
       "1                  7  \n",
       "2                 80  \n",
       "3                  0  \n",
       "4                 35  "
      ]
     },
     "execution_count": 196,
     "metadata": {},
     "output_type": "execute_result"
    }
   ],
   "source": [
    "income['Census Tract'] = income['Census Tract'].apply(str)\n",
    "income = income.rename(columns={\n",
    "    'Households: Less than $10,000':'Less than $10,000',\n",
    "    'Households: $10,000 to $14,999':'$10,000 to 14,999',\n",
    "    'Households: $15,000 to $19,999':'$15,000 to 19,999',\n",
    "    'Households: $20,000 to $24,999':'$20,000 to 24,999',\n",
    "    'Households: $25,000 to $29,999':'$25,000 to 29,999',\n",
    "    'Households: $30,000 to $34,999':'$30,000 to 34,999',\n",
    "    'Households: $35,000 to $39,999':'$35,000 to 39,999'})\n",
    "income"
   ]
  },
  {
   "cell_type": "markdown",
   "id": "61b8b56a-bc7f-46ef-9b6d-1146b94483c2",
   "metadata": {},
   "source": [
    "Once again, I reformatted the table to aid in the process of creating a stacked bar chart. In this new dataframe, each population value in the previous dataframe has its own row."
   ]
  },
  {
   "cell_type": "code",
   "execution_count": 197,
   "id": "419aad4a-8d35-47cf-91d7-3f680ec5928d",
   "metadata": {},
   "outputs": [
    {
     "data": {
      "text/html": [
       "<div>\n",
       "<style scoped>\n",
       "    .dataframe tbody tr th:only-of-type {\n",
       "        vertical-align: middle;\n",
       "    }\n",
       "\n",
       "    .dataframe tbody tr th {\n",
       "        vertical-align: top;\n",
       "    }\n",
       "\n",
       "    .dataframe thead th {\n",
       "        text-align: right;\n",
       "    }\n",
       "</style>\n",
       "<table border=\"1\" class=\"dataframe\">\n",
       "  <thead>\n",
       "    <tr style=\"text-align: right;\">\n",
       "      <th></th>\n",
       "      <th>Census Tract</th>\n",
       "      <th>FIPS</th>\n",
       "      <th>variable</th>\n",
       "      <th>Population</th>\n",
       "    </tr>\n",
       "  </thead>\n",
       "  <tbody>\n",
       "    <tr>\n",
       "      <th>0</th>\n",
       "      <td>402600</td>\n",
       "      <td>06001402600</td>\n",
       "      <td>Less than $10,000</td>\n",
       "      <td>65</td>\n",
       "    </tr>\n",
       "    <tr>\n",
       "      <th>1</th>\n",
       "      <td>402700</td>\n",
       "      <td>06001402700</td>\n",
       "      <td>Less than $10,000</td>\n",
       "      <td>116</td>\n",
       "    </tr>\n",
       "    <tr>\n",
       "      <th>2</th>\n",
       "      <td>402801</td>\n",
       "      <td>06001402801</td>\n",
       "      <td>Less than $10,000</td>\n",
       "      <td>87</td>\n",
       "    </tr>\n",
       "    <tr>\n",
       "      <th>3</th>\n",
       "      <td>402802</td>\n",
       "      <td>06001402802</td>\n",
       "      <td>Less than $10,000</td>\n",
       "      <td>176</td>\n",
       "    </tr>\n",
       "    <tr>\n",
       "      <th>4</th>\n",
       "      <td>402900</td>\n",
       "      <td>06001402900</td>\n",
       "      <td>Less than $10,000</td>\n",
       "      <td>170</td>\n",
       "    </tr>\n",
       "    <tr>\n",
       "      <th>5</th>\n",
       "      <td>402600</td>\n",
       "      <td>06001402600</td>\n",
       "      <td>$10,000 to 14,999</td>\n",
       "      <td>122</td>\n",
       "    </tr>\n",
       "    <tr>\n",
       "      <th>6</th>\n",
       "      <td>402700</td>\n",
       "      <td>06001402700</td>\n",
       "      <td>$10,000 to 14,999</td>\n",
       "      <td>6</td>\n",
       "    </tr>\n",
       "    <tr>\n",
       "      <th>7</th>\n",
       "      <td>402801</td>\n",
       "      <td>06001402801</td>\n",
       "      <td>$10,000 to 14,999</td>\n",
       "      <td>205</td>\n",
       "    </tr>\n",
       "    <tr>\n",
       "      <th>8</th>\n",
       "      <td>402802</td>\n",
       "      <td>06001402802</td>\n",
       "      <td>$10,000 to 14,999</td>\n",
       "      <td>144</td>\n",
       "    </tr>\n",
       "    <tr>\n",
       "      <th>9</th>\n",
       "      <td>402900</td>\n",
       "      <td>06001402900</td>\n",
       "      <td>$10,000 to 14,999</td>\n",
       "      <td>159</td>\n",
       "    </tr>\n",
       "    <tr>\n",
       "      <th>10</th>\n",
       "      <td>402600</td>\n",
       "      <td>06001402600</td>\n",
       "      <td>$15,000 to 19,999</td>\n",
       "      <td>24</td>\n",
       "    </tr>\n",
       "    <tr>\n",
       "      <th>11</th>\n",
       "      <td>402700</td>\n",
       "      <td>06001402700</td>\n",
       "      <td>$15,000 to 19,999</td>\n",
       "      <td>30</td>\n",
       "    </tr>\n",
       "    <tr>\n",
       "      <th>12</th>\n",
       "      <td>402801</td>\n",
       "      <td>06001402801</td>\n",
       "      <td>$15,000 to 19,999</td>\n",
       "      <td>62</td>\n",
       "    </tr>\n",
       "    <tr>\n",
       "      <th>13</th>\n",
       "      <td>402802</td>\n",
       "      <td>06001402802</td>\n",
       "      <td>$15,000 to 19,999</td>\n",
       "      <td>99</td>\n",
       "    </tr>\n",
       "    <tr>\n",
       "      <th>14</th>\n",
       "      <td>402900</td>\n",
       "      <td>06001402900</td>\n",
       "      <td>$15,000 to 19,999</td>\n",
       "      <td>42</td>\n",
       "    </tr>\n",
       "    <tr>\n",
       "      <th>15</th>\n",
       "      <td>402600</td>\n",
       "      <td>06001402600</td>\n",
       "      <td>$20,000 to 24,999</td>\n",
       "      <td>16</td>\n",
       "    </tr>\n",
       "    <tr>\n",
       "      <th>16</th>\n",
       "      <td>402700</td>\n",
       "      <td>06001402700</td>\n",
       "      <td>$20,000 to 24,999</td>\n",
       "      <td>18</td>\n",
       "    </tr>\n",
       "    <tr>\n",
       "      <th>17</th>\n",
       "      <td>402801</td>\n",
       "      <td>06001402801</td>\n",
       "      <td>$20,000 to 24,999</td>\n",
       "      <td>42</td>\n",
       "    </tr>\n",
       "    <tr>\n",
       "      <th>18</th>\n",
       "      <td>402802</td>\n",
       "      <td>06001402802</td>\n",
       "      <td>$20,000 to 24,999</td>\n",
       "      <td>0</td>\n",
       "    </tr>\n",
       "    <tr>\n",
       "      <th>19</th>\n",
       "      <td>402900</td>\n",
       "      <td>06001402900</td>\n",
       "      <td>$20,000 to 24,999</td>\n",
       "      <td>107</td>\n",
       "    </tr>\n",
       "    <tr>\n",
       "      <th>20</th>\n",
       "      <td>402600</td>\n",
       "      <td>06001402600</td>\n",
       "      <td>$25,000 to 29,999</td>\n",
       "      <td>26</td>\n",
       "    </tr>\n",
       "    <tr>\n",
       "      <th>21</th>\n",
       "      <td>402700</td>\n",
       "      <td>06001402700</td>\n",
       "      <td>$25,000 to 29,999</td>\n",
       "      <td>27</td>\n",
       "    </tr>\n",
       "    <tr>\n",
       "      <th>22</th>\n",
       "      <td>402801</td>\n",
       "      <td>06001402801</td>\n",
       "      <td>$25,000 to 29,999</td>\n",
       "      <td>212</td>\n",
       "    </tr>\n",
       "    <tr>\n",
       "      <th>23</th>\n",
       "      <td>402802</td>\n",
       "      <td>06001402802</td>\n",
       "      <td>$25,000 to 29,999</td>\n",
       "      <td>0</td>\n",
       "    </tr>\n",
       "    <tr>\n",
       "      <th>24</th>\n",
       "      <td>402900</td>\n",
       "      <td>06001402900</td>\n",
       "      <td>$25,000 to 29,999</td>\n",
       "      <td>4</td>\n",
       "    </tr>\n",
       "    <tr>\n",
       "      <th>25</th>\n",
       "      <td>402600</td>\n",
       "      <td>06001402600</td>\n",
       "      <td>$30,000 to 34,999</td>\n",
       "      <td>17</td>\n",
       "    </tr>\n",
       "    <tr>\n",
       "      <th>26</th>\n",
       "      <td>402700</td>\n",
       "      <td>06001402700</td>\n",
       "      <td>$30,000 to 34,999</td>\n",
       "      <td>25</td>\n",
       "    </tr>\n",
       "    <tr>\n",
       "      <th>27</th>\n",
       "      <td>402801</td>\n",
       "      <td>06001402801</td>\n",
       "      <td>$30,000 to 34,999</td>\n",
       "      <td>33</td>\n",
       "    </tr>\n",
       "    <tr>\n",
       "      <th>28</th>\n",
       "      <td>402802</td>\n",
       "      <td>06001402802</td>\n",
       "      <td>$30,000 to 34,999</td>\n",
       "      <td>18</td>\n",
       "    </tr>\n",
       "    <tr>\n",
       "      <th>29</th>\n",
       "      <td>402900</td>\n",
       "      <td>06001402900</td>\n",
       "      <td>$30,000 to 34,999</td>\n",
       "      <td>50</td>\n",
       "    </tr>\n",
       "    <tr>\n",
       "      <th>30</th>\n",
       "      <td>402600</td>\n",
       "      <td>06001402600</td>\n",
       "      <td>$35,000 to 39,999</td>\n",
       "      <td>28</td>\n",
       "    </tr>\n",
       "    <tr>\n",
       "      <th>31</th>\n",
       "      <td>402700</td>\n",
       "      <td>06001402700</td>\n",
       "      <td>$35,000 to 39,999</td>\n",
       "      <td>7</td>\n",
       "    </tr>\n",
       "    <tr>\n",
       "      <th>32</th>\n",
       "      <td>402801</td>\n",
       "      <td>06001402801</td>\n",
       "      <td>$35,000 to 39,999</td>\n",
       "      <td>80</td>\n",
       "    </tr>\n",
       "    <tr>\n",
       "      <th>33</th>\n",
       "      <td>402802</td>\n",
       "      <td>06001402802</td>\n",
       "      <td>$35,000 to 39,999</td>\n",
       "      <td>0</td>\n",
       "    </tr>\n",
       "    <tr>\n",
       "      <th>34</th>\n",
       "      <td>402900</td>\n",
       "      <td>06001402900</td>\n",
       "      <td>$35,000 to 39,999</td>\n",
       "      <td>35</td>\n",
       "    </tr>\n",
       "  </tbody>\n",
       "</table>\n",
       "</div>"
      ],
      "text/plain": [
       "   Census Tract         FIPS           variable  Population\n",
       "0        402600  06001402600  Less than $10,000          65\n",
       "1        402700  06001402700  Less than $10,000         116\n",
       "2        402801  06001402801  Less than $10,000          87\n",
       "3        402802  06001402802  Less than $10,000         176\n",
       "4        402900  06001402900  Less than $10,000         170\n",
       "5        402600  06001402600  $10,000 to 14,999         122\n",
       "6        402700  06001402700  $10,000 to 14,999           6\n",
       "7        402801  06001402801  $10,000 to 14,999         205\n",
       "8        402802  06001402802  $10,000 to 14,999         144\n",
       "9        402900  06001402900  $10,000 to 14,999         159\n",
       "10       402600  06001402600  $15,000 to 19,999          24\n",
       "11       402700  06001402700  $15,000 to 19,999          30\n",
       "12       402801  06001402801  $15,000 to 19,999          62\n",
       "13       402802  06001402802  $15,000 to 19,999          99\n",
       "14       402900  06001402900  $15,000 to 19,999          42\n",
       "15       402600  06001402600  $20,000 to 24,999          16\n",
       "16       402700  06001402700  $20,000 to 24,999          18\n",
       "17       402801  06001402801  $20,000 to 24,999          42\n",
       "18       402802  06001402802  $20,000 to 24,999           0\n",
       "19       402900  06001402900  $20,000 to 24,999         107\n",
       "20       402600  06001402600  $25,000 to 29,999          26\n",
       "21       402700  06001402700  $25,000 to 29,999          27\n",
       "22       402801  06001402801  $25,000 to 29,999         212\n",
       "23       402802  06001402802  $25,000 to 29,999           0\n",
       "24       402900  06001402900  $25,000 to 29,999           4\n",
       "25       402600  06001402600  $30,000 to 34,999          17\n",
       "26       402700  06001402700  $30,000 to 34,999          25\n",
       "27       402801  06001402801  $30,000 to 34,999          33\n",
       "28       402802  06001402802  $30,000 to 34,999          18\n",
       "29       402900  06001402900  $30,000 to 34,999          50\n",
       "30       402600  06001402600  $35,000 to 39,999          28\n",
       "31       402700  06001402700  $35,000 to 39,999           7\n",
       "32       402801  06001402801  $35,000 to 39,999          80\n",
       "33       402802  06001402802  $35,000 to 39,999           0\n",
       "34       402900  06001402900  $35,000 to 39,999          35"
      ]
     },
     "execution_count": 197,
     "metadata": {},
     "output_type": "execute_result"
    }
   ],
   "source": [
    "income_2 = income.melt(id_vars=[\"Census Tract\", \"FIPS\"], value_name = \"Population\")\n",
    "income_2"
   ]
  },
  {
   "cell_type": "markdown",
   "id": "bc6e076d-180e-445a-9496-0544acb651fb",
   "metadata": {},
   "source": [
    "Finally, I created another stacked bar chart using this dataframe."
   ]
  },
  {
   "cell_type": "code",
   "execution_count": 200,
   "id": "fa82b55b-38f1-4c46-a8b0-c8529c28bfe4",
   "metadata": {},
   "outputs": [
    {
     "data": {
      "application/vnd.plotly.v1+json": {
       "config": {
        "plotlyServerURL": "https://plot.ly"
       },
       "data": [
        {
         "alignmentgroup": "True",
         "hovertemplate": "Income=Less than $10,000<br>Census Tract=%{x}<br>Population=%{y}<extra></extra>",
         "legendgroup": "Less than $10,000",
         "marker": {
          "color": "#636efa",
          "pattern": {
           "shape": ""
          }
         },
         "name": "Less than $10,000",
         "offsetgroup": "Less than $10,000",
         "orientation": "v",
         "showlegend": true,
         "textposition": "auto",
         "type": "bar",
         "x": [
          "402600",
          "402700",
          "402801",
          "402802",
          "402900"
         ],
         "xaxis": "x",
         "y": [
          65,
          116,
          87,
          176,
          170
         ],
         "yaxis": "y"
        },
        {
         "alignmentgroup": "True",
         "hovertemplate": "Income=$10,000 to 14,999<br>Census Tract=%{x}<br>Population=%{y}<extra></extra>",
         "legendgroup": "$10,000 to 14,999",
         "marker": {
          "color": "#EF553B",
          "pattern": {
           "shape": ""
          }
         },
         "name": "$10,000 to 14,999",
         "offsetgroup": "$10,000 to 14,999",
         "orientation": "v",
         "showlegend": true,
         "textposition": "auto",
         "type": "bar",
         "x": [
          "402600",
          "402700",
          "402801",
          "402802",
          "402900"
         ],
         "xaxis": "x",
         "y": [
          122,
          6,
          205,
          144,
          159
         ],
         "yaxis": "y"
        },
        {
         "alignmentgroup": "True",
         "hovertemplate": "Income=$15,000 to 19,999<br>Census Tract=%{x}<br>Population=%{y}<extra></extra>",
         "legendgroup": "$15,000 to 19,999",
         "marker": {
          "color": "#00cc96",
          "pattern": {
           "shape": ""
          }
         },
         "name": "$15,000 to 19,999",
         "offsetgroup": "$15,000 to 19,999",
         "orientation": "v",
         "showlegend": true,
         "textposition": "auto",
         "type": "bar",
         "x": [
          "402600",
          "402700",
          "402801",
          "402802",
          "402900"
         ],
         "xaxis": "x",
         "y": [
          24,
          30,
          62,
          99,
          42
         ],
         "yaxis": "y"
        },
        {
         "alignmentgroup": "True",
         "hovertemplate": "Income=$20,000 to 24,999<br>Census Tract=%{x}<br>Population=%{y}<extra></extra>",
         "legendgroup": "$20,000 to 24,999",
         "marker": {
          "color": "#ab63fa",
          "pattern": {
           "shape": ""
          }
         },
         "name": "$20,000 to 24,999",
         "offsetgroup": "$20,000 to 24,999",
         "orientation": "v",
         "showlegend": true,
         "textposition": "auto",
         "type": "bar",
         "x": [
          "402600",
          "402700",
          "402801",
          "402802",
          "402900"
         ],
         "xaxis": "x",
         "y": [
          16,
          18,
          42,
          0,
          107
         ],
         "yaxis": "y"
        },
        {
         "alignmentgroup": "True",
         "hovertemplate": "Income=$25,000 to 29,999<br>Census Tract=%{x}<br>Population=%{y}<extra></extra>",
         "legendgroup": "$25,000 to 29,999",
         "marker": {
          "color": "#FFA15A",
          "pattern": {
           "shape": ""
          }
         },
         "name": "$25,000 to 29,999",
         "offsetgroup": "$25,000 to 29,999",
         "orientation": "v",
         "showlegend": true,
         "textposition": "auto",
         "type": "bar",
         "x": [
          "402600",
          "402700",
          "402801",
          "402802",
          "402900"
         ],
         "xaxis": "x",
         "y": [
          26,
          27,
          212,
          0,
          4
         ],
         "yaxis": "y"
        },
        {
         "alignmentgroup": "True",
         "hovertemplate": "Income=$30,000 to 34,999<br>Census Tract=%{x}<br>Population=%{y}<extra></extra>",
         "legendgroup": "$30,000 to 34,999",
         "marker": {
          "color": "#19d3f3",
          "pattern": {
           "shape": ""
          }
         },
         "name": "$30,000 to 34,999",
         "offsetgroup": "$30,000 to 34,999",
         "orientation": "v",
         "showlegend": true,
         "textposition": "auto",
         "type": "bar",
         "x": [
          "402600",
          "402700",
          "402801",
          "402802",
          "402900"
         ],
         "xaxis": "x",
         "y": [
          17,
          25,
          33,
          18,
          50
         ],
         "yaxis": "y"
        },
        {
         "alignmentgroup": "True",
         "hovertemplate": "Income=$35,000 to 39,999<br>Census Tract=%{x}<br>Population=%{y}<extra></extra>",
         "legendgroup": "$35,000 to 39,999",
         "marker": {
          "color": "#FF6692",
          "pattern": {
           "shape": ""
          }
         },
         "name": "$35,000 to 39,999",
         "offsetgroup": "$35,000 to 39,999",
         "orientation": "v",
         "showlegend": true,
         "textposition": "auto",
         "type": "bar",
         "x": [
          "402600",
          "402700",
          "402801",
          "402802",
          "402900"
         ],
         "xaxis": "x",
         "y": [
          28,
          7,
          80,
          0,
          35
         ],
         "yaxis": "y"
        }
       ],
       "layout": {
        "autosize": true,
        "barmode": "relative",
        "legend": {
         "title": {
          "text": "Income"
         },
         "tracegroupgap": 0
        },
        "template": {
         "data": {
          "bar": [
           {
            "error_x": {
             "color": "#2a3f5f"
            },
            "error_y": {
             "color": "#2a3f5f"
            },
            "marker": {
             "line": {
              "color": "#E5ECF6",
              "width": 0.5
             },
             "pattern": {
              "fillmode": "overlay",
              "size": 10,
              "solidity": 0.2
             }
            },
            "type": "bar"
           }
          ],
          "barpolar": [
           {
            "marker": {
             "line": {
              "color": "#E5ECF6",
              "width": 0.5
             },
             "pattern": {
              "fillmode": "overlay",
              "size": 10,
              "solidity": 0.2
             }
            },
            "type": "barpolar"
           }
          ],
          "carpet": [
           {
            "aaxis": {
             "endlinecolor": "#2a3f5f",
             "gridcolor": "white",
             "linecolor": "white",
             "minorgridcolor": "white",
             "startlinecolor": "#2a3f5f"
            },
            "baxis": {
             "endlinecolor": "#2a3f5f",
             "gridcolor": "white",
             "linecolor": "white",
             "minorgridcolor": "white",
             "startlinecolor": "#2a3f5f"
            },
            "type": "carpet"
           }
          ],
          "choropleth": [
           {
            "colorbar": {
             "outlinewidth": 0,
             "ticks": ""
            },
            "type": "choropleth"
           }
          ],
          "contour": [
           {
            "colorbar": {
             "outlinewidth": 0,
             "ticks": ""
            },
            "colorscale": [
             [
              0,
              "#0d0887"
             ],
             [
              0.1111111111111111,
              "#46039f"
             ],
             [
              0.2222222222222222,
              "#7201a8"
             ],
             [
              0.3333333333333333,
              "#9c179e"
             ],
             [
              0.4444444444444444,
              "#bd3786"
             ],
             [
              0.5555555555555556,
              "#d8576b"
             ],
             [
              0.6666666666666666,
              "#ed7953"
             ],
             [
              0.7777777777777778,
              "#fb9f3a"
             ],
             [
              0.8888888888888888,
              "#fdca26"
             ],
             [
              1,
              "#f0f921"
             ]
            ],
            "type": "contour"
           }
          ],
          "contourcarpet": [
           {
            "colorbar": {
             "outlinewidth": 0,
             "ticks": ""
            },
            "type": "contourcarpet"
           }
          ],
          "heatmap": [
           {
            "colorbar": {
             "outlinewidth": 0,
             "ticks": ""
            },
            "colorscale": [
             [
              0,
              "#0d0887"
             ],
             [
              0.1111111111111111,
              "#46039f"
             ],
             [
              0.2222222222222222,
              "#7201a8"
             ],
             [
              0.3333333333333333,
              "#9c179e"
             ],
             [
              0.4444444444444444,
              "#bd3786"
             ],
             [
              0.5555555555555556,
              "#d8576b"
             ],
             [
              0.6666666666666666,
              "#ed7953"
             ],
             [
              0.7777777777777778,
              "#fb9f3a"
             ],
             [
              0.8888888888888888,
              "#fdca26"
             ],
             [
              1,
              "#f0f921"
             ]
            ],
            "type": "heatmap"
           }
          ],
          "heatmapgl": [
           {
            "colorbar": {
             "outlinewidth": 0,
             "ticks": ""
            },
            "colorscale": [
             [
              0,
              "#0d0887"
             ],
             [
              0.1111111111111111,
              "#46039f"
             ],
             [
              0.2222222222222222,
              "#7201a8"
             ],
             [
              0.3333333333333333,
              "#9c179e"
             ],
             [
              0.4444444444444444,
              "#bd3786"
             ],
             [
              0.5555555555555556,
              "#d8576b"
             ],
             [
              0.6666666666666666,
              "#ed7953"
             ],
             [
              0.7777777777777778,
              "#fb9f3a"
             ],
             [
              0.8888888888888888,
              "#fdca26"
             ],
             [
              1,
              "#f0f921"
             ]
            ],
            "type": "heatmapgl"
           }
          ],
          "histogram": [
           {
            "marker": {
             "pattern": {
              "fillmode": "overlay",
              "size": 10,
              "solidity": 0.2
             }
            },
            "type": "histogram"
           }
          ],
          "histogram2d": [
           {
            "colorbar": {
             "outlinewidth": 0,
             "ticks": ""
            },
            "colorscale": [
             [
              0,
              "#0d0887"
             ],
             [
              0.1111111111111111,
              "#46039f"
             ],
             [
              0.2222222222222222,
              "#7201a8"
             ],
             [
              0.3333333333333333,
              "#9c179e"
             ],
             [
              0.4444444444444444,
              "#bd3786"
             ],
             [
              0.5555555555555556,
              "#d8576b"
             ],
             [
              0.6666666666666666,
              "#ed7953"
             ],
             [
              0.7777777777777778,
              "#fb9f3a"
             ],
             [
              0.8888888888888888,
              "#fdca26"
             ],
             [
              1,
              "#f0f921"
             ]
            ],
            "type": "histogram2d"
           }
          ],
          "histogram2dcontour": [
           {
            "colorbar": {
             "outlinewidth": 0,
             "ticks": ""
            },
            "colorscale": [
             [
              0,
              "#0d0887"
             ],
             [
              0.1111111111111111,
              "#46039f"
             ],
             [
              0.2222222222222222,
              "#7201a8"
             ],
             [
              0.3333333333333333,
              "#9c179e"
             ],
             [
              0.4444444444444444,
              "#bd3786"
             ],
             [
              0.5555555555555556,
              "#d8576b"
             ],
             [
              0.6666666666666666,
              "#ed7953"
             ],
             [
              0.7777777777777778,
              "#fb9f3a"
             ],
             [
              0.8888888888888888,
              "#fdca26"
             ],
             [
              1,
              "#f0f921"
             ]
            ],
            "type": "histogram2dcontour"
           }
          ],
          "mesh3d": [
           {
            "colorbar": {
             "outlinewidth": 0,
             "ticks": ""
            },
            "type": "mesh3d"
           }
          ],
          "parcoords": [
           {
            "line": {
             "colorbar": {
              "outlinewidth": 0,
              "ticks": ""
             }
            },
            "type": "parcoords"
           }
          ],
          "pie": [
           {
            "automargin": true,
            "type": "pie"
           }
          ],
          "scatter": [
           {
            "fillpattern": {
             "fillmode": "overlay",
             "size": 10,
             "solidity": 0.2
            },
            "type": "scatter"
           }
          ],
          "scatter3d": [
           {
            "line": {
             "colorbar": {
              "outlinewidth": 0,
              "ticks": ""
             }
            },
            "marker": {
             "colorbar": {
              "outlinewidth": 0,
              "ticks": ""
             }
            },
            "type": "scatter3d"
           }
          ],
          "scattercarpet": [
           {
            "marker": {
             "colorbar": {
              "outlinewidth": 0,
              "ticks": ""
             }
            },
            "type": "scattercarpet"
           }
          ],
          "scattergeo": [
           {
            "marker": {
             "colorbar": {
              "outlinewidth": 0,
              "ticks": ""
             }
            },
            "type": "scattergeo"
           }
          ],
          "scattergl": [
           {
            "marker": {
             "colorbar": {
              "outlinewidth": 0,
              "ticks": ""
             }
            },
            "type": "scattergl"
           }
          ],
          "scattermapbox": [
           {
            "marker": {
             "colorbar": {
              "outlinewidth": 0,
              "ticks": ""
             }
            },
            "type": "scattermapbox"
           }
          ],
          "scatterpolar": [
           {
            "marker": {
             "colorbar": {
              "outlinewidth": 0,
              "ticks": ""
             }
            },
            "type": "scatterpolar"
           }
          ],
          "scatterpolargl": [
           {
            "marker": {
             "colorbar": {
              "outlinewidth": 0,
              "ticks": ""
             }
            },
            "type": "scatterpolargl"
           }
          ],
          "scatterternary": [
           {
            "marker": {
             "colorbar": {
              "outlinewidth": 0,
              "ticks": ""
             }
            },
            "type": "scatterternary"
           }
          ],
          "surface": [
           {
            "colorbar": {
             "outlinewidth": 0,
             "ticks": ""
            },
            "colorscale": [
             [
              0,
              "#0d0887"
             ],
             [
              0.1111111111111111,
              "#46039f"
             ],
             [
              0.2222222222222222,
              "#7201a8"
             ],
             [
              0.3333333333333333,
              "#9c179e"
             ],
             [
              0.4444444444444444,
              "#bd3786"
             ],
             [
              0.5555555555555556,
              "#d8576b"
             ],
             [
              0.6666666666666666,
              "#ed7953"
             ],
             [
              0.7777777777777778,
              "#fb9f3a"
             ],
             [
              0.8888888888888888,
              "#fdca26"
             ],
             [
              1,
              "#f0f921"
             ]
            ],
            "type": "surface"
           }
          ],
          "table": [
           {
            "cells": {
             "fill": {
              "color": "#EBF0F8"
             },
             "line": {
              "color": "white"
             }
            },
            "header": {
             "fill": {
              "color": "#C8D4E3"
             },
             "line": {
              "color": "white"
             }
            },
            "type": "table"
           }
          ]
         },
         "layout": {
          "annotationdefaults": {
           "arrowcolor": "#2a3f5f",
           "arrowhead": 0,
           "arrowwidth": 1
          },
          "autotypenumbers": "strict",
          "coloraxis": {
           "colorbar": {
            "outlinewidth": 0,
            "ticks": ""
           }
          },
          "colorscale": {
           "diverging": [
            [
             0,
             "#8e0152"
            ],
            [
             0.1,
             "#c51b7d"
            ],
            [
             0.2,
             "#de77ae"
            ],
            [
             0.3,
             "#f1b6da"
            ],
            [
             0.4,
             "#fde0ef"
            ],
            [
             0.5,
             "#f7f7f7"
            ],
            [
             0.6,
             "#e6f5d0"
            ],
            [
             0.7,
             "#b8e186"
            ],
            [
             0.8,
             "#7fbc41"
            ],
            [
             0.9,
             "#4d9221"
            ],
            [
             1,
             "#276419"
            ]
           ],
           "sequential": [
            [
             0,
             "#0d0887"
            ],
            [
             0.1111111111111111,
             "#46039f"
            ],
            [
             0.2222222222222222,
             "#7201a8"
            ],
            [
             0.3333333333333333,
             "#9c179e"
            ],
            [
             0.4444444444444444,
             "#bd3786"
            ],
            [
             0.5555555555555556,
             "#d8576b"
            ],
            [
             0.6666666666666666,
             "#ed7953"
            ],
            [
             0.7777777777777778,
             "#fb9f3a"
            ],
            [
             0.8888888888888888,
             "#fdca26"
            ],
            [
             1,
             "#f0f921"
            ]
           ],
           "sequentialminus": [
            [
             0,
             "#0d0887"
            ],
            [
             0.1111111111111111,
             "#46039f"
            ],
            [
             0.2222222222222222,
             "#7201a8"
            ],
            [
             0.3333333333333333,
             "#9c179e"
            ],
            [
             0.4444444444444444,
             "#bd3786"
            ],
            [
             0.5555555555555556,
             "#d8576b"
            ],
            [
             0.6666666666666666,
             "#ed7953"
            ],
            [
             0.7777777777777778,
             "#fb9f3a"
            ],
            [
             0.8888888888888888,
             "#fdca26"
            ],
            [
             1,
             "#f0f921"
            ]
           ]
          },
          "colorway": [
           "#636efa",
           "#EF553B",
           "#00cc96",
           "#ab63fa",
           "#FFA15A",
           "#19d3f3",
           "#FF6692",
           "#B6E880",
           "#FF97FF",
           "#FECB52"
          ],
          "font": {
           "color": "#2a3f5f"
          },
          "geo": {
           "bgcolor": "white",
           "lakecolor": "white",
           "landcolor": "#E5ECF6",
           "showlakes": true,
           "showland": true,
           "subunitcolor": "white"
          },
          "hoverlabel": {
           "align": "left"
          },
          "hovermode": "closest",
          "mapbox": {
           "style": "light"
          },
          "paper_bgcolor": "white",
          "plot_bgcolor": "#E5ECF6",
          "polar": {
           "angularaxis": {
            "gridcolor": "white",
            "linecolor": "white",
            "ticks": ""
           },
           "bgcolor": "#E5ECF6",
           "radialaxis": {
            "gridcolor": "white",
            "linecolor": "white",
            "ticks": ""
           }
          },
          "scene": {
           "xaxis": {
            "backgroundcolor": "#E5ECF6",
            "gridcolor": "white",
            "gridwidth": 2,
            "linecolor": "white",
            "showbackground": true,
            "ticks": "",
            "zerolinecolor": "white"
           },
           "yaxis": {
            "backgroundcolor": "#E5ECF6",
            "gridcolor": "white",
            "gridwidth": 2,
            "linecolor": "white",
            "showbackground": true,
            "ticks": "",
            "zerolinecolor": "white"
           },
           "zaxis": {
            "backgroundcolor": "#E5ECF6",
            "gridcolor": "white",
            "gridwidth": 2,
            "linecolor": "white",
            "showbackground": true,
            "ticks": "",
            "zerolinecolor": "white"
           }
          },
          "shapedefaults": {
           "line": {
            "color": "#2a3f5f"
           }
          },
          "ternary": {
           "aaxis": {
            "gridcolor": "white",
            "linecolor": "white",
            "ticks": ""
           },
           "baxis": {
            "gridcolor": "white",
            "linecolor": "white",
            "ticks": ""
           },
           "bgcolor": "#E5ECF6",
           "caxis": {
            "gridcolor": "white",
            "linecolor": "white",
            "ticks": ""
           }
          },
          "title": {
           "x": 0.05
          },
          "xaxis": {
           "automargin": true,
           "gridcolor": "white",
           "linecolor": "white",
           "ticks": "",
           "title": {
            "standoff": 15
           },
           "zerolinecolor": "white",
           "zerolinewidth": 2
          },
          "yaxis": {
           "automargin": true,
           "gridcolor": "white",
           "linecolor": "white",
           "ticks": "",
           "title": {
            "standoff": 15
           },
           "zerolinecolor": "white",
           "zerolinewidth": 2
          }
         }
        },
        "title": {
         "text": "Population by Income for 5 Sample Census Tracts"
        },
        "xaxis": {
         "anchor": "y",
         "autorange": true,
         "domain": [
          0,
          1
         ],
         "range": [
          -0.5,
          4.5
         ],
         "title": {
          "text": "Census Tract"
         },
         "type": "category"
        },
        "yaxis": {
         "anchor": "x",
         "autorange": true,
         "domain": [
          0,
          1
         ],
         "range": [
          0,
          758.9473684210526
         ],
         "title": {
          "text": "Population"
         },
         "type": "linear"
        }
       }
      },
      "image/png": "[encoded data removed]",
      "text/html": [
       "<div>                            <div id=\"e9970f83-8043-4dbd-a328-5481470d2150\" class=\"plotly-graph-div\" style=\"height:525px; width:100%;\"></div>            <script type=\"text/javascript\">                require([\"plotly\"], function(Plotly) {                    window.PLOTLYENV=window.PLOTLYENV || {};                                    if (document.getElementById(\"e9970f83-8043-4dbd-a328-5481470d2150\")) {                    Plotly.newPlot(                        \"e9970f83-8043-4dbd-a328-5481470d2150\",                        [{\"alignmentgroup\":\"True\",\"hovertemplate\":\"Income=Less than $10,000<br>Census Tract=%{x}<br>Population=%{y}<extra></extra>\",\"legendgroup\":\"Less than $10,000\",\"marker\":{\"color\":\"#636efa\",\"pattern\":{\"shape\":\"\"}},\"name\":\"Less than $10,000\",\"offsetgroup\":\"Less than $10,000\",\"orientation\":\"v\",\"showlegend\":true,\"textposition\":\"auto\",\"x\":[\"402600\",\"402700\",\"402801\",\"402802\",\"402900\"],\"xaxis\":\"x\",\"y\":[65,116,87,176,170],\"yaxis\":\"y\",\"type\":\"bar\"},{\"alignmentgroup\":\"True\",\"hovertemplate\":\"Income=$10,000 to 14,999<br>Census Tract=%{x}<br>Population=%{y}<extra></extra>\",\"legendgroup\":\"$10,000 to 14,999\",\"marker\":{\"color\":\"#EF553B\",\"pattern\":{\"shape\":\"\"}},\"name\":\"$10,000 to 14,999\",\"offsetgroup\":\"$10,000 to 14,999\",\"orientation\":\"v\",\"showlegend\":true,\"textposition\":\"auto\",\"x\":[\"402600\",\"402700\",\"402801\",\"402802\",\"402900\"],\"xaxis\":\"x\",\"y\":[122,6,205,144,159],\"yaxis\":\"y\",\"type\":\"bar\"},{\"alignmentgroup\":\"True\",\"hovertemplate\":\"Income=$15,000 to 19,999<br>Census Tract=%{x}<br>Population=%{y}<extra></extra>\",\"legendgroup\":\"$15,000 to 19,999\",\"marker\":{\"color\":\"#00cc96\",\"pattern\":{\"shape\":\"\"}},\"name\":\"$15,000 to 19,999\",\"offsetgroup\":\"$15,000 to 19,999\",\"orientation\":\"v\",\"showlegend\":true,\"textposition\":\"auto\",\"x\":[\"402600\",\"402700\",\"402801\",\"402802\",\"402900\"],\"xaxis\":\"x\",\"y\":[24,30,62,99,42],\"yaxis\":\"y\",\"type\":\"bar\"},{\"alignmentgroup\":\"True\",\"hovertemplate\":\"Income=$20,000 to 24,999<br>Census Tract=%{x}<br>Population=%{y}<extra></extra>\",\"legendgroup\":\"$20,000 to 24,999\",\"marker\":{\"color\":\"#ab63fa\",\"pattern\":{\"shape\":\"\"}},\"name\":\"$20,000 to 24,999\",\"offsetgroup\":\"$20,000 to 24,999\",\"orientation\":\"v\",\"showlegend\":true,\"textposition\":\"auto\",\"x\":[\"402600\",\"402700\",\"402801\",\"402802\",\"402900\"],\"xaxis\":\"x\",\"y\":[16,18,42,0,107],\"yaxis\":\"y\",\"type\":\"bar\"},{\"alignmentgroup\":\"True\",\"hovertemplate\":\"Income=$25,000 to 29,999<br>Census Tract=%{x}<br>Population=%{y}<extra></extra>\",\"legendgroup\":\"$25,000 to 29,999\",\"marker\":{\"color\":\"#FFA15A\",\"pattern\":{\"shape\":\"\"}},\"name\":\"$25,000 to 29,999\",\"offsetgroup\":\"$25,000 to 29,999\",\"orientation\":\"v\",\"showlegend\":true,\"textposition\":\"auto\",\"x\":[\"402600\",\"402700\",\"402801\",\"402802\",\"402900\"],\"xaxis\":\"x\",\"y\":[26,27,212,0,4],\"yaxis\":\"y\",\"type\":\"bar\"},{\"alignmentgroup\":\"True\",\"hovertemplate\":\"Income=$30,000 to 34,999<br>Census Tract=%{x}<br>Population=%{y}<extra></extra>\",\"legendgroup\":\"$30,000 to 34,999\",\"marker\":{\"color\":\"#19d3f3\",\"pattern\":{\"shape\":\"\"}},\"name\":\"$30,000 to 34,999\",\"offsetgroup\":\"$30,000 to 34,999\",\"orientation\":\"v\",\"showlegend\":true,\"textposition\":\"auto\",\"x\":[\"402600\",\"402700\",\"402801\",\"402802\",\"402900\"],\"xaxis\":\"x\",\"y\":[17,25,33,18,50],\"yaxis\":\"y\",\"type\":\"bar\"},{\"alignmentgroup\":\"True\",\"hovertemplate\":\"Income=$35,000 to 39,999<br>Census Tract=%{x}<br>Population=%{y}<extra></extra>\",\"legendgroup\":\"$35,000 to 39,999\",\"marker\":{\"color\":\"#FF6692\",\"pattern\":{\"shape\":\"\"}},\"name\":\"$35,000 to 39,999\",\"offsetgroup\":\"$35,000 to 39,999\",\"orientation\":\"v\",\"showlegend\":true,\"textposition\":\"auto\",\"x\":[\"402600\",\"402700\",\"402801\",\"402802\",\"402900\"],\"xaxis\":\"x\",\"y\":[28,7,80,0,35],\"yaxis\":\"y\",\"type\":\"bar\"}],                        {\"template\":{\"data\":{\"histogram2dcontour\":[{\"type\":\"histogram2dcontour\",\"colorbar\":{\"outlinewidth\":0,\"ticks\":\"\"},\"colorscale\":[[0.0,\"#0d0887\"],[0.1111111111111111,\"#46039f\"],[0.2222222222222222,\"#7201a8\"],[0.3333333333333333,\"#9c179e\"],[0.4444444444444444,\"#bd3786\"],[0.5555555555555556,\"#d8576b\"],[0.6666666666666666,\"#ed7953\"],[0.7777777777777778,\"#fb9f3a\"],[0.8888888888888888,\"#fdca26\"],[1.0,\"#f0f921\"]]}],\"choropleth\":[{\"type\":\"choropleth\",\"colorbar\":{\"outlinewidth\":0,\"ticks\":\"\"}}],\"histogram2d\":[{\"type\":\"histogram2d\",\"colorbar\":{\"outlinewidth\":0,\"ticks\":\"\"},\"colorscale\":[[0.0,\"#0d0887\"],[0.1111111111111111,\"#46039f\"],[0.2222222222222222,\"#7201a8\"],[0.3333333333333333,\"#9c179e\"],[0.4444444444444444,\"#bd3786\"],[0.5555555555555556,\"#d8576b\"],[0.6666666666666666,\"#ed7953\"],[0.7777777777777778,\"#fb9f3a\"],[0.8888888888888888,\"#fdca26\"],[1.0,\"#f0f921\"]]}],\"heatmap\":[{\"type\":\"heatmap\",\"colorbar\":{\"outlinewidth\":0,\"ticks\":\"\"},\"colorscale\":[[0.0,\"#0d0887\"],[0.1111111111111111,\"#46039f\"],[0.2222222222222222,\"#7201a8\"],[0.3333333333333333,\"#9c179e\"],[0.4444444444444444,\"#bd3786\"],[0.5555555555555556,\"#d8576b\"],[0.6666666666666666,\"#ed7953\"],[0.7777777777777778,\"#fb9f3a\"],[0.8888888888888888,\"#fdca26\"],[1.0,\"#f0f921\"]]}],\"heatmapgl\":[{\"type\":\"heatmapgl\",\"colorbar\":{\"outlinewidth\":0,\"ticks\":\"\"},\"colorscale\":[[0.0,\"#0d0887\"],[0.1111111111111111,\"#46039f\"],[0.2222222222222222,\"#7201a8\"],[0.3333333333333333,\"#9c179e\"],[0.4444444444444444,\"#bd3786\"],[0.5555555555555556,\"#d8576b\"],[0.6666666666666666,\"#ed7953\"],[0.7777777777777778,\"#fb9f3a\"],[0.8888888888888888,\"#fdca26\"],[1.0,\"#f0f921\"]]}],\"contourcarpet\":[{\"type\":\"contourcarpet\",\"colorbar\":{\"outlinewidth\":0,\"ticks\":\"\"}}],\"contour\":[{\"type\":\"contour\",\"colorbar\":{\"outlinewidth\":0,\"ticks\":\"\"},\"colorscale\":[[0.0,\"#0d0887\"],[0.1111111111111111,\"#46039f\"],[0.2222222222222222,\"#7201a8\"],[0.3333333333333333,\"#9c179e\"],[0.4444444444444444,\"#bd3786\"],[0.5555555555555556,\"#d8576b\"],[0.6666666666666666,\"#ed7953\"],[0.7777777777777778,\"#fb9f3a\"],[0.8888888888888888,\"#fdca26\"],[1.0,\"#f0f921\"]]}],\"surface\":[{\"type\":\"surface\",\"colorbar\":{\"outlinewidth\":0,\"ticks\":\"\"},\"colorscale\":[[0.0,\"#0d0887\"],[0.1111111111111111,\"#46039f\"],[0.2222222222222222,\"#7201a8\"],[0.3333333333333333,\"#9c179e\"],[0.4444444444444444,\"#bd3786\"],[0.5555555555555556,\"#d8576b\"],[0.6666666666666666,\"#ed7953\"],[0.7777777777777778,\"#fb9f3a\"],[0.8888888888888888,\"#fdca26\"],[1.0,\"#f0f921\"]]}],\"mesh3d\":[{\"type\":\"mesh3d\",\"colorbar\":{\"outlinewidth\":0,\"ticks\":\"\"}}],\"scatter\":[{\"fillpattern\":{\"fillmode\":\"overlay\",\"size\":10,\"solidity\":0.2},\"type\":\"scatter\"}],\"parcoords\":[{\"type\":\"parcoords\",\"line\":{\"colorbar\":{\"outlinewidth\":0,\"ticks\":\"\"}}}],\"scatterpolargl\":[{\"type\":\"scatterpolargl\",\"marker\":{\"colorbar\":{\"outlinewidth\":0,\"ticks\":\"\"}}}],\"bar\":[{\"error_x\":{\"color\":\"#2a3f5f\"},\"error_y\":{\"color\":\"#2a3f5f\"},\"marker\":{\"line\":{\"color\":\"#E5ECF6\",\"width\":0.5},\"pattern\":{\"fillmode\":\"overlay\",\"size\":10,\"solidity\":0.2}},\"type\":\"bar\"}],\"scattergeo\":[{\"type\":\"scattergeo\",\"marker\":{\"colorbar\":{\"outlinewidth\":0,\"ticks\":\"\"}}}],\"scatterpolar\":[{\"type\":\"scatterpolar\",\"marker\":{\"colorbar\":{\"outlinewidth\":0,\"ticks\":\"\"}}}],\"histogram\":[{\"marker\":{\"pattern\":{\"fillmode\":\"overlay\",\"size\":10,\"solidity\":0.2}},\"type\":\"histogram\"}],\"scattergl\":[{\"type\":\"scattergl\",\"marker\":{\"colorbar\":{\"outlinewidth\":0,\"ticks\":\"\"}}}],\"scatter3d\":[{\"type\":\"scatter3d\",\"line\":{\"colorbar\":{\"outlinewidth\":0,\"ticks\":\"\"}},\"marker\":{\"colorbar\":{\"outlinewidth\":0,\"ticks\":\"\"}}}],\"scattermapbox\":[{\"type\":\"scattermapbox\",\"marker\":{\"colorbar\":{\"outlinewidth\":0,\"ticks\":\"\"}}}],\"scatterternary\":[{\"type\":\"scatterternary\",\"marker\":{\"colorbar\":{\"outlinewidth\":0,\"ticks\":\"\"}}}],\"scattercarpet\":[{\"type\":\"scattercarpet\",\"marker\":{\"colorbar\":{\"outlinewidth\":0,\"ticks\":\"\"}}}],\"carpet\":[{\"aaxis\":{\"endlinecolor\":\"#2a3f5f\",\"gridcolor\":\"white\",\"linecolor\":\"white\",\"minorgridcolor\":\"white\",\"startlinecolor\":\"#2a3f5f\"},\"baxis\":{\"endlinecolor\":\"#2a3f5f\",\"gridcolor\":\"white\",\"linecolor\":\"white\",\"minorgridcolor\":\"white\",\"startlinecolor\":\"#2a3f5f\"},\"type\":\"carpet\"}],\"table\":[{\"cells\":{\"fill\":{\"color\":\"#EBF0F8\"},\"line\":{\"color\":\"white\"}},\"header\":{\"fill\":{\"color\":\"#C8D4E3\"},\"line\":{\"color\":\"white\"}},\"type\":\"table\"}],\"barpolar\":[{\"marker\":{\"line\":{\"color\":\"#E5ECF6\",\"width\":0.5},\"pattern\":{\"fillmode\":\"overlay\",\"size\":10,\"solidity\":0.2}},\"type\":\"barpolar\"}],\"pie\":[{\"automargin\":true,\"type\":\"pie\"}]},\"layout\":{\"autotypenumbers\":\"strict\",\"colorway\":[\"#636efa\",\"#EF553B\",\"#00cc96\",\"#ab63fa\",\"#FFA15A\",\"#19d3f3\",\"#FF6692\",\"#B6E880\",\"#FF97FF\",\"#FECB52\"],\"font\":{\"color\":\"#2a3f5f\"},\"hovermode\":\"closest\",\"hoverlabel\":{\"align\":\"left\"},\"paper_bgcolor\":\"white\",\"plot_bgcolor\":\"#E5ECF6\",\"polar\":{\"bgcolor\":\"#E5ECF6\",\"angularaxis\":{\"gridcolor\":\"white\",\"linecolor\":\"white\",\"ticks\":\"\"},\"radialaxis\":{\"gridcolor\":\"white\",\"linecolor\":\"white\",\"ticks\":\"\"}},\"ternary\":{\"bgcolor\":\"#E5ECF6\",\"aaxis\":{\"gridcolor\":\"white\",\"linecolor\":\"white\",\"ticks\":\"\"},\"baxis\":{\"gridcolor\":\"white\",\"linecolor\":\"white\",\"ticks\":\"\"},\"caxis\":{\"gridcolor\":\"white\",\"linecolor\":\"white\",\"ticks\":\"\"}},\"coloraxis\":{\"colorbar\":{\"outlinewidth\":0,\"ticks\":\"\"}},\"colorscale\":{\"sequential\":[[0.0,\"#0d0887\"],[0.1111111111111111,\"#46039f\"],[0.2222222222222222,\"#7201a8\"],[0.3333333333333333,\"#9c179e\"],[0.4444444444444444,\"#bd3786\"],[0.5555555555555556,\"#d8576b\"],[0.6666666666666666,\"#ed7953\"],[0.7777777777777778,\"#fb9f3a\"],[0.8888888888888888,\"#fdca26\"],[1.0,\"#f0f921\"]],\"sequentialminus\":[[0.0,\"#0d0887\"],[0.1111111111111111,\"#46039f\"],[0.2222222222222222,\"#7201a8\"],[0.3333333333333333,\"#9c179e\"],[0.4444444444444444,\"#bd3786\"],[0.5555555555555556,\"#d8576b\"],[0.6666666666666666,\"#ed7953\"],[0.7777777777777778,\"#fb9f3a\"],[0.8888888888888888,\"#fdca26\"],[1.0,\"#f0f921\"]],\"diverging\":[[0,\"#8e0152\"],[0.1,\"#c51b7d\"],[0.2,\"#de77ae\"],[0.3,\"#f1b6da\"],[0.4,\"#fde0ef\"],[0.5,\"#f7f7f7\"],[0.6,\"#e6f5d0\"],[0.7,\"#b8e186\"],[0.8,\"#7fbc41\"],[0.9,\"#4d9221\"],[1,\"#276419\"]]},\"xaxis\":{\"gridcolor\":\"white\",\"linecolor\":\"white\",\"ticks\":\"\",\"title\":{\"standoff\":15},\"zerolinecolor\":\"white\",\"automargin\":true,\"zerolinewidth\":2},\"yaxis\":{\"gridcolor\":\"white\",\"linecolor\":\"white\",\"ticks\":\"\",\"title\":{\"standoff\":15},\"zerolinecolor\":\"white\",\"automargin\":true,\"zerolinewidth\":2},\"scene\":{\"xaxis\":{\"backgroundcolor\":\"#E5ECF6\",\"gridcolor\":\"white\",\"linecolor\":\"white\",\"showbackground\":true,\"ticks\":\"\",\"zerolinecolor\":\"white\",\"gridwidth\":2},\"yaxis\":{\"backgroundcolor\":\"#E5ECF6\",\"gridcolor\":\"white\",\"linecolor\":\"white\",\"showbackground\":true,\"ticks\":\"\",\"zerolinecolor\":\"white\",\"gridwidth\":2},\"zaxis\":{\"backgroundcolor\":\"#E5ECF6\",\"gridcolor\":\"white\",\"linecolor\":\"white\",\"showbackground\":true,\"ticks\":\"\",\"zerolinecolor\":\"white\",\"gridwidth\":2}},\"shapedefaults\":{\"line\":{\"color\":\"#2a3f5f\"}},\"annotationdefaults\":{\"arrowcolor\":\"#2a3f5f\",\"arrowhead\":0,\"arrowwidth\":1},\"geo\":{\"bgcolor\":\"white\",\"landcolor\":\"#E5ECF6\",\"subunitcolor\":\"white\",\"showland\":true,\"showlakes\":true,\"lakecolor\":\"white\"},\"title\":{\"x\":0.05},\"mapbox\":{\"style\":\"light\"}}},\"xaxis\":{\"anchor\":\"y\",\"domain\":[0.0,1.0],\"title\":{\"text\":\"Census Tract\"}},\"yaxis\":{\"anchor\":\"x\",\"domain\":[0.0,1.0],\"title\":{\"text\":\"Population\"}},\"legend\":{\"title\":{\"text\":\"Income\"},\"tracegroupgap\":0},\"title\":{\"text\":\"Population by Income for 5 Sample Census Tracts\"},\"barmode\":\"relative\"},                        {\"responsive\": true}                    ).then(function(){\n",
       "                            \n",
       "var gd = document.getElementById('e9970f83-8043-4dbd-a328-5481470d2150');\n",
       "var x = new MutationObserver(function (mutations, observer) {{\n",
       "        var display = window.getComputedStyle(gd).display;\n",
       "        if (!display || display === 'none') {{\n",
       "            console.log([gd, 'removed!']);\n",
       "            Plotly.purge(gd);\n",
       "            observer.disconnect();\n",
       "        }}\n",
       "}});\n",
       "\n",
       "// Listen for the removal of the full notebook cells\n",
       "var notebookContainer = gd.closest('#notebook-container');\n",
       "if (notebookContainer) {{\n",
       "    x.observe(notebookContainer, {childList: true});\n",
       "}}\n",
       "\n",
       "// Listen for the clearing of the current output cell\n",
       "var outputEl = gd.closest('.output');\n",
       "if (outputEl) {{\n",
       "    x.observe(outputEl, {childList: true});\n",
       "}}\n",
       "\n",
       "                        })                };                });            </script>        </div>"
      ]
     },
     "metadata": {},
     "output_type": "display_data"
    }
   ],
   "source": [
    "fig = px.bar(income_2,\n",
    "       x='Census Tract',\n",
    "       y='Population',\n",
    "       color='variable',\n",
    "       labels={'variable':'Income'},\n",
    "       title='Population by Income for 5 Sample Census Tracts'\n",
    ")\n",
    "\n",
    "fig.show()"
   ]
  }
 ],
 "metadata": {
  "kernelspec": {
   "display_name": "Python 3 (ipykernel)",
   "language": "python",
   "name": "python3"
  },
  "language_info": {
   "codemirror_mode": {
    "name": "ipython",
    "version": 3
   },
   "file_extension": ".py",
   "mimetype": "text/x-python",
   "name": "python",
   "nbconvert_exporter": "python",
   "pygments_lexer": "ipython3",
   "version": "3.10.8"
  }
 },
 "nbformat": 4,
 "nbformat_minor": 5
}
