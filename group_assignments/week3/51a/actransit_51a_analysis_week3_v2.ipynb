{
 "cells": [
  {
   "cell_type": "markdown",
   "id": "dda340fa-e9d2-48db-93ae-0f134b3fba08",
   "metadata": {},
   "source": [
    "## Title: Profile of Census Tracts Along AC Transit 51A\n",
    "#### Description: AC Transit 51A runs through several tracts in Oakland and Alameda, California. This file features Plotly stacked bar graphs using Census variables relating to demographics, housing, and transportation characteristics of these tracts.\n",
    "#### Author: Purva Kapshikar"
   ]
  },
  {
   "cell_type": "code",
   "execution_count": 1,
   "id": "2bbf495a-2292-4104-bf25-556707616757",
   "metadata": {},
   "outputs": [],
   "source": [
    "import pandas as pd\n",
    "import geopandas as gpd\n",
    "import plotly.express as px"
   ]
  },
  {
   "cell_type": "markdown",
   "id": "0d012cd6-3f63-4f94-8e8a-b851ab9692b1",
   "metadata": {},
   "source": [
    "### Reading in data"
   ]
  },
  {
   "cell_type": "code",
   "execution_count": 2,
   "id": "45042d48-1f8c-4e78-91d7-07550903e9c9",
   "metadata": {},
   "outputs": [],
   "source": [
    "data = pd.read_csv(\"tracts_data_51a.csv\")"
   ]
  },
  {
   "cell_type": "code",
   "execution_count": 3,
   "id": "3dad2c64-6675-4b0f-bb7b-f185af208bea",
   "metadata": {},
   "outputs": [
    {
     "data": {
      "text/plain": [
       "dtype('int64')"
      ]
     },
     "execution_count": 3,
     "metadata": {},
     "output_type": "execute_result"
    }
   ],
   "source": [
    "data[\"FIPS\"].dtype"
   ]
  },
  {
   "cell_type": "markdown",
   "id": "61f37604-c2fd-44ee-97bc-c864c91d919e",
   "metadata": {},
   "source": [
    "### Join to CSV with geometry column"
   ]
  },
  {
   "cell_type": "code",
   "execution_count": 4,
   "id": "b4a98f4b-2f46-4676-b27f-d0dd27fb2006",
   "metadata": {},
   "outputs": [],
   "source": [
    "geom_data = pd.read_csv(\"tracts_51A.csv\")"
   ]
  },
  {
   "cell_type": "code",
   "execution_count": 33,
   "id": "5e46be5d-6d36-4063-b57c-d321ba31985f",
   "metadata": {},
   "outputs": [],
   "source": [
    "geom_data = geom_data.rename(columns={\"GEOID\": \"FIPS\"})\n",
    "geom_data = geom_data.loc[:, [\"FIPS\", \"geometry\"]]"
   ]
  },
  {
   "cell_type": "code",
   "execution_count": 34,
   "id": "6313c137-564e-4216-a4e0-cd02a0f675f1",
   "metadata": {},
   "outputs": [
    {
     "data": {
      "text/plain": [
       "dtype('int64')"
      ]
     },
     "execution_count": 34,
     "metadata": {},
     "output_type": "execute_result"
    }
   ],
   "source": [
    "geom_data[\"FIPS\"].dtype"
   ]
  },
  {
   "cell_type": "markdown",
   "id": "9ce83e29-d81a-42c5-bc8d-4cf7cce85ce7",
   "metadata": {},
   "source": [
    "Since both \"FIPS\" codes in the two dataframes are the same data type, we can merge the geometry column from the `geom_data` table to the initial `data`."
   ]
  },
  {
   "cell_type": "code",
   "execution_count": 35,
   "id": "c0838118-a052-4dba-85d6-f1f66d3da66e",
   "metadata": {},
   "outputs": [
    {
     "data": {
      "text/html": [
       "<div>\n",
       "<style scoped>\n",
       "    .dataframe tbody tr th:only-of-type {\n",
       "        vertical-align: middle;\n",
       "    }\n",
       "\n",
       "    .dataframe tbody tr th {\n",
       "        vertical-align: top;\n",
       "    }\n",
       "\n",
       "    .dataframe thead th {\n",
       "        text-align: right;\n",
       "    }\n",
       "</style>\n",
       "<table border=\"1\" class=\"dataframe\">\n",
       "  <thead>\n",
       "    <tr style=\"text-align: right;\">\n",
       "      <th></th>\n",
       "      <th>FIPS</th>\n",
       "      <th>Qualifying Name</th>\n",
       "      <th>File identification</th>\n",
       "      <th>State Postal Abbreviation</th>\n",
       "      <th>Summary Level</th>\n",
       "      <th>Geographic Component</th>\n",
       "      <th>Logical Record Number</th>\n",
       "      <th>State (FIPS Code)</th>\n",
       "      <th>County of current residence</th>\n",
       "      <th>Census Tract</th>\n",
       "      <th>...</th>\n",
       "      <th>Total Population: Female: 15 to 17 Years</th>\n",
       "      <th>Total Population: Female: 18 to 24 Years</th>\n",
       "      <th>Total Population: Female: 25 to 34 Years</th>\n",
       "      <th>Total Population: Female: 35 to 44 Years</th>\n",
       "      <th>Total Population: Female: 45 to 54 Years</th>\n",
       "      <th>Total Population: Female: 55 to 64 Years</th>\n",
       "      <th>Total Population: Female: 65 to 74 Years</th>\n",
       "      <th>Total Population: Female: 75 to 84 Years</th>\n",
       "      <th>Total Population: Female: 85 Years and Over</th>\n",
       "      <th>geometry</th>\n",
       "    </tr>\n",
       "  </thead>\n",
       "  <tbody>\n",
       "    <tr>\n",
       "      <th>0</th>\n",
       "      <td>6001400200</td>\n",
       "      <td>Census Tract 4002, Alameda County, California</td>\n",
       "      <td>ACSSF</td>\n",
       "      <td>ca</td>\n",
       "      <td>140</td>\n",
       "      <td>0</td>\n",
       "      <td>2819</td>\n",
       "      <td>6</td>\n",
       "      <td>1</td>\n",
       "      <td>400200</td>\n",
       "      <td>...</td>\n",
       "      <td>39</td>\n",
       "      <td>34</td>\n",
       "      <td>191</td>\n",
       "      <td>122</td>\n",
       "      <td>147</td>\n",
       "      <td>98</td>\n",
       "      <td>146</td>\n",
       "      <td>88</td>\n",
       "      <td>6</td>\n",
       "      <td>POLYGON ((-13609668.02650254 4557245.143044413...</td>\n",
       "    </tr>\n",
       "    <tr>\n",
       "      <th>1</th>\n",
       "      <td>6001400300</td>\n",
       "      <td>Census Tract 4003, Alameda County, California</td>\n",
       "      <td>ACSSF</td>\n",
       "      <td>ca</td>\n",
       "      <td>140</td>\n",
       "      <td>0</td>\n",
       "      <td>2820</td>\n",
       "      <td>6</td>\n",
       "      <td>1</td>\n",
       "      <td>400300</td>\n",
       "      <td>...</td>\n",
       "      <td>29</td>\n",
       "      <td>73</td>\n",
       "      <td>614</td>\n",
       "      <td>303</td>\n",
       "      <td>517</td>\n",
       "      <td>167</td>\n",
       "      <td>402</td>\n",
       "      <td>90</td>\n",
       "      <td>177</td>\n",
       "      <td>POLYGON ((-13610540.43735189 4556544.289386773...</td>\n",
       "    </tr>\n",
       "    <tr>\n",
       "      <th>2</th>\n",
       "      <td>6001400400</td>\n",
       "      <td>Census Tract 4004, Alameda County, California</td>\n",
       "      <td>ACSSF</td>\n",
       "      <td>ca</td>\n",
       "      <td>140</td>\n",
       "      <td>0</td>\n",
       "      <td>2821</td>\n",
       "      <td>6</td>\n",
       "      <td>1</td>\n",
       "      <td>400400</td>\n",
       "      <td>...</td>\n",
       "      <td>22</td>\n",
       "      <td>100</td>\n",
       "      <td>588</td>\n",
       "      <td>386</td>\n",
       "      <td>311</td>\n",
       "      <td>224</td>\n",
       "      <td>241</td>\n",
       "      <td>79</td>\n",
       "      <td>38</td>\n",
       "      <td>POLYGON ((-13610121.87606651 4557100.091216017...</td>\n",
       "    </tr>\n",
       "    <tr>\n",
       "      <th>3</th>\n",
       "      <td>6001401100</td>\n",
       "      <td>Census Tract 4011, Alameda County, California</td>\n",
       "      <td>ACSSF</td>\n",
       "      <td>ca</td>\n",
       "      <td>140</td>\n",
       "      <td>0</td>\n",
       "      <td>2828</td>\n",
       "      <td>6</td>\n",
       "      <td>1</td>\n",
       "      <td>401100</td>\n",
       "      <td>...</td>\n",
       "      <td>0</td>\n",
       "      <td>279</td>\n",
       "      <td>900</td>\n",
       "      <td>398</td>\n",
       "      <td>473</td>\n",
       "      <td>77</td>\n",
       "      <td>139</td>\n",
       "      <td>43</td>\n",
       "      <td>38</td>\n",
       "      <td>POLYGON ((-13610864.48838959 4554707.239539972...</td>\n",
       "    </tr>\n",
       "    <tr>\n",
       "      <th>4</th>\n",
       "      <td>6001401200</td>\n",
       "      <td>Census Tract 4012, Alameda County, California</td>\n",
       "      <td>ACSSF</td>\n",
       "      <td>ca</td>\n",
       "      <td>140</td>\n",
       "      <td>0</td>\n",
       "      <td>2829</td>\n",
       "      <td>6</td>\n",
       "      <td>1</td>\n",
       "      <td>401200</td>\n",
       "      <td>...</td>\n",
       "      <td>1</td>\n",
       "      <td>70</td>\n",
       "      <td>441</td>\n",
       "      <td>241</td>\n",
       "      <td>203</td>\n",
       "      <td>211</td>\n",
       "      <td>70</td>\n",
       "      <td>34</td>\n",
       "      <td>11</td>\n",
       "      <td>POLYGON ((-13610152.04364851 4554551.794405404...</td>\n",
       "    </tr>\n",
       "  </tbody>\n",
       "</table>\n",
       "<p>5 rows × 112 columns</p>\n",
       "</div>"
      ],
      "text/plain": [
       "         FIPS                                Qualifying Name  \\\n",
       "0  6001400200  Census Tract 4002, Alameda County, California   \n",
       "1  6001400300  Census Tract 4003, Alameda County, California   \n",
       "2  6001400400  Census Tract 4004, Alameda County, California   \n",
       "3  6001401100  Census Tract 4011, Alameda County, California   \n",
       "4  6001401200  Census Tract 4012, Alameda County, California   \n",
       "\n",
       "  File identification State Postal Abbreviation  Summary Level  \\\n",
       "0               ACSSF                        ca            140   \n",
       "1               ACSSF                        ca            140   \n",
       "2               ACSSF                        ca            140   \n",
       "3               ACSSF                        ca            140   \n",
       "4               ACSSF                        ca            140   \n",
       "\n",
       "   Geographic Component  Logical Record Number  State (FIPS Code)  \\\n",
       "0                     0                   2819                  6   \n",
       "1                     0                   2820                  6   \n",
       "2                     0                   2821                  6   \n",
       "3                     0                   2828                  6   \n",
       "4                     0                   2829                  6   \n",
       "\n",
       "   County of current residence  Census Tract  ...  \\\n",
       "0                            1        400200  ...   \n",
       "1                            1        400300  ...   \n",
       "2                            1        400400  ...   \n",
       "3                            1        401100  ...   \n",
       "4                            1        401200  ...   \n",
       "\n",
       "  Total Population: Female: 15 to 17 Years  \\\n",
       "0                                       39   \n",
       "1                                       29   \n",
       "2                                       22   \n",
       "3                                        0   \n",
       "4                                        1   \n",
       "\n",
       "  Total Population: Female: 18 to 24 Years  \\\n",
       "0                                       34   \n",
       "1                                       73   \n",
       "2                                      100   \n",
       "3                                      279   \n",
       "4                                       70   \n",
       "\n",
       "   Total Population: Female: 25 to 34 Years  \\\n",
       "0                                       191   \n",
       "1                                       614   \n",
       "2                                       588   \n",
       "3                                       900   \n",
       "4                                       441   \n",
       "\n",
       "   Total Population: Female: 35 to 44 Years  \\\n",
       "0                                       122   \n",
       "1                                       303   \n",
       "2                                       386   \n",
       "3                                       398   \n",
       "4                                       241   \n",
       "\n",
       "   Total Population: Female: 45 to 54 Years  \\\n",
       "0                                       147   \n",
       "1                                       517   \n",
       "2                                       311   \n",
       "3                                       473   \n",
       "4                                       203   \n",
       "\n",
       "   Total Population: Female: 55 to 64 Years  \\\n",
       "0                                        98   \n",
       "1                                       167   \n",
       "2                                       224   \n",
       "3                                        77   \n",
       "4                                       211   \n",
       "\n",
       "   Total Population: Female: 65 to 74 Years  \\\n",
       "0                                       146   \n",
       "1                                       402   \n",
       "2                                       241   \n",
       "3                                       139   \n",
       "4                                        70   \n",
       "\n",
       "   Total Population: Female: 75 to 84 Years  \\\n",
       "0                                        88   \n",
       "1                                        90   \n",
       "2                                        79   \n",
       "3                                        43   \n",
       "4                                        34   \n",
       "\n",
       "   Total Population: Female: 85 Years and Over  \\\n",
       "0                                            6   \n",
       "1                                          177   \n",
       "2                                           38   \n",
       "3                                           38   \n",
       "4                                           11   \n",
       "\n",
       "                                            geometry  \n",
       "0  POLYGON ((-13609668.02650254 4557245.143044413...  \n",
       "1  POLYGON ((-13610540.43735189 4556544.289386773...  \n",
       "2  POLYGON ((-13610121.87606651 4557100.091216017...  \n",
       "3  POLYGON ((-13610864.48838959 4554707.239539972...  \n",
       "4  POLYGON ((-13610152.04364851 4554551.794405404...  \n",
       "\n",
       "[5 rows x 112 columns]"
      ]
     },
     "execution_count": 35,
     "metadata": {},
     "output_type": "execute_result"
    }
   ],
   "source": [
    "joined_data = data.merge(right=geom_data, on=\"FIPS\")\n",
    "joined_data.head()"
   ]
  },
  {
   "cell_type": "markdown",
   "id": "004d43b1-ca14-490d-b3a8-15d872ec7a3d",
   "metadata": {},
   "source": [
    "We first make the `joined_data` dataframe into a geodataframe."
   ]
  },
  {
   "cell_type": "code",
   "execution_count": 36,
   "id": "5570929a-4cef-4523-8cb8-fc30b5d1eda3",
   "metadata": {},
   "outputs": [],
   "source": [
    "joined_data['geometry'] = gpd.GeoSeries.from_wkt(joined_data['geometry'])\n",
    "geo_df = gpd.GeoDataFrame(joined_data, geometry='geometry')"
   ]
  },
  {
   "cell_type": "markdown",
   "id": "3123637c-a9ea-4111-9406-1e7ad3a497a6",
   "metadata": {},
   "source": [
    "### Stacked bar chart"
   ]
  },
  {
   "cell_type": "markdown",
   "id": "e9739de8-2f27-4203-9a2e-15900977f91a",
   "metadata": {},
   "source": [
    "#### Mode Share"
   ]
  },
  {
   "cell_type": "markdown",
   "id": "c4b23017-8688-4690-b3e9-6b5196538bec",
   "metadata": {},
   "source": [
    "I updated the headers for the mode share variables as they were very long."
   ]
  },
  {
   "cell_type": "code",
   "execution_count": 52,
   "id": "18e56d48-9fbf-4f73-ba59-47c4ac58f28d",
   "metadata": {},
   "outputs": [],
   "source": [
    "modes = [\"Car, Truck, or Van\", \"Drove Alone\", \"Carpooled\", \"Public Transportation (Includes Taxicab)\", \"Motorcycle\", \"Bicycle\", \"Walked\", \"Other Means\"]\n",
    "\n",
    "for i in range(8):\n",
    "    geo_df = geo_df.rename(columns={\"Workers 16 Years and Over: \" + modes[i]: modes[i]})"
   ]
  },
  {
   "cell_type": "markdown",
   "id": "215acf19-9c56-4371-a46a-ad1dc3db6c23",
   "metadata": {},
   "source": [
    "I filtered out the 10 tracts that had the highest public transit ridership."
   ]
  },
  {
   "cell_type": "code",
   "execution_count": 97,
   "id": "867eb62f-bada-43e7-a81a-6f62ff246c93",
   "metadata": {},
   "outputs": [],
   "source": [
    "top_transit_tracts = geo_df.sort_values(by=\"Public Transportation (Includes Taxicab)\", ascending = False).head(10)"
   ]
  },
  {
   "cell_type": "markdown",
   "id": "04aff12d-9916-4263-9aa5-3ac44f94d48b",
   "metadata": {},
   "source": [
    "I converted this dataframe to be in a long dataframe format."
   ]
  },
  {
   "cell_type": "code",
   "execution_count": 98,
   "id": "5272346b-4a2c-46e0-b9c3-3d98520757b6",
   "metadata": {},
   "outputs": [],
   "source": [
    "transpo_long = pd.melt(top_transit_tracts, id_vars='Census Tract', value_vars=modes)"
   ]
  },
  {
   "cell_type": "code",
   "execution_count": 94,
   "id": "5ced2600-0766-4e65-9f88-c7b157a495c5",
   "metadata": {},
   "outputs": [],
   "source": [
    "transpo_long[\"Census Tract\"] = transpo_long[\"Census Tract\"].astype(str)"
   ]
  },
  {
   "cell_type": "code",
   "execution_count": 95,
   "id": "0ef14fdc-1fa8-45c4-9ab2-ad023e744d45",
   "metadata": {},
   "outputs": [
    {
     "data": {
      "application/vnd.plotly.v1+json": {
       "config": {
        "plotlyServerURL": "https://plot.ly"
       },
       "data": [
        {
         "alignmentgroup": "True",
         "hovertemplate": "Transportation mode=Car, Truck, or Van<br>Census Tract=%{x}<br>Count=%{y}<extra></extra>",
         "legendgroup": "Car, Truck, or Van",
         "marker": {
          "color": "#636efa",
          "pattern": {
           "shape": ""
          }
         },
         "name": "Car, Truck, or Van",
         "offsetgroup": "Car, Truck, or Van",
         "orientation": "v",
         "showlegend": true,
         "textposition": "auto",
         "type": "bar",
         "x": [
          "401100",
          "400300",
          "407200",
          "401300",
          "402801",
          "404101",
          "403501",
          "403302",
          "427900",
          "401200"
         ],
         "xaxis": "x",
         "y": [
          1041,
          1148,
          1900,
          994,
          375,
          907,
          1337,
          537,
          1603,
          761
         ],
         "yaxis": "y"
        },
        {
         "alignmentgroup": "True",
         "hovertemplate": "Transportation mode=Drove Alone<br>Census Tract=%{x}<br>Count=%{y}<extra></extra>",
         "legendgroup": "Drove Alone",
         "marker": {
          "color": "#EF553B",
          "pattern": {
           "shape": ""
          }
         },
         "name": "Drove Alone",
         "offsetgroup": "Drove Alone",
         "orientation": "v",
         "showlegend": true,
         "textposition": "auto",
         "type": "bar",
         "x": [
          "401100",
          "400300",
          "407200",
          "401300",
          "402801",
          "404101",
          "403501",
          "403302",
          "427900",
          "401200"
         ],
         "xaxis": "x",
         "y": [
          957,
          1001,
          1644,
          874,
          356,
          730,
          1146,
          513,
          1375,
          652
         ],
         "yaxis": "y"
        },
        {
         "alignmentgroup": "True",
         "hovertemplate": "Transportation mode=Carpooled<br>Census Tract=%{x}<br>Count=%{y}<extra></extra>",
         "legendgroup": "Carpooled",
         "marker": {
          "color": "#00cc96",
          "pattern": {
           "shape": ""
          }
         },
         "name": "Carpooled",
         "offsetgroup": "Carpooled",
         "orientation": "v",
         "showlegend": true,
         "textposition": "auto",
         "type": "bar",
         "x": [
          "401100",
          "400300",
          "407200",
          "401300",
          "402801",
          "404101",
          "403501",
          "403302",
          "427900",
          "401200"
         ],
         "xaxis": "x",
         "y": [
          84,
          147,
          256,
          120,
          19,
          177,
          191,
          24,
          228,
          109
         ],
         "yaxis": "y"
        },
        {
         "alignmentgroup": "True",
         "hovertemplate": "Transportation mode=Public Transportation (Includes Taxicab)<br>Census Tract=%{x}<br>Count=%{y}<extra></extra>",
         "legendgroup": "Public Transportation (Includes Taxicab)",
         "marker": {
          "color": "#ab63fa",
          "pattern": {
           "shape": ""
          }
         },
         "name": "Public Transportation (Includes Taxicab)",
         "offsetgroup": "Public Transportation (Includes Taxicab)",
         "orientation": "v",
         "showlegend": true,
         "textposition": "auto",
         "type": "bar",
         "x": [
          "401100",
          "400300",
          "407200",
          "401300",
          "402801",
          "404101",
          "403501",
          "403302",
          "427900",
          "401200"
         ],
         "xaxis": "x",
         "y": [
          1373,
          954,
          824,
          744,
          706,
          652,
          642,
          631,
          574,
          523
         ],
         "yaxis": "y"
        },
        {
         "alignmentgroup": "True",
         "hovertemplate": "Transportation mode=Motorcycle<br>Census Tract=%{x}<br>Count=%{y}<extra></extra>",
         "legendgroup": "Motorcycle",
         "marker": {
          "color": "#FFA15A",
          "pattern": {
           "shape": ""
          }
         },
         "name": "Motorcycle",
         "offsetgroup": "Motorcycle",
         "orientation": "v",
         "showlegend": true,
         "textposition": "auto",
         "type": "bar",
         "x": [
          "401100",
          "400300",
          "407200",
          "401300",
          "402801",
          "404101",
          "403501",
          "403302",
          "427900",
          "401200"
         ],
         "xaxis": "x",
         "y": [
          25,
          46,
          0,
          54,
          32,
          16,
          49,
          99,
          11,
          0
         ],
         "yaxis": "y"
        },
        {
         "alignmentgroup": "True",
         "hovertemplate": "Transportation mode=Bicycle<br>Census Tract=%{x}<br>Count=%{y}<extra></extra>",
         "legendgroup": "Bicycle",
         "marker": {
          "color": "#19d3f3",
          "pattern": {
           "shape": ""
          }
         },
         "name": "Bicycle",
         "offsetgroup": "Bicycle",
         "orientation": "v",
         "showlegend": true,
         "textposition": "auto",
         "type": "bar",
         "x": [
          "401100",
          "400300",
          "407200",
          "401300",
          "402801",
          "404101",
          "403501",
          "403302",
          "427900",
          "401200"
         ],
         "xaxis": "x",
         "y": [
          123,
          109,
          60,
          137,
          52,
          68,
          148,
          55,
          77,
          96
         ],
         "yaxis": "y"
        },
        {
         "alignmentgroup": "True",
         "hovertemplate": "Transportation mode=Walked<br>Census Tract=%{x}<br>Count=%{y}<extra></extra>",
         "legendgroup": "Walked",
         "marker": {
          "color": "#FF6692",
          "pattern": {
           "shape": ""
          }
         },
         "name": "Walked",
         "offsetgroup": "Walked",
         "orientation": "v",
         "showlegend": true,
         "textposition": "auto",
         "type": "bar",
         "x": [
          "401100",
          "400300",
          "407200",
          "401300",
          "402801",
          "404101",
          "403501",
          "403302",
          "427900",
          "401200"
         ],
         "xaxis": "x",
         "y": [
          141,
          103,
          144,
          264,
          214,
          146,
          244,
          278,
          103,
          79
         ],
         "yaxis": "y"
        },
        {
         "alignmentgroup": "True",
         "hovertemplate": "Transportation mode=Other Means<br>Census Tract=%{x}<br>Count=%{y}<extra></extra>",
         "legendgroup": "Other Means",
         "marker": {
          "color": "#B6E880",
          "pattern": {
           "shape": ""
          }
         },
         "name": "Other Means",
         "offsetgroup": "Other Means",
         "orientation": "v",
         "showlegend": true,
         "textposition": "auto",
         "type": "bar",
         "x": [
          "401100",
          "400300",
          "407200",
          "401300",
          "402801",
          "404101",
          "403501",
          "403302",
          "427900",
          "401200"
         ],
         "xaxis": "x",
         "y": [
          14,
          0,
          72,
          0,
          16,
          0,
          103,
          31,
          0,
          29
         ],
         "yaxis": "y"
        }
       ],
       "layout": {
        "autosize": true,
        "barmode": "relative",
        "legend": {
         "title": {
          "text": "Transportation mode"
         },
         "tracegroupgap": 0
        },
        "template": {
         "data": {
          "bar": [
           {
            "error_x": {
             "color": "#2a3f5f"
            },
            "error_y": {
             "color": "#2a3f5f"
            },
            "marker": {
             "line": {
              "color": "#E5ECF6",
              "width": 0.5
             },
             "pattern": {
              "fillmode": "overlay",
              "size": 10,
              "solidity": 0.2
             }
            },
            "type": "bar"
           }
          ],
          "barpolar": [
           {
            "marker": {
             "line": {
              "color": "#E5ECF6",
              "width": 0.5
             },
             "pattern": {
              "fillmode": "overlay",
              "size": 10,
              "solidity": 0.2
             }
            },
            "type": "barpolar"
           }
          ],
          "carpet": [
           {
            "aaxis": {
             "endlinecolor": "#2a3f5f",
             "gridcolor": "white",
             "linecolor": "white",
             "minorgridcolor": "white",
             "startlinecolor": "#2a3f5f"
            },
            "baxis": {
             "endlinecolor": "#2a3f5f",
             "gridcolor": "white",
             "linecolor": "white",
             "minorgridcolor": "white",
             "startlinecolor": "#2a3f5f"
            },
            "type": "carpet"
           }
          ],
          "choropleth": [
           {
            "colorbar": {
             "outlinewidth": 0,
             "ticks": ""
            },
            "type": "choropleth"
           }
          ],
          "contour": [
           {
            "colorbar": {
             "outlinewidth": 0,
             "ticks": ""
            },
            "colorscale": [
             [
              0,
              "#0d0887"
             ],
             [
              0.1111111111111111,
              "#46039f"
             ],
             [
              0.2222222222222222,
              "#7201a8"
             ],
             [
              0.3333333333333333,
              "#9c179e"
             ],
             [
              0.4444444444444444,
              "#bd3786"
             ],
             [
              0.5555555555555556,
              "#d8576b"
             ],
             [
              0.6666666666666666,
              "#ed7953"
             ],
             [
              0.7777777777777778,
              "#fb9f3a"
             ],
             [
              0.8888888888888888,
              "#fdca26"
             ],
             [
              1,
              "#f0f921"
             ]
            ],
            "type": "contour"
           }
          ],
          "contourcarpet": [
           {
            "colorbar": {
             "outlinewidth": 0,
             "ticks": ""
            },
            "type": "contourcarpet"
           }
          ],
          "heatmap": [
           {
            "colorbar": {
             "outlinewidth": 0,
             "ticks": ""
            },
            "colorscale": [
             [
              0,
              "#0d0887"
             ],
             [
              0.1111111111111111,
              "#46039f"
             ],
             [
              0.2222222222222222,
              "#7201a8"
             ],
             [
              0.3333333333333333,
              "#9c179e"
             ],
             [
              0.4444444444444444,
              "#bd3786"
             ],
             [
              0.5555555555555556,
              "#d8576b"
             ],
             [
              0.6666666666666666,
              "#ed7953"
             ],
             [
              0.7777777777777778,
              "#fb9f3a"
             ],
             [
              0.8888888888888888,
              "#fdca26"
             ],
             [
              1,
              "#f0f921"
             ]
            ],
            "type": "heatmap"
           }
          ],
          "heatmapgl": [
           {
            "colorbar": {
             "outlinewidth": 0,
             "ticks": ""
            },
            "colorscale": [
             [
              0,
              "#0d0887"
             ],
             [
              0.1111111111111111,
              "#46039f"
             ],
             [
              0.2222222222222222,
              "#7201a8"
             ],
             [
              0.3333333333333333,
              "#9c179e"
             ],
             [
              0.4444444444444444,
              "#bd3786"
             ],
             [
              0.5555555555555556,
              "#d8576b"
             ],
             [
              0.6666666666666666,
              "#ed7953"
             ],
             [
              0.7777777777777778,
              "#fb9f3a"
             ],
             [
              0.8888888888888888,
              "#fdca26"
             ],
             [
              1,
              "#f0f921"
             ]
            ],
            "type": "heatmapgl"
           }
          ],
          "histogram": [
           {
            "marker": {
             "pattern": {
              "fillmode": "overlay",
              "size": 10,
              "solidity": 0.2
             }
            },
            "type": "histogram"
           }
          ],
          "histogram2d": [
           {
            "colorbar": {
             "outlinewidth": 0,
             "ticks": ""
            },
            "colorscale": [
             [
              0,
              "#0d0887"
             ],
             [
              0.1111111111111111,
              "#46039f"
             ],
             [
              0.2222222222222222,
              "#7201a8"
             ],
             [
              0.3333333333333333,
              "#9c179e"
             ],
             [
              0.4444444444444444,
              "#bd3786"
             ],
             [
              0.5555555555555556,
              "#d8576b"
             ],
             [
              0.6666666666666666,
              "#ed7953"
             ],
             [
              0.7777777777777778,
              "#fb9f3a"
             ],
             [
              0.8888888888888888,
              "#fdca26"
             ],
             [
              1,
              "#f0f921"
             ]
            ],
            "type": "histogram2d"
           }
          ],
          "histogram2dcontour": [
           {
            "colorbar": {
             "outlinewidth": 0,
             "ticks": ""
            },
            "colorscale": [
             [
              0,
              "#0d0887"
             ],
             [
              0.1111111111111111,
              "#46039f"
             ],
             [
              0.2222222222222222,
              "#7201a8"
             ],
             [
              0.3333333333333333,
              "#9c179e"
             ],
             [
              0.4444444444444444,
              "#bd3786"
             ],
             [
              0.5555555555555556,
              "#d8576b"
             ],
             [
              0.6666666666666666,
              "#ed7953"
             ],
             [
              0.7777777777777778,
              "#fb9f3a"
             ],
             [
              0.8888888888888888,
              "#fdca26"
             ],
             [
              1,
              "#f0f921"
             ]
            ],
            "type": "histogram2dcontour"
           }
          ],
          "mesh3d": [
           {
            "colorbar": {
             "outlinewidth": 0,
             "ticks": ""
            },
            "type": "mesh3d"
           }
          ],
          "parcoords": [
           {
            "line": {
             "colorbar": {
              "outlinewidth": 0,
              "ticks": ""
             }
            },
            "type": "parcoords"
           }
          ],
          "pie": [
           {
            "automargin": true,
            "type": "pie"
           }
          ],
          "scatter": [
           {
            "fillpattern": {
             "fillmode": "overlay",
             "size": 10,
             "solidity": 0.2
            },
            "type": "scatter"
           }
          ],
          "scatter3d": [
           {
            "line": {
             "colorbar": {
              "outlinewidth": 0,
              "ticks": ""
             }
            },
            "marker": {
             "colorbar": {
              "outlinewidth": 0,
              "ticks": ""
             }
            },
            "type": "scatter3d"
           }
          ],
          "scattercarpet": [
           {
            "marker": {
             "colorbar": {
              "outlinewidth": 0,
              "ticks": ""
             }
            },
            "type": "scattercarpet"
           }
          ],
          "scattergeo": [
           {
            "marker": {
             "colorbar": {
              "outlinewidth": 0,
              "ticks": ""
             }
            },
            "type": "scattergeo"
           }
          ],
          "scattergl": [
           {
            "marker": {
             "colorbar": {
              "outlinewidth": 0,
              "ticks": ""
             }
            },
            "type": "scattergl"
           }
          ],
          "scattermapbox": [
           {
            "marker": {
             "colorbar": {
              "outlinewidth": 0,
              "ticks": ""
             }
            },
            "type": "scattermapbox"
           }
          ],
          "scatterpolar": [
           {
            "marker": {
             "colorbar": {
              "outlinewidth": 0,
              "ticks": ""
             }
            },
            "type": "scatterpolar"
           }
          ],
          "scatterpolargl": [
           {
            "marker": {
             "colorbar": {
              "outlinewidth": 0,
              "ticks": ""
             }
            },
            "type": "scatterpolargl"
           }
          ],
          "scatterternary": [
           {
            "marker": {
             "colorbar": {
              "outlinewidth": 0,
              "ticks": ""
             }
            },
            "type": "scatterternary"
           }
          ],
          "surface": [
           {
            "colorbar": {
             "outlinewidth": 0,
             "ticks": ""
            },
            "colorscale": [
             [
              0,
              "#0d0887"
             ],
             [
              0.1111111111111111,
              "#46039f"
             ],
             [
              0.2222222222222222,
              "#7201a8"
             ],
             [
              0.3333333333333333,
              "#9c179e"
             ],
             [
              0.4444444444444444,
              "#bd3786"
             ],
             [
              0.5555555555555556,
              "#d8576b"
             ],
             [
              0.6666666666666666,
              "#ed7953"
             ],
             [
              0.7777777777777778,
              "#fb9f3a"
             ],
             [
              0.8888888888888888,
              "#fdca26"
             ],
             [
              1,
              "#f0f921"
             ]
            ],
            "type": "surface"
           }
          ],
          "table": [
           {
            "cells": {
             "fill": {
              "color": "#EBF0F8"
             },
             "line": {
              "color": "white"
             }
            },
            "header": {
             "fill": {
              "color": "#C8D4E3"
             },
             "line": {
              "color": "white"
             }
            },
            "type": "table"
           }
          ]
         },
         "layout": {
          "annotationdefaults": {
           "arrowcolor": "#2a3f5f",
           "arrowhead": 0,
           "arrowwidth": 1
          },
          "autotypenumbers": "strict",
          "coloraxis": {
           "colorbar": {
            "outlinewidth": 0,
            "ticks": ""
           }
          },
          "colorscale": {
           "diverging": [
            [
             0,
             "#8e0152"
            ],
            [
             0.1,
             "#c51b7d"
            ],
            [
             0.2,
             "#de77ae"
            ],
            [
             0.3,
             "#f1b6da"
            ],
            [
             0.4,
             "#fde0ef"
            ],
            [
             0.5,
             "#f7f7f7"
            ],
            [
             0.6,
             "#e6f5d0"
            ],
            [
             0.7,
             "#b8e186"
            ],
            [
             0.8,
             "#7fbc41"
            ],
            [
             0.9,
             "#4d9221"
            ],
            [
             1,
             "#276419"
            ]
           ],
           "sequential": [
            [
             0,
             "#0d0887"
            ],
            [
             0.1111111111111111,
             "#46039f"
            ],
            [
             0.2222222222222222,
             "#7201a8"
            ],
            [
             0.3333333333333333,
             "#9c179e"
            ],
            [
             0.4444444444444444,
             "#bd3786"
            ],
            [
             0.5555555555555556,
             "#d8576b"
            ],
            [
             0.6666666666666666,
             "#ed7953"
            ],
            [
             0.7777777777777778,
             "#fb9f3a"
            ],
            [
             0.8888888888888888,
             "#fdca26"
            ],
            [
             1,
             "#f0f921"
            ]
           ],
           "sequentialminus": [
            [
             0,
             "#0d0887"
            ],
            [
             0.1111111111111111,
             "#46039f"
            ],
            [
             0.2222222222222222,
             "#7201a8"
            ],
            [
             0.3333333333333333,
             "#9c179e"
            ],
            [
             0.4444444444444444,
             "#bd3786"
            ],
            [
             0.5555555555555556,
             "#d8576b"
            ],
            [
             0.6666666666666666,
             "#ed7953"
            ],
            [
             0.7777777777777778,
             "#fb9f3a"
            ],
            [
             0.8888888888888888,
             "#fdca26"
            ],
            [
             1,
             "#f0f921"
            ]
           ]
          },
          "colorway": [
           "#636efa",
           "#EF553B",
           "#00cc96",
           "#ab63fa",
           "#FFA15A",
           "#19d3f3",
           "#FF6692",
           "#B6E880",
           "#FF97FF",
           "#FECB52"
          ],
          "font": {
           "color": "#2a3f5f"
          },
          "geo": {
           "bgcolor": "white",
           "lakecolor": "white",
           "landcolor": "#E5ECF6",
           "showlakes": true,
           "showland": true,
           "subunitcolor": "white"
          },
          "hoverlabel": {
           "align": "left"
          },
          "hovermode": "closest",
          "mapbox": {
           "style": "light"
          },
          "paper_bgcolor": "white",
          "plot_bgcolor": "#E5ECF6",
          "polar": {
           "angularaxis": {
            "gridcolor": "white",
            "linecolor": "white",
            "ticks": ""
           },
           "bgcolor": "#E5ECF6",
           "radialaxis": {
            "gridcolor": "white",
            "linecolor": "white",
            "ticks": ""
           }
          },
          "scene": {
           "xaxis": {
            "backgroundcolor": "#E5ECF6",
            "gridcolor": "white",
            "gridwidth": 2,
            "linecolor": "white",
            "showbackground": true,
            "ticks": "",
            "zerolinecolor": "white"
           },
           "yaxis": {
            "backgroundcolor": "#E5ECF6",
            "gridcolor": "white",
            "gridwidth": 2,
            "linecolor": "white",
            "showbackground": true,
            "ticks": "",
            "zerolinecolor": "white"
           },
           "zaxis": {
            "backgroundcolor": "#E5ECF6",
            "gridcolor": "white",
            "gridwidth": 2,
            "linecolor": "white",
            "showbackground": true,
            "ticks": "",
            "zerolinecolor": "white"
           }
          },
          "shapedefaults": {
           "line": {
            "color": "#2a3f5f"
           }
          },
          "ternary": {
           "aaxis": {
            "gridcolor": "white",
            "linecolor": "white",
            "ticks": ""
           },
           "baxis": {
            "gridcolor": "white",
            "linecolor": "white",
            "ticks": ""
           },
           "bgcolor": "#E5ECF6",
           "caxis": {
            "gridcolor": "white",
            "linecolor": "white",
            "ticks": ""
           }
          },
          "title": {
           "x": 0.05
          },
          "xaxis": {
           "automargin": true,
           "gridcolor": "white",
           "linecolor": "white",
           "ticks": "",
           "title": {
            "standoff": 15
           },
           "zerolinecolor": "white",
           "zerolinewidth": 2
          },
          "yaxis": {
           "automargin": true,
           "gridcolor": "white",
           "linecolor": "white",
           "ticks": "",
           "title": {
            "standoff": 15
           },
           "zerolinecolor": "white",
           "zerolinewidth": 2
          }
         }
        },
        "title": {
         "text": "Mode share in top 10 Census Tracts with highest transit ridership"
        },
        "xaxis": {
         "anchor": "y",
         "autorange": true,
         "domain": [
          0,
          1
         ],
         "range": [
          -0.5,
          9.5
         ],
         "title": {
          "text": "Census Tract"
         },
         "type": "category"
        },
        "yaxis": {
         "anchor": "x",
         "autorange": true,
         "domain": [
          0,
          1
         ],
         "range": [
          0,
          5157.894736842105
         ],
         "title": {
          "text": "Count"
         },
         "type": "linear"
        }
       }
      },
      "image/png": "[encoded data removed]",
      "text/html": [
       "<div>                            <div id=\"8a414807-5677-4a08-9bc0-750fa23ebb25\" class=\"plotly-graph-div\" style=\"height:525px; width:100%;\"></div>            <script type=\"text/javascript\">                require([\"plotly\"], function(Plotly) {                    window.PLOTLYENV=window.PLOTLYENV || {};                                    if (document.getElementById(\"8a414807-5677-4a08-9bc0-750fa23ebb25\")) {                    Plotly.newPlot(                        \"8a414807-5677-4a08-9bc0-750fa23ebb25\",                        [{\"alignmentgroup\":\"True\",\"hovertemplate\":\"Transportation mode=Car, Truck, or Van<br>Census Tract=%{x}<br>Count=%{y}<extra></extra>\",\"legendgroup\":\"Car, Truck, or Van\",\"marker\":{\"color\":\"#636efa\",\"pattern\":{\"shape\":\"\"}},\"name\":\"Car, Truck, or Van\",\"offsetgroup\":\"Car, Truck, or Van\",\"orientation\":\"v\",\"showlegend\":true,\"textposition\":\"auto\",\"x\":[\"401100\",\"400300\",\"407200\",\"401300\",\"402801\",\"404101\",\"403501\",\"403302\",\"427900\",\"401200\"],\"xaxis\":\"x\",\"y\":[1041,1148,1900,994,375,907,1337,537,1603,761],\"yaxis\":\"y\",\"type\":\"bar\"},{\"alignmentgroup\":\"True\",\"hovertemplate\":\"Transportation mode=Drove Alone<br>Census Tract=%{x}<br>Count=%{y}<extra></extra>\",\"legendgroup\":\"Drove Alone\",\"marker\":{\"color\":\"#EF553B\",\"pattern\":{\"shape\":\"\"}},\"name\":\"Drove Alone\",\"offsetgroup\":\"Drove Alone\",\"orientation\":\"v\",\"showlegend\":true,\"textposition\":\"auto\",\"x\":[\"401100\",\"400300\",\"407200\",\"401300\",\"402801\",\"404101\",\"403501\",\"403302\",\"427900\",\"401200\"],\"xaxis\":\"x\",\"y\":[957,1001,1644,874,356,730,1146,513,1375,652],\"yaxis\":\"y\",\"type\":\"bar\"},{\"alignmentgroup\":\"True\",\"hovertemplate\":\"Transportation mode=Carpooled<br>Census Tract=%{x}<br>Count=%{y}<extra></extra>\",\"legendgroup\":\"Carpooled\",\"marker\":{\"color\":\"#00cc96\",\"pattern\":{\"shape\":\"\"}},\"name\":\"Carpooled\",\"offsetgroup\":\"Carpooled\",\"orientation\":\"v\",\"showlegend\":true,\"textposition\":\"auto\",\"x\":[\"401100\",\"400300\",\"407200\",\"401300\",\"402801\",\"404101\",\"403501\",\"403302\",\"427900\",\"401200\"],\"xaxis\":\"x\",\"y\":[84,147,256,120,19,177,191,24,228,109],\"yaxis\":\"y\",\"type\":\"bar\"},{\"alignmentgroup\":\"True\",\"hovertemplate\":\"Transportation mode=Public Transportation (Includes Taxicab)<br>Census Tract=%{x}<br>Count=%{y}<extra></extra>\",\"legendgroup\":\"Public Transportation (Includes Taxicab)\",\"marker\":{\"color\":\"#ab63fa\",\"pattern\":{\"shape\":\"\"}},\"name\":\"Public Transportation (Includes Taxicab)\",\"offsetgroup\":\"Public Transportation (Includes Taxicab)\",\"orientation\":\"v\",\"showlegend\":true,\"textposition\":\"auto\",\"x\":[\"401100\",\"400300\",\"407200\",\"401300\",\"402801\",\"404101\",\"403501\",\"403302\",\"427900\",\"401200\"],\"xaxis\":\"x\",\"y\":[1373,954,824,744,706,652,642,631,574,523],\"yaxis\":\"y\",\"type\":\"bar\"},{\"alignmentgroup\":\"True\",\"hovertemplate\":\"Transportation mode=Motorcycle<br>Census Tract=%{x}<br>Count=%{y}<extra></extra>\",\"legendgroup\":\"Motorcycle\",\"marker\":{\"color\":\"#FFA15A\",\"pattern\":{\"shape\":\"\"}},\"name\":\"Motorcycle\",\"offsetgroup\":\"Motorcycle\",\"orientation\":\"v\",\"showlegend\":true,\"textposition\":\"auto\",\"x\":[\"401100\",\"400300\",\"407200\",\"401300\",\"402801\",\"404101\",\"403501\",\"403302\",\"427900\",\"401200\"],\"xaxis\":\"x\",\"y\":[25,46,0,54,32,16,49,99,11,0],\"yaxis\":\"y\",\"type\":\"bar\"},{\"alignmentgroup\":\"True\",\"hovertemplate\":\"Transportation mode=Bicycle<br>Census Tract=%{x}<br>Count=%{y}<extra></extra>\",\"legendgroup\":\"Bicycle\",\"marker\":{\"color\":\"#19d3f3\",\"pattern\":{\"shape\":\"\"}},\"name\":\"Bicycle\",\"offsetgroup\":\"Bicycle\",\"orientation\":\"v\",\"showlegend\":true,\"textposition\":\"auto\",\"x\":[\"401100\",\"400300\",\"407200\",\"401300\",\"402801\",\"404101\",\"403501\",\"403302\",\"427900\",\"401200\"],\"xaxis\":\"x\",\"y\":[123,109,60,137,52,68,148,55,77,96],\"yaxis\":\"y\",\"type\":\"bar\"},{\"alignmentgroup\":\"True\",\"hovertemplate\":\"Transportation mode=Walked<br>Census Tract=%{x}<br>Count=%{y}<extra></extra>\",\"legendgroup\":\"Walked\",\"marker\":{\"color\":\"#FF6692\",\"pattern\":{\"shape\":\"\"}},\"name\":\"Walked\",\"offsetgroup\":\"Walked\",\"orientation\":\"v\",\"showlegend\":true,\"textposition\":\"auto\",\"x\":[\"401100\",\"400300\",\"407200\",\"401300\",\"402801\",\"404101\",\"403501\",\"403302\",\"427900\",\"401200\"],\"xaxis\":\"x\",\"y\":[141,103,144,264,214,146,244,278,103,79],\"yaxis\":\"y\",\"type\":\"bar\"},{\"alignmentgroup\":\"True\",\"hovertemplate\":\"Transportation mode=Other Means<br>Census Tract=%{x}<br>Count=%{y}<extra></extra>\",\"legendgroup\":\"Other Means\",\"marker\":{\"color\":\"#B6E880\",\"pattern\":{\"shape\":\"\"}},\"name\":\"Other Means\",\"offsetgroup\":\"Other Means\",\"orientation\":\"v\",\"showlegend\":true,\"textposition\":\"auto\",\"x\":[\"401100\",\"400300\",\"407200\",\"401300\",\"402801\",\"404101\",\"403501\",\"403302\",\"427900\",\"401200\"],\"xaxis\":\"x\",\"y\":[14,0,72,0,16,0,103,31,0,29],\"yaxis\":\"y\",\"type\":\"bar\"}],                        {\"template\":{\"data\":{\"histogram2dcontour\":[{\"type\":\"histogram2dcontour\",\"colorbar\":{\"outlinewidth\":0,\"ticks\":\"\"},\"colorscale\":[[0.0,\"#0d0887\"],[0.1111111111111111,\"#46039f\"],[0.2222222222222222,\"#7201a8\"],[0.3333333333333333,\"#9c179e\"],[0.4444444444444444,\"#bd3786\"],[0.5555555555555556,\"#d8576b\"],[0.6666666666666666,\"#ed7953\"],[0.7777777777777778,\"#fb9f3a\"],[0.8888888888888888,\"#fdca26\"],[1.0,\"#f0f921\"]]}],\"choropleth\":[{\"type\":\"choropleth\",\"colorbar\":{\"outlinewidth\":0,\"ticks\":\"\"}}],\"histogram2d\":[{\"type\":\"histogram2d\",\"colorbar\":{\"outlinewidth\":0,\"ticks\":\"\"},\"colorscale\":[[0.0,\"#0d0887\"],[0.1111111111111111,\"#46039f\"],[0.2222222222222222,\"#7201a8\"],[0.3333333333333333,\"#9c179e\"],[0.4444444444444444,\"#bd3786\"],[0.5555555555555556,\"#d8576b\"],[0.6666666666666666,\"#ed7953\"],[0.7777777777777778,\"#fb9f3a\"],[0.8888888888888888,\"#fdca26\"],[1.0,\"#f0f921\"]]}],\"heatmap\":[{\"type\":\"heatmap\",\"colorbar\":{\"outlinewidth\":0,\"ticks\":\"\"},\"colorscale\":[[0.0,\"#0d0887\"],[0.1111111111111111,\"#46039f\"],[0.2222222222222222,\"#7201a8\"],[0.3333333333333333,\"#9c179e\"],[0.4444444444444444,\"#bd3786\"],[0.5555555555555556,\"#d8576b\"],[0.6666666666666666,\"#ed7953\"],[0.7777777777777778,\"#fb9f3a\"],[0.8888888888888888,\"#fdca26\"],[1.0,\"#f0f921\"]]}],\"heatmapgl\":[{\"type\":\"heatmapgl\",\"colorbar\":{\"outlinewidth\":0,\"ticks\":\"\"},\"colorscale\":[[0.0,\"#0d0887\"],[0.1111111111111111,\"#46039f\"],[0.2222222222222222,\"#7201a8\"],[0.3333333333333333,\"#9c179e\"],[0.4444444444444444,\"#bd3786\"],[0.5555555555555556,\"#d8576b\"],[0.6666666666666666,\"#ed7953\"],[0.7777777777777778,\"#fb9f3a\"],[0.8888888888888888,\"#fdca26\"],[1.0,\"#f0f921\"]]}],\"contourcarpet\":[{\"type\":\"contourcarpet\",\"colorbar\":{\"outlinewidth\":0,\"ticks\":\"\"}}],\"contour\":[{\"type\":\"contour\",\"colorbar\":{\"outlinewidth\":0,\"ticks\":\"\"},\"colorscale\":[[0.0,\"#0d0887\"],[0.1111111111111111,\"#46039f\"],[0.2222222222222222,\"#7201a8\"],[0.3333333333333333,\"#9c179e\"],[0.4444444444444444,\"#bd3786\"],[0.5555555555555556,\"#d8576b\"],[0.6666666666666666,\"#ed7953\"],[0.7777777777777778,\"#fb9f3a\"],[0.8888888888888888,\"#fdca26\"],[1.0,\"#f0f921\"]]}],\"surface\":[{\"type\":\"surface\",\"colorbar\":{\"outlinewidth\":0,\"ticks\":\"\"},\"colorscale\":[[0.0,\"#0d0887\"],[0.1111111111111111,\"#46039f\"],[0.2222222222222222,\"#7201a8\"],[0.3333333333333333,\"#9c179e\"],[0.4444444444444444,\"#bd3786\"],[0.5555555555555556,\"#d8576b\"],[0.6666666666666666,\"#ed7953\"],[0.7777777777777778,\"#fb9f3a\"],[0.8888888888888888,\"#fdca26\"],[1.0,\"#f0f921\"]]}],\"mesh3d\":[{\"type\":\"mesh3d\",\"colorbar\":{\"outlinewidth\":0,\"ticks\":\"\"}}],\"scatter\":[{\"fillpattern\":{\"fillmode\":\"overlay\",\"size\":10,\"solidity\":0.2},\"type\":\"scatter\"}],\"parcoords\":[{\"type\":\"parcoords\",\"line\":{\"colorbar\":{\"outlinewidth\":0,\"ticks\":\"\"}}}],\"scatterpolargl\":[{\"type\":\"scatterpolargl\",\"marker\":{\"colorbar\":{\"outlinewidth\":0,\"ticks\":\"\"}}}],\"bar\":[{\"error_x\":{\"color\":\"#2a3f5f\"},\"error_y\":{\"color\":\"#2a3f5f\"},\"marker\":{\"line\":{\"color\":\"#E5ECF6\",\"width\":0.5},\"pattern\":{\"fillmode\":\"overlay\",\"size\":10,\"solidity\":0.2}},\"type\":\"bar\"}],\"scattergeo\":[{\"type\":\"scattergeo\",\"marker\":{\"colorbar\":{\"outlinewidth\":0,\"ticks\":\"\"}}}],\"scatterpolar\":[{\"type\":\"scatterpolar\",\"marker\":{\"colorbar\":{\"outlinewidth\":0,\"ticks\":\"\"}}}],\"histogram\":[{\"marker\":{\"pattern\":{\"fillmode\":\"overlay\",\"size\":10,\"solidity\":0.2}},\"type\":\"histogram\"}],\"scattergl\":[{\"type\":\"scattergl\",\"marker\":{\"colorbar\":{\"outlinewidth\":0,\"ticks\":\"\"}}}],\"scatter3d\":[{\"type\":\"scatter3d\",\"line\":{\"colorbar\":{\"outlinewidth\":0,\"ticks\":\"\"}},\"marker\":{\"colorbar\":{\"outlinewidth\":0,\"ticks\":\"\"}}}],\"scattermapbox\":[{\"type\":\"scattermapbox\",\"marker\":{\"colorbar\":{\"outlinewidth\":0,\"ticks\":\"\"}}}],\"scatterternary\":[{\"type\":\"scatterternary\",\"marker\":{\"colorbar\":{\"outlinewidth\":0,\"ticks\":\"\"}}}],\"scattercarpet\":[{\"type\":\"scattercarpet\",\"marker\":{\"colorbar\":{\"outlinewidth\":0,\"ticks\":\"\"}}}],\"carpet\":[{\"aaxis\":{\"endlinecolor\":\"#2a3f5f\",\"gridcolor\":\"white\",\"linecolor\":\"white\",\"minorgridcolor\":\"white\",\"startlinecolor\":\"#2a3f5f\"},\"baxis\":{\"endlinecolor\":\"#2a3f5f\",\"gridcolor\":\"white\",\"linecolor\":\"white\",\"minorgridcolor\":\"white\",\"startlinecolor\":\"#2a3f5f\"},\"type\":\"carpet\"}],\"table\":[{\"cells\":{\"fill\":{\"color\":\"#EBF0F8\"},\"line\":{\"color\":\"white\"}},\"header\":{\"fill\":{\"color\":\"#C8D4E3\"},\"line\":{\"color\":\"white\"}},\"type\":\"table\"}],\"barpolar\":[{\"marker\":{\"line\":{\"color\":\"#E5ECF6\",\"width\":0.5},\"pattern\":{\"fillmode\":\"overlay\",\"size\":10,\"solidity\":0.2}},\"type\":\"barpolar\"}],\"pie\":[{\"automargin\":true,\"type\":\"pie\"}]},\"layout\":{\"autotypenumbers\":\"strict\",\"colorway\":[\"#636efa\",\"#EF553B\",\"#00cc96\",\"#ab63fa\",\"#FFA15A\",\"#19d3f3\",\"#FF6692\",\"#B6E880\",\"#FF97FF\",\"#FECB52\"],\"font\":{\"color\":\"#2a3f5f\"},\"hovermode\":\"closest\",\"hoverlabel\":{\"align\":\"left\"},\"paper_bgcolor\":\"white\",\"plot_bgcolor\":\"#E5ECF6\",\"polar\":{\"bgcolor\":\"#E5ECF6\",\"angularaxis\":{\"gridcolor\":\"white\",\"linecolor\":\"white\",\"ticks\":\"\"},\"radialaxis\":{\"gridcolor\":\"white\",\"linecolor\":\"white\",\"ticks\":\"\"}},\"ternary\":{\"bgcolor\":\"#E5ECF6\",\"aaxis\":{\"gridcolor\":\"white\",\"linecolor\":\"white\",\"ticks\":\"\"},\"baxis\":{\"gridcolor\":\"white\",\"linecolor\":\"white\",\"ticks\":\"\"},\"caxis\":{\"gridcolor\":\"white\",\"linecolor\":\"white\",\"ticks\":\"\"}},\"coloraxis\":{\"colorbar\":{\"outlinewidth\":0,\"ticks\":\"\"}},\"colorscale\":{\"sequential\":[[0.0,\"#0d0887\"],[0.1111111111111111,\"#46039f\"],[0.2222222222222222,\"#7201a8\"],[0.3333333333333333,\"#9c179e\"],[0.4444444444444444,\"#bd3786\"],[0.5555555555555556,\"#d8576b\"],[0.6666666666666666,\"#ed7953\"],[0.7777777777777778,\"#fb9f3a\"],[0.8888888888888888,\"#fdca26\"],[1.0,\"#f0f921\"]],\"sequentialminus\":[[0.0,\"#0d0887\"],[0.1111111111111111,\"#46039f\"],[0.2222222222222222,\"#7201a8\"],[0.3333333333333333,\"#9c179e\"],[0.4444444444444444,\"#bd3786\"],[0.5555555555555556,\"#d8576b\"],[0.6666666666666666,\"#ed7953\"],[0.7777777777777778,\"#fb9f3a\"],[0.8888888888888888,\"#fdca26\"],[1.0,\"#f0f921\"]],\"diverging\":[[0,\"#8e0152\"],[0.1,\"#c51b7d\"],[0.2,\"#de77ae\"],[0.3,\"#f1b6da\"],[0.4,\"#fde0ef\"],[0.5,\"#f7f7f7\"],[0.6,\"#e6f5d0\"],[0.7,\"#b8e186\"],[0.8,\"#7fbc41\"],[0.9,\"#4d9221\"],[1,\"#276419\"]]},\"xaxis\":{\"gridcolor\":\"white\",\"linecolor\":\"white\",\"ticks\":\"\",\"title\":{\"standoff\":15},\"zerolinecolor\":\"white\",\"automargin\":true,\"zerolinewidth\":2},\"yaxis\":{\"gridcolor\":\"white\",\"linecolor\":\"white\",\"ticks\":\"\",\"title\":{\"standoff\":15},\"zerolinecolor\":\"white\",\"automargin\":true,\"zerolinewidth\":2},\"scene\":{\"xaxis\":{\"backgroundcolor\":\"#E5ECF6\",\"gridcolor\":\"white\",\"linecolor\":\"white\",\"showbackground\":true,\"ticks\":\"\",\"zerolinecolor\":\"white\",\"gridwidth\":2},\"yaxis\":{\"backgroundcolor\":\"#E5ECF6\",\"gridcolor\":\"white\",\"linecolor\":\"white\",\"showbackground\":true,\"ticks\":\"\",\"zerolinecolor\":\"white\",\"gridwidth\":2},\"zaxis\":{\"backgroundcolor\":\"#E5ECF6\",\"gridcolor\":\"white\",\"linecolor\":\"white\",\"showbackground\":true,\"ticks\":\"\",\"zerolinecolor\":\"white\",\"gridwidth\":2}},\"shapedefaults\":{\"line\":{\"color\":\"#2a3f5f\"}},\"annotationdefaults\":{\"arrowcolor\":\"#2a3f5f\",\"arrowhead\":0,\"arrowwidth\":1},\"geo\":{\"bgcolor\":\"white\",\"landcolor\":\"#E5ECF6\",\"subunitcolor\":\"white\",\"showland\":true,\"showlakes\":true,\"lakecolor\":\"white\"},\"title\":{\"x\":0.05},\"mapbox\":{\"style\":\"light\"}}},\"xaxis\":{\"anchor\":\"y\",\"domain\":[0.0,1.0],\"title\":{\"text\":\"Census Tract\"}},\"yaxis\":{\"anchor\":\"x\",\"domain\":[0.0,1.0],\"title\":{\"text\":\"Count\"}},\"legend\":{\"title\":{\"text\":\"Transportation mode\"},\"tracegroupgap\":0},\"title\":{\"text\":\"Mode share in top 10 Census Tracts with highest transit ridership\"},\"barmode\":\"relative\"},                        {\"responsive\": true}                    ).then(function(){\n",
       "                            \n",
       "var gd = document.getElementById('8a414807-5677-4a08-9bc0-750fa23ebb25');\n",
       "var x = new MutationObserver(function (mutations, observer) {{\n",
       "        var display = window.getComputedStyle(gd).display;\n",
       "        if (!display || display === 'none') {{\n",
       "            console.log([gd, 'removed!']);\n",
       "            Plotly.purge(gd);\n",
       "            observer.disconnect();\n",
       "        }}\n",
       "}});\n",
       "\n",
       "// Listen for the removal of the full notebook cells\n",
       "var notebookContainer = gd.closest('#notebook-container');\n",
       "if (notebookContainer) {{\n",
       "    x.observe(notebookContainer, {childList: true});\n",
       "}}\n",
       "\n",
       "// Listen for the clearing of the current output cell\n",
       "var outputEl = gd.closest('.output');\n",
       "if (outputEl) {{\n",
       "    x.observe(outputEl, {childList: true});\n",
       "}}\n",
       "\n",
       "                        })                };                });            </script>        </div>"
      ]
     },
     "metadata": {},
     "output_type": "display_data"
    }
   ],
   "source": [
    "fig = px.bar(transpo_long, x=\"Census Tract\", y=\"value\", color=\"variable\", \n",
    "            labels={\n",
    "                     \"value\": \"Count\",\n",
    "                     \"variable\": \"Transportation mode\",\n",
    "                 },\n",
    "                title=\"Mode share in top 10 Census Tracts with highest transit ridership\")\n",
    "\n",
    "fig.show()"
   ]
  },
  {
   "cell_type": "markdown",
   "id": "5ce06e52-1ca1-47ae-a730-78adbdcfcea7",
   "metadata": {},
   "source": [
    "#### Vehicles Available"
   ]
  },
  {
   "cell_type": "markdown",
   "id": "1aabda6b-5638-4089-8197-1d555e0382d7",
   "metadata": {},
   "source": [
    "I updated the headers for the vehicle count variables as they were very long."
   ]
  },
  {
   "cell_type": "code",
   "execution_count": 82,
   "id": "4c4d157d-511d-41ae-87a8-345fe0a631d0",
   "metadata": {},
   "outputs": [],
   "source": [
    "vehicle_counts = [\"None\", \"1\", \"2\", \"3\", \"4\", \"5\"]\n",
    "\n",
    "for i in range(6):\n",
    "    geo_df = geo_df.rename(columns={\"Renter-Occupied Housing Units: \" + vehicle_counts[i]: vehicle_counts[i]})"
   ]
  },
  {
   "cell_type": "markdown",
   "id": "7e2c8586-487c-4b0b-8bfe-8840de426225",
   "metadata": {},
   "source": [
    "I filtered out the top 10 tracts that have the most zero-car households."
   ]
  },
  {
   "cell_type": "code",
   "execution_count": 87,
   "id": "629fb459-e5a3-4782-a694-a94c51371868",
   "metadata": {},
   "outputs": [],
   "source": [
    "top_zero_car_tracts = geo_df.sort_values(by=\"No Vehicle Available\", ascending = False).head(5)\n",
    "top_zero_car_tracts = top_zero_car_tracts.rename(columns={'No Vehicle Available':'None','1 Vehicle Available': '1','2 Vehicles Available':'2','3 Vehicles Available':'3','4 Vehicles Available':'4','5 or More Vehicles Available':'5'})"
   ]
  },
  {
   "cell_type": "code",
   "execution_count": 113,
   "id": "be002e58-24eb-454f-8790-feda27eb72ff",
   "metadata": {},
   "outputs": [],
   "source": [
    "top_zero_car_tracts['Area Name'] = top_zero_car_tracts['Area Name'].str.replace(\"Census Tract \", \"\")"
   ]
  },
  {
   "cell_type": "code",
   "execution_count": 114,
   "id": "c4316179-9a54-425e-9031-289150e9c2ec",
   "metadata": {},
   "outputs": [
    {
     "data": {
      "text/html": [
       "<div>\n",
       "<style scoped>\n",
       "    .dataframe tbody tr th:only-of-type {\n",
       "        vertical-align: middle;\n",
       "    }\n",
       "\n",
       "    .dataframe tbody tr th {\n",
       "        vertical-align: top;\n",
       "    }\n",
       "\n",
       "    .dataframe thead th {\n",
       "        text-align: right;\n",
       "    }\n",
       "</style>\n",
       "<table border=\"1\" class=\"dataframe\">\n",
       "  <thead>\n",
       "    <tr style=\"text-align: right;\">\n",
       "      <th></th>\n",
       "      <th>FIPS</th>\n",
       "      <th>Qualifying Name</th>\n",
       "      <th>File identification</th>\n",
       "      <th>State Postal Abbreviation</th>\n",
       "      <th>Summary Level</th>\n",
       "      <th>Geographic Component</th>\n",
       "      <th>Logical Record Number</th>\n",
       "      <th>State (FIPS Code)</th>\n",
       "      <th>County of current residence</th>\n",
       "      <th>Census Tract</th>\n",
       "      <th>...</th>\n",
       "      <th>Total Population: Female: 15 to 17 Years</th>\n",
       "      <th>Total Population: Female: 18 to 24 Years</th>\n",
       "      <th>Total Population: Female: 25 to 34 Years</th>\n",
       "      <th>Total Population: Female: 35 to 44 Years</th>\n",
       "      <th>Total Population: Female: 45 to 54 Years</th>\n",
       "      <th>Total Population: Female: 55 to 64 Years</th>\n",
       "      <th>Total Population: Female: 65 to 74 Years</th>\n",
       "      <th>Total Population: Female: 75 to 84 Years</th>\n",
       "      <th>Total Population: Female: 85 Years and Over</th>\n",
       "      <th>geometry</th>\n",
       "    </tr>\n",
       "  </thead>\n",
       "  <tbody>\n",
       "    <tr>\n",
       "      <th>13</th>\n",
       "      <td>6001403401</td>\n",
       "      <td>Census Tract 4034.01, Alameda County, California</td>\n",
       "      <td>ACSSF</td>\n",
       "      <td>ca</td>\n",
       "      <td>140</td>\n",
       "      <td>0</td>\n",
       "      <td>2848</td>\n",
       "      <td>6</td>\n",
       "      <td>1</td>\n",
       "      <td>403401</td>\n",
       "      <td>...</td>\n",
       "      <td>0</td>\n",
       "      <td>60</td>\n",
       "      <td>410</td>\n",
       "      <td>165</td>\n",
       "      <td>55</td>\n",
       "      <td>164</td>\n",
       "      <td>125</td>\n",
       "      <td>177</td>\n",
       "      <td>225</td>\n",
       "      <td>POLYGON ((-13610515.390 4552126.841, -13610511...</td>\n",
       "    </tr>\n",
       "    <tr>\n",
       "      <th>15</th>\n",
       "      <td>6001403501</td>\n",
       "      <td>Census Tract 4035.01, Alameda County, California</td>\n",
       "      <td>ACSSF</td>\n",
       "      <td>ca</td>\n",
       "      <td>140</td>\n",
       "      <td>0</td>\n",
       "      <td>2850</td>\n",
       "      <td>6</td>\n",
       "      <td>1</td>\n",
       "      <td>403501</td>\n",
       "      <td>...</td>\n",
       "      <td>0</td>\n",
       "      <td>177</td>\n",
       "      <td>830</td>\n",
       "      <td>271</td>\n",
       "      <td>184</td>\n",
       "      <td>189</td>\n",
       "      <td>284</td>\n",
       "      <td>211</td>\n",
       "      <td>110</td>\n",
       "      <td>POLYGON ((-13610631.831 4552924.340, -13610614...</td>\n",
       "    </tr>\n",
       "    <tr>\n",
       "      <th>5</th>\n",
       "      <td>6001401300</td>\n",
       "      <td>Census Tract 4013, Alameda County, California</td>\n",
       "      <td>ACSSF</td>\n",
       "      <td>ca</td>\n",
       "      <td>140</td>\n",
       "      <td>0</td>\n",
       "      <td>2830</td>\n",
       "      <td>6</td>\n",
       "      <td>1</td>\n",
       "      <td>401300</td>\n",
       "      <td>...</td>\n",
       "      <td>14</td>\n",
       "      <td>131</td>\n",
       "      <td>749</td>\n",
       "      <td>409</td>\n",
       "      <td>185</td>\n",
       "      <td>154</td>\n",
       "      <td>66</td>\n",
       "      <td>57</td>\n",
       "      <td>121</td>\n",
       "      <td>POLYGON ((-13611390.807 4553026.780, -13611357...</td>\n",
       "    </tr>\n",
       "    <tr>\n",
       "      <th>6</th>\n",
       "      <td>6001402801</td>\n",
       "      <td>Census Tract 4028.01, Alameda County, California</td>\n",
       "      <td>ACSSF</td>\n",
       "      <td>ca</td>\n",
       "      <td>140</td>\n",
       "      <td>0</td>\n",
       "      <td>2841</td>\n",
       "      <td>6</td>\n",
       "      <td>1</td>\n",
       "      <td>402801</td>\n",
       "      <td>...</td>\n",
       "      <td>0</td>\n",
       "      <td>12</td>\n",
       "      <td>489</td>\n",
       "      <td>111</td>\n",
       "      <td>86</td>\n",
       "      <td>136</td>\n",
       "      <td>98</td>\n",
       "      <td>41</td>\n",
       "      <td>20</td>\n",
       "      <td>POLYGON ((-13611476.857 4553015.366, -13611428...</td>\n",
       "    </tr>\n",
       "    <tr>\n",
       "      <th>8</th>\n",
       "      <td>6001402900</td>\n",
       "      <td>Census Tract 4029, Alameda County, California</td>\n",
       "      <td>ACSSF</td>\n",
       "      <td>ca</td>\n",
       "      <td>140</td>\n",
       "      <td>0</td>\n",
       "      <td>2843</td>\n",
       "      <td>6</td>\n",
       "      <td>1</td>\n",
       "      <td>402900</td>\n",
       "      <td>...</td>\n",
       "      <td>0</td>\n",
       "      <td>53</td>\n",
       "      <td>327</td>\n",
       "      <td>83</td>\n",
       "      <td>31</td>\n",
       "      <td>19</td>\n",
       "      <td>93</td>\n",
       "      <td>90</td>\n",
       "      <td>72</td>\n",
       "      <td>POLYGON ((-13611160.598 4551847.308, -13611145...</td>\n",
       "    </tr>\n",
       "  </tbody>\n",
       "</table>\n",
       "<p>5 rows × 112 columns</p>\n",
       "</div>"
      ],
      "text/plain": [
       "          FIPS                                   Qualifying Name  \\\n",
       "13  6001403401  Census Tract 4034.01, Alameda County, California   \n",
       "15  6001403501  Census Tract 4035.01, Alameda County, California   \n",
       "5   6001401300     Census Tract 4013, Alameda County, California   \n",
       "6   6001402801  Census Tract 4028.01, Alameda County, California   \n",
       "8   6001402900     Census Tract 4029, Alameda County, California   \n",
       "\n",
       "   File identification State Postal Abbreviation  Summary Level  \\\n",
       "13               ACSSF                        ca            140   \n",
       "15               ACSSF                        ca            140   \n",
       "5                ACSSF                        ca            140   \n",
       "6                ACSSF                        ca            140   \n",
       "8                ACSSF                        ca            140   \n",
       "\n",
       "    Geographic Component  Logical Record Number  State (FIPS Code)  \\\n",
       "13                     0                   2848                  6   \n",
       "15                     0                   2850                  6   \n",
       "5                      0                   2830                  6   \n",
       "6                      0                   2841                  6   \n",
       "8                      0                   2843                  6   \n",
       "\n",
       "    County of current residence  Census Tract  ...  \\\n",
       "13                            1        403401  ...   \n",
       "15                            1        403501  ...   \n",
       "5                             1        401300  ...   \n",
       "6                             1        402801  ...   \n",
       "8                             1        402900  ...   \n",
       "\n",
       "   Total Population: Female: 15 to 17 Years  \\\n",
       "13                                        0   \n",
       "15                                        0   \n",
       "5                                        14   \n",
       "6                                         0   \n",
       "8                                         0   \n",
       "\n",
       "   Total Population: Female: 18 to 24 Years  \\\n",
       "13                                       60   \n",
       "15                                      177   \n",
       "5                                       131   \n",
       "6                                        12   \n",
       "8                                        53   \n",
       "\n",
       "    Total Population: Female: 25 to 34 Years  \\\n",
       "13                                       410   \n",
       "15                                       830   \n",
       "5                                        749   \n",
       "6                                        489   \n",
       "8                                        327   \n",
       "\n",
       "    Total Population: Female: 35 to 44 Years  \\\n",
       "13                                       165   \n",
       "15                                       271   \n",
       "5                                        409   \n",
       "6                                        111   \n",
       "8                                         83   \n",
       "\n",
       "    Total Population: Female: 45 to 54 Years  \\\n",
       "13                                        55   \n",
       "15                                       184   \n",
       "5                                        185   \n",
       "6                                         86   \n",
       "8                                         31   \n",
       "\n",
       "    Total Population: Female: 55 to 64 Years  \\\n",
       "13                                       164   \n",
       "15                                       189   \n",
       "5                                        154   \n",
       "6                                        136   \n",
       "8                                         19   \n",
       "\n",
       "    Total Population: Female: 65 to 74 Years  \\\n",
       "13                                       125   \n",
       "15                                       284   \n",
       "5                                         66   \n",
       "6                                         98   \n",
       "8                                         93   \n",
       "\n",
       "    Total Population: Female: 75 to 84 Years  \\\n",
       "13                                       177   \n",
       "15                                       211   \n",
       "5                                         57   \n",
       "6                                         41   \n",
       "8                                         90   \n",
       "\n",
       "    Total Population: Female: 85 Years and Over  \\\n",
       "13                                          225   \n",
       "15                                          110   \n",
       "5                                           121   \n",
       "6                                            20   \n",
       "8                                            72   \n",
       "\n",
       "                                             geometry  \n",
       "13  POLYGON ((-13610515.390 4552126.841, -13610511...  \n",
       "15  POLYGON ((-13610631.831 4552924.340, -13610614...  \n",
       "5   POLYGON ((-13611390.807 4553026.780, -13611357...  \n",
       "6   POLYGON ((-13611476.857 4553015.366, -13611428...  \n",
       "8   POLYGON ((-13611160.598 4551847.308, -13611145...  \n",
       "\n",
       "[5 rows x 112 columns]"
      ]
     },
     "execution_count": 114,
     "metadata": {},
     "output_type": "execute_result"
    }
   ],
   "source": [
    "top_zero_car_tracts"
   ]
  },
  {
   "cell_type": "markdown",
   "id": "990b40cb-137d-4b07-9536-6bc48b9347df",
   "metadata": {},
   "source": [
    "I converted this dataframe to be in a long dataframe format."
   ]
  },
  {
   "cell_type": "code",
   "execution_count": 115,
   "id": "753af490-00df-4cb6-bcd9-c25955cc28b2",
   "metadata": {},
   "outputs": [],
   "source": [
    "vehicles_long = pd.melt(top_zero_car_tracts, id_vars='Area Name', value_vars=vehicle_counts[0:5])"
   ]
  },
  {
   "cell_type": "code",
   "execution_count": 116,
   "id": "62dc9657-ba55-46f8-af4a-55f7a14bd182",
   "metadata": {},
   "outputs": [],
   "source": [
    "vehicles_long[\"Area Name\"] = vehicles_long[\"Area Name\"].astype(str)"
   ]
  },
  {
   "cell_type": "code",
   "execution_count": 118,
   "id": "c6994905-a8b0-46d2-b853-0b52c5e69002",
   "metadata": {},
   "outputs": [
    {
     "data": {
      "application/vnd.plotly.v1+json": {
       "config": {
        "plotlyServerURL": "https://plot.ly"
       },
       "data": [
        {
         "alignmentgroup": "True",
         "hovertemplate": "Vehicles Available=%{y}<br>Area Name=%{x}<extra></extra>",
         "legendgroup": "None",
         "marker": {
          "color": "#636efa",
          "pattern": {
           "shape": ""
          }
         },
         "name": "None",
         "offsetgroup": "None",
         "orientation": "v",
         "showlegend": true,
         "textposition": "auto",
         "type": "bar",
         "x": [
          "4034.01",
          "4035.01",
          "4013",
          "4028.01",
          "4029"
         ],
         "xaxis": "x",
         "y": [
          783,
          721,
          650,
          641,
          628
         ],
         "yaxis": "y"
        },
        {
         "alignmentgroup": "True",
         "hovertemplate": "Vehicles Available=%{y}<br>Area Name=%{x}<extra></extra>",
         "legendgroup": "1",
         "marker": {
          "color": "#EF553B",
          "pattern": {
           "shape": ""
          }
         },
         "name": "1",
         "offsetgroup": "1",
         "orientation": "v",
         "showlegend": true,
         "textposition": "auto",
         "type": "bar",
         "x": [
          "4034.01",
          "4035.01",
          "4013",
          "4028.01",
          "4029"
         ],
         "xaxis": "x",
         "y": [
          805,
          1167,
          830,
          610,
          341
         ],
         "yaxis": "y"
        },
        {
         "alignmentgroup": "True",
         "hovertemplate": "Vehicles Available=%{y}<br>Area Name=%{x}<extra></extra>",
         "legendgroup": "2",
         "marker": {
          "color": "#00cc96",
          "pattern": {
           "shape": ""
          }
         },
         "name": "2",
         "offsetgroup": "2",
         "orientation": "v",
         "showlegend": true,
         "textposition": "auto",
         "type": "bar",
         "x": [
          "4034.01",
          "4035.01",
          "4013",
          "4028.01",
          "4029"
         ],
         "xaxis": "x",
         "y": [
          131,
          317,
          219,
          246,
          56
         ],
         "yaxis": "y"
        },
        {
         "alignmentgroup": "True",
         "hovertemplate": "Vehicles Available=%{y}<br>Area Name=%{x}<extra></extra>",
         "legendgroup": "3",
         "marker": {
          "color": "#ab63fa",
          "pattern": {
           "shape": ""
          }
         },
         "name": "3",
         "offsetgroup": "3",
         "orientation": "v",
         "showlegend": true,
         "textposition": "auto",
         "type": "bar",
         "x": [
          "4034.01",
          "4035.01",
          "4013",
          "4028.01",
          "4029"
         ],
         "xaxis": "x",
         "y": [
          35,
          161,
          58,
          0,
          0
         ],
         "yaxis": "y"
        },
        {
         "alignmentgroup": "True",
         "hovertemplate": "Vehicles Available=%{y}<br>Area Name=%{x}<extra></extra>",
         "legendgroup": "4",
         "marker": {
          "color": "#FFA15A",
          "pattern": {
           "shape": ""
          }
         },
         "name": "4",
         "offsetgroup": "4",
         "orientation": "v",
         "showlegend": true,
         "textposition": "auto",
         "type": "bar",
         "x": [
          "4034.01",
          "4035.01",
          "4013",
          "4028.01",
          "4029"
         ],
         "xaxis": "x",
         "y": [
          0,
          0,
          0,
          0,
          0
         ],
         "yaxis": "y"
        }
       ],
       "layout": {
        "autosize": true,
        "barmode": "relative",
        "legend": {
         "title": {
          "text": "Vehicles Available"
         },
         "tracegroupgap": 0
        },
        "template": {
         "data": {
          "bar": [
           {
            "error_x": {
             "color": "#2a3f5f"
            },
            "error_y": {
             "color": "#2a3f5f"
            },
            "marker": {
             "line": {
              "color": "#E5ECF6",
              "width": 0.5
             },
             "pattern": {
              "fillmode": "overlay",
              "size": 10,
              "solidity": 0.2
             }
            },
            "type": "bar"
           }
          ],
          "barpolar": [
           {
            "marker": {
             "line": {
              "color": "#E5ECF6",
              "width": 0.5
             },
             "pattern": {
              "fillmode": "overlay",
              "size": 10,
              "solidity": 0.2
             }
            },
            "type": "barpolar"
           }
          ],
          "carpet": [
           {
            "aaxis": {
             "endlinecolor": "#2a3f5f",
             "gridcolor": "white",
             "linecolor": "white",
             "minorgridcolor": "white",
             "startlinecolor": "#2a3f5f"
            },
            "baxis": {
             "endlinecolor": "#2a3f5f",
             "gridcolor": "white",
             "linecolor": "white",
             "minorgridcolor": "white",
             "startlinecolor": "#2a3f5f"
            },
            "type": "carpet"
           }
          ],
          "choropleth": [
           {
            "colorbar": {
             "outlinewidth": 0,
             "ticks": ""
            },
            "type": "choropleth"
           }
          ],
          "contour": [
           {
            "colorbar": {
             "outlinewidth": 0,
             "ticks": ""
            },
            "colorscale": [
             [
              0,
              "#0d0887"
             ],
             [
              0.1111111111111111,
              "#46039f"
             ],
             [
              0.2222222222222222,
              "#7201a8"
             ],
             [
              0.3333333333333333,
              "#9c179e"
             ],
             [
              0.4444444444444444,
              "#bd3786"
             ],
             [
              0.5555555555555556,
              "#d8576b"
             ],
             [
              0.6666666666666666,
              "#ed7953"
             ],
             [
              0.7777777777777778,
              "#fb9f3a"
             ],
             [
              0.8888888888888888,
              "#fdca26"
             ],
             [
              1,
              "#f0f921"
             ]
            ],
            "type": "contour"
           }
          ],
          "contourcarpet": [
           {
            "colorbar": {
             "outlinewidth": 0,
             "ticks": ""
            },
            "type": "contourcarpet"
           }
          ],
          "heatmap": [
           {
            "colorbar": {
             "outlinewidth": 0,
             "ticks": ""
            },
            "colorscale": [
             [
              0,
              "#0d0887"
             ],
             [
              0.1111111111111111,
              "#46039f"
             ],
             [
              0.2222222222222222,
              "#7201a8"
             ],
             [
              0.3333333333333333,
              "#9c179e"
             ],
             [
              0.4444444444444444,
              "#bd3786"
             ],
             [
              0.5555555555555556,
              "#d8576b"
             ],
             [
              0.6666666666666666,
              "#ed7953"
             ],
             [
              0.7777777777777778,
              "#fb9f3a"
             ],
             [
              0.8888888888888888,
              "#fdca26"
             ],
             [
              1,
              "#f0f921"
             ]
            ],
            "type": "heatmap"
           }
          ],
          "heatmapgl": [
           {
            "colorbar": {
             "outlinewidth": 0,
             "ticks": ""
            },
            "colorscale": [
             [
              0,
              "#0d0887"
             ],
             [
              0.1111111111111111,
              "#46039f"
             ],
             [
              0.2222222222222222,
              "#7201a8"
             ],
             [
              0.3333333333333333,
              "#9c179e"
             ],
             [
              0.4444444444444444,
              "#bd3786"
             ],
             [
              0.5555555555555556,
              "#d8576b"
             ],
             [
              0.6666666666666666,
              "#ed7953"
             ],
             [
              0.7777777777777778,
              "#fb9f3a"
             ],
             [
              0.8888888888888888,
              "#fdca26"
             ],
             [
              1,
              "#f0f921"
             ]
            ],
            "type": "heatmapgl"
           }
          ],
          "histogram": [
           {
            "marker": {
             "pattern": {
              "fillmode": "overlay",
              "size": 10,
              "solidity": 0.2
             }
            },
            "type": "histogram"
           }
          ],
          "histogram2d": [
           {
            "colorbar": {
             "outlinewidth": 0,
             "ticks": ""
            },
            "colorscale": [
             [
              0,
              "#0d0887"
             ],
             [
              0.1111111111111111,
              "#46039f"
             ],
             [
              0.2222222222222222,
              "#7201a8"
             ],
             [
              0.3333333333333333,
              "#9c179e"
             ],
             [
              0.4444444444444444,
              "#bd3786"
             ],
             [
              0.5555555555555556,
              "#d8576b"
             ],
             [
              0.6666666666666666,
              "#ed7953"
             ],
             [
              0.7777777777777778,
              "#fb9f3a"
             ],
             [
              0.8888888888888888,
              "#fdca26"
             ],
             [
              1,
              "#f0f921"
             ]
            ],
            "type": "histogram2d"
           }
          ],
          "histogram2dcontour": [
           {
            "colorbar": {
             "outlinewidth": 0,
             "ticks": ""
            },
            "colorscale": [
             [
              0,
              "#0d0887"
             ],
             [
              0.1111111111111111,
              "#46039f"
             ],
             [
              0.2222222222222222,
              "#7201a8"
             ],
             [
              0.3333333333333333,
              "#9c179e"
             ],
             [
              0.4444444444444444,
              "#bd3786"
             ],
             [
              0.5555555555555556,
              "#d8576b"
             ],
             [
              0.6666666666666666,
              "#ed7953"
             ],
             [
              0.7777777777777778,
              "#fb9f3a"
             ],
             [
              0.8888888888888888,
              "#fdca26"
             ],
             [
              1,
              "#f0f921"
             ]
            ],
            "type": "histogram2dcontour"
           }
          ],
          "mesh3d": [
           {
            "colorbar": {
             "outlinewidth": 0,
             "ticks": ""
            },
            "type": "mesh3d"
           }
          ],
          "parcoords": [
           {
            "line": {
             "colorbar": {
              "outlinewidth": 0,
              "ticks": ""
             }
            },
            "type": "parcoords"
           }
          ],
          "pie": [
           {
            "automargin": true,
            "type": "pie"
           }
          ],
          "scatter": [
           {
            "fillpattern": {
             "fillmode": "overlay",
             "size": 10,
             "solidity": 0.2
            },
            "type": "scatter"
           }
          ],
          "scatter3d": [
           {
            "line": {
             "colorbar": {
              "outlinewidth": 0,
              "ticks": ""
             }
            },
            "marker": {
             "colorbar": {
              "outlinewidth": 0,
              "ticks": ""
             }
            },
            "type": "scatter3d"
           }
          ],
          "scattercarpet": [
           {
            "marker": {
             "colorbar": {
              "outlinewidth": 0,
              "ticks": ""
             }
            },
            "type": "scattercarpet"
           }
          ],
          "scattergeo": [
           {
            "marker": {
             "colorbar": {
              "outlinewidth": 0,
              "ticks": ""
             }
            },
            "type": "scattergeo"
           }
          ],
          "scattergl": [
           {
            "marker": {
             "colorbar": {
              "outlinewidth": 0,
              "ticks": ""
             }
            },
            "type": "scattergl"
           }
          ],
          "scattermapbox": [
           {
            "marker": {
             "colorbar": {
              "outlinewidth": 0,
              "ticks": ""
             }
            },
            "type": "scattermapbox"
           }
          ],
          "scatterpolar": [
           {
            "marker": {
             "colorbar": {
              "outlinewidth": 0,
              "ticks": ""
             }
            },
            "type": "scatterpolar"
           }
          ],
          "scatterpolargl": [
           {
            "marker": {
             "colorbar": {
              "outlinewidth": 0,
              "ticks": ""
             }
            },
            "type": "scatterpolargl"
           }
          ],
          "scatterternary": [
           {
            "marker": {
             "colorbar": {
              "outlinewidth": 0,
              "ticks": ""
             }
            },
            "type": "scatterternary"
           }
          ],
          "surface": [
           {
            "colorbar": {
             "outlinewidth": 0,
             "ticks": ""
            },
            "colorscale": [
             [
              0,
              "#0d0887"
             ],
             [
              0.1111111111111111,
              "#46039f"
             ],
             [
              0.2222222222222222,
              "#7201a8"
             ],
             [
              0.3333333333333333,
              "#9c179e"
             ],
             [
              0.4444444444444444,
              "#bd3786"
             ],
             [
              0.5555555555555556,
              "#d8576b"
             ],
             [
              0.6666666666666666,
              "#ed7953"
             ],
             [
              0.7777777777777778,
              "#fb9f3a"
             ],
             [
              0.8888888888888888,
              "#fdca26"
             ],
             [
              1,
              "#f0f921"
             ]
            ],
            "type": "surface"
           }
          ],
          "table": [
           {
            "cells": {
             "fill": {
              "color": "#EBF0F8"
             },
             "line": {
              "color": "white"
             }
            },
            "header": {
             "fill": {
              "color": "#C8D4E3"
             },
             "line": {
              "color": "white"
             }
            },
            "type": "table"
           }
          ]
         },
         "layout": {
          "annotationdefaults": {
           "arrowcolor": "#2a3f5f",
           "arrowhead": 0,
           "arrowwidth": 1
          },
          "autotypenumbers": "strict",
          "coloraxis": {
           "colorbar": {
            "outlinewidth": 0,
            "ticks": ""
           }
          },
          "colorscale": {
           "diverging": [
            [
             0,
             "#8e0152"
            ],
            [
             0.1,
             "#c51b7d"
            ],
            [
             0.2,
             "#de77ae"
            ],
            [
             0.3,
             "#f1b6da"
            ],
            [
             0.4,
             "#fde0ef"
            ],
            [
             0.5,
             "#f7f7f7"
            ],
            [
             0.6,
             "#e6f5d0"
            ],
            [
             0.7,
             "#b8e186"
            ],
            [
             0.8,
             "#7fbc41"
            ],
            [
             0.9,
             "#4d9221"
            ],
            [
             1,
             "#276419"
            ]
           ],
           "sequential": [
            [
             0,
             "#0d0887"
            ],
            [
             0.1111111111111111,
             "#46039f"
            ],
            [
             0.2222222222222222,
             "#7201a8"
            ],
            [
             0.3333333333333333,
             "#9c179e"
            ],
            [
             0.4444444444444444,
             "#bd3786"
            ],
            [
             0.5555555555555556,
             "#d8576b"
            ],
            [
             0.6666666666666666,
             "#ed7953"
            ],
            [
             0.7777777777777778,
             "#fb9f3a"
            ],
            [
             0.8888888888888888,
             "#fdca26"
            ],
            [
             1,
             "#f0f921"
            ]
           ],
           "sequentialminus": [
            [
             0,
             "#0d0887"
            ],
            [
             0.1111111111111111,
             "#46039f"
            ],
            [
             0.2222222222222222,
             "#7201a8"
            ],
            [
             0.3333333333333333,
             "#9c179e"
            ],
            [
             0.4444444444444444,
             "#bd3786"
            ],
            [
             0.5555555555555556,
             "#d8576b"
            ],
            [
             0.6666666666666666,
             "#ed7953"
            ],
            [
             0.7777777777777778,
             "#fb9f3a"
            ],
            [
             0.8888888888888888,
             "#fdca26"
            ],
            [
             1,
             "#f0f921"
            ]
           ]
          },
          "colorway": [
           "#636efa",
           "#EF553B",
           "#00cc96",
           "#ab63fa",
           "#FFA15A",
           "#19d3f3",
           "#FF6692",
           "#B6E880",
           "#FF97FF",
           "#FECB52"
          ],
          "font": {
           "color": "#2a3f5f"
          },
          "geo": {
           "bgcolor": "white",
           "lakecolor": "white",
           "landcolor": "#E5ECF6",
           "showlakes": true,
           "showland": true,
           "subunitcolor": "white"
          },
          "hoverlabel": {
           "align": "left"
          },
          "hovermode": "closest",
          "mapbox": {
           "style": "light"
          },
          "paper_bgcolor": "white",
          "plot_bgcolor": "#E5ECF6",
          "polar": {
           "angularaxis": {
            "gridcolor": "white",
            "linecolor": "white",
            "ticks": ""
           },
           "bgcolor": "#E5ECF6",
           "radialaxis": {
            "gridcolor": "white",
            "linecolor": "white",
            "ticks": ""
           }
          },
          "scene": {
           "xaxis": {
            "backgroundcolor": "#E5ECF6",
            "gridcolor": "white",
            "gridwidth": 2,
            "linecolor": "white",
            "showbackground": true,
            "ticks": "",
            "zerolinecolor": "white"
           },
           "yaxis": {
            "backgroundcolor": "#E5ECF6",
            "gridcolor": "white",
            "gridwidth": 2,
            "linecolor": "white",
            "showbackground": true,
            "ticks": "",
            "zerolinecolor": "white"
           },
           "zaxis": {
            "backgroundcolor": "#E5ECF6",
            "gridcolor": "white",
            "gridwidth": 2,
            "linecolor": "white",
            "showbackground": true,
            "ticks": "",
            "zerolinecolor": "white"
           }
          },
          "shapedefaults": {
           "line": {
            "color": "#2a3f5f"
           }
          },
          "ternary": {
           "aaxis": {
            "gridcolor": "white",
            "linecolor": "white",
            "ticks": ""
           },
           "baxis": {
            "gridcolor": "white",
            "linecolor": "white",
            "ticks": ""
           },
           "bgcolor": "#E5ECF6",
           "caxis": {
            "gridcolor": "white",
            "linecolor": "white",
            "ticks": ""
           }
          },
          "title": {
           "x": 0.05
          },
          "xaxis": {
           "automargin": true,
           "gridcolor": "white",
           "linecolor": "white",
           "ticks": "",
           "title": {
            "standoff": 15
           },
           "zerolinecolor": "white",
           "zerolinewidth": 2
          },
          "yaxis": {
           "automargin": true,
           "gridcolor": "white",
           "linecolor": "white",
           "ticks": "",
           "title": {
            "standoff": 15
           },
           "zerolinecolor": "white",
           "zerolinewidth": 2
          }
         }
        },
        "title": {
         "text": "Vehicles Available in Top 10 No-Car Renter-Occupied Housing Units Census Tracts"
        },
        "xaxis": {
         "anchor": "y",
         "autorange": true,
         "domain": [
          0,
          1
         ],
         "range": [
          -0.5,
          4.5
         ],
         "title": {
          "text": "Census Tract"
         },
         "type": "category"
        },
        "yaxis": {
         "anchor": "x",
         "autorange": true,
         "domain": [
          0,
          1
         ],
         "range": [
          0,
          2490.5263157894738
         ],
         "title": {
          "text": "Vehicles Available"
         },
         "type": "linear"
        }
       }
      },
      "image/png": "[encoded data removed]",
      "text/html": [
       "<div>                            <div id=\"c4827fe5-bc2c-4065-94fd-b8a7fd397676\" class=\"plotly-graph-div\" style=\"height:525px; width:100%;\"></div>            <script type=\"text/javascript\">                require([\"plotly\"], function(Plotly) {                    window.PLOTLYENV=window.PLOTLYENV || {};                                    if (document.getElementById(\"c4827fe5-bc2c-4065-94fd-b8a7fd397676\")) {                    Plotly.newPlot(                        \"c4827fe5-bc2c-4065-94fd-b8a7fd397676\",                        [{\"alignmentgroup\":\"True\",\"hovertemplate\":\"Vehicles Available=%{y}<br>Area Name=%{x}<extra></extra>\",\"legendgroup\":\"None\",\"marker\":{\"color\":\"#636efa\",\"pattern\":{\"shape\":\"\"}},\"name\":\"None\",\"offsetgroup\":\"None\",\"orientation\":\"v\",\"showlegend\":true,\"textposition\":\"auto\",\"x\":[\"4034.01\",\"4035.01\",\"4013\",\"4028.01\",\"4029\"],\"xaxis\":\"x\",\"y\":[783,721,650,641,628],\"yaxis\":\"y\",\"type\":\"bar\"},{\"alignmentgroup\":\"True\",\"hovertemplate\":\"Vehicles Available=%{y}<br>Area Name=%{x}<extra></extra>\",\"legendgroup\":\"1\",\"marker\":{\"color\":\"#EF553B\",\"pattern\":{\"shape\":\"\"}},\"name\":\"1\",\"offsetgroup\":\"1\",\"orientation\":\"v\",\"showlegend\":true,\"textposition\":\"auto\",\"x\":[\"4034.01\",\"4035.01\",\"4013\",\"4028.01\",\"4029\"],\"xaxis\":\"x\",\"y\":[805,1167,830,610,341],\"yaxis\":\"y\",\"type\":\"bar\"},{\"alignmentgroup\":\"True\",\"hovertemplate\":\"Vehicles Available=%{y}<br>Area Name=%{x}<extra></extra>\",\"legendgroup\":\"2\",\"marker\":{\"color\":\"#00cc96\",\"pattern\":{\"shape\":\"\"}},\"name\":\"2\",\"offsetgroup\":\"2\",\"orientation\":\"v\",\"showlegend\":true,\"textposition\":\"auto\",\"x\":[\"4034.01\",\"4035.01\",\"4013\",\"4028.01\",\"4029\"],\"xaxis\":\"x\",\"y\":[131,317,219,246,56],\"yaxis\":\"y\",\"type\":\"bar\"},{\"alignmentgroup\":\"True\",\"hovertemplate\":\"Vehicles Available=%{y}<br>Area Name=%{x}<extra></extra>\",\"legendgroup\":\"3\",\"marker\":{\"color\":\"#ab63fa\",\"pattern\":{\"shape\":\"\"}},\"name\":\"3\",\"offsetgroup\":\"3\",\"orientation\":\"v\",\"showlegend\":true,\"textposition\":\"auto\",\"x\":[\"4034.01\",\"4035.01\",\"4013\",\"4028.01\",\"4029\"],\"xaxis\":\"x\",\"y\":[35,161,58,0,0],\"yaxis\":\"y\",\"type\":\"bar\"},{\"alignmentgroup\":\"True\",\"hovertemplate\":\"Vehicles Available=%{y}<br>Area Name=%{x}<extra></extra>\",\"legendgroup\":\"4\",\"marker\":{\"color\":\"#FFA15A\",\"pattern\":{\"shape\":\"\"}},\"name\":\"4\",\"offsetgroup\":\"4\",\"orientation\":\"v\",\"showlegend\":true,\"textposition\":\"auto\",\"x\":[\"4034.01\",\"4035.01\",\"4013\",\"4028.01\",\"4029\"],\"xaxis\":\"x\",\"y\":[0,0,0,0,0],\"yaxis\":\"y\",\"type\":\"bar\"}],                        {\"template\":{\"data\":{\"histogram2dcontour\":[{\"type\":\"histogram2dcontour\",\"colorbar\":{\"outlinewidth\":0,\"ticks\":\"\"},\"colorscale\":[[0.0,\"#0d0887\"],[0.1111111111111111,\"#46039f\"],[0.2222222222222222,\"#7201a8\"],[0.3333333333333333,\"#9c179e\"],[0.4444444444444444,\"#bd3786\"],[0.5555555555555556,\"#d8576b\"],[0.6666666666666666,\"#ed7953\"],[0.7777777777777778,\"#fb9f3a\"],[0.8888888888888888,\"#fdca26\"],[1.0,\"#f0f921\"]]}],\"choropleth\":[{\"type\":\"choropleth\",\"colorbar\":{\"outlinewidth\":0,\"ticks\":\"\"}}],\"histogram2d\":[{\"type\":\"histogram2d\",\"colorbar\":{\"outlinewidth\":0,\"ticks\":\"\"},\"colorscale\":[[0.0,\"#0d0887\"],[0.1111111111111111,\"#46039f\"],[0.2222222222222222,\"#7201a8\"],[0.3333333333333333,\"#9c179e\"],[0.4444444444444444,\"#bd3786\"],[0.5555555555555556,\"#d8576b\"],[0.6666666666666666,\"#ed7953\"],[0.7777777777777778,\"#fb9f3a\"],[0.8888888888888888,\"#fdca26\"],[1.0,\"#f0f921\"]]}],\"heatmap\":[{\"type\":\"heatmap\",\"colorbar\":{\"outlinewidth\":0,\"ticks\":\"\"},\"colorscale\":[[0.0,\"#0d0887\"],[0.1111111111111111,\"#46039f\"],[0.2222222222222222,\"#7201a8\"],[0.3333333333333333,\"#9c179e\"],[0.4444444444444444,\"#bd3786\"],[0.5555555555555556,\"#d8576b\"],[0.6666666666666666,\"#ed7953\"],[0.7777777777777778,\"#fb9f3a\"],[0.8888888888888888,\"#fdca26\"],[1.0,\"#f0f921\"]]}],\"heatmapgl\":[{\"type\":\"heatmapgl\",\"colorbar\":{\"outlinewidth\":0,\"ticks\":\"\"},\"colorscale\":[[0.0,\"#0d0887\"],[0.1111111111111111,\"#46039f\"],[0.2222222222222222,\"#7201a8\"],[0.3333333333333333,\"#9c179e\"],[0.4444444444444444,\"#bd3786\"],[0.5555555555555556,\"#d8576b\"],[0.6666666666666666,\"#ed7953\"],[0.7777777777777778,\"#fb9f3a\"],[0.8888888888888888,\"#fdca26\"],[1.0,\"#f0f921\"]]}],\"contourcarpet\":[{\"type\":\"contourcarpet\",\"colorbar\":{\"outlinewidth\":0,\"ticks\":\"\"}}],\"contour\":[{\"type\":\"contour\",\"colorbar\":{\"outlinewidth\":0,\"ticks\":\"\"},\"colorscale\":[[0.0,\"#0d0887\"],[0.1111111111111111,\"#46039f\"],[0.2222222222222222,\"#7201a8\"],[0.3333333333333333,\"#9c179e\"],[0.4444444444444444,\"#bd3786\"],[0.5555555555555556,\"#d8576b\"],[0.6666666666666666,\"#ed7953\"],[0.7777777777777778,\"#fb9f3a\"],[0.8888888888888888,\"#fdca26\"],[1.0,\"#f0f921\"]]}],\"surface\":[{\"type\":\"surface\",\"colorbar\":{\"outlinewidth\":0,\"ticks\":\"\"},\"colorscale\":[[0.0,\"#0d0887\"],[0.1111111111111111,\"#46039f\"],[0.2222222222222222,\"#7201a8\"],[0.3333333333333333,\"#9c179e\"],[0.4444444444444444,\"#bd3786\"],[0.5555555555555556,\"#d8576b\"],[0.6666666666666666,\"#ed7953\"],[0.7777777777777778,\"#fb9f3a\"],[0.8888888888888888,\"#fdca26\"],[1.0,\"#f0f921\"]]}],\"mesh3d\":[{\"type\":\"mesh3d\",\"colorbar\":{\"outlinewidth\":0,\"ticks\":\"\"}}],\"scatter\":[{\"fillpattern\":{\"fillmode\":\"overlay\",\"size\":10,\"solidity\":0.2},\"type\":\"scatter\"}],\"parcoords\":[{\"type\":\"parcoords\",\"line\":{\"colorbar\":{\"outlinewidth\":0,\"ticks\":\"\"}}}],\"scatterpolargl\":[{\"type\":\"scatterpolargl\",\"marker\":{\"colorbar\":{\"outlinewidth\":0,\"ticks\":\"\"}}}],\"bar\":[{\"error_x\":{\"color\":\"#2a3f5f\"},\"error_y\":{\"color\":\"#2a3f5f\"},\"marker\":{\"line\":{\"color\":\"#E5ECF6\",\"width\":0.5},\"pattern\":{\"fillmode\":\"overlay\",\"size\":10,\"solidity\":0.2}},\"type\":\"bar\"}],\"scattergeo\":[{\"type\":\"scattergeo\",\"marker\":{\"colorbar\":{\"outlinewidth\":0,\"ticks\":\"\"}}}],\"scatterpolar\":[{\"type\":\"scatterpolar\",\"marker\":{\"colorbar\":{\"outlinewidth\":0,\"ticks\":\"\"}}}],\"histogram\":[{\"marker\":{\"pattern\":{\"fillmode\":\"overlay\",\"size\":10,\"solidity\":0.2}},\"type\":\"histogram\"}],\"scattergl\":[{\"type\":\"scattergl\",\"marker\":{\"colorbar\":{\"outlinewidth\":0,\"ticks\":\"\"}}}],\"scatter3d\":[{\"type\":\"scatter3d\",\"line\":{\"colorbar\":{\"outlinewidth\":0,\"ticks\":\"\"}},\"marker\":{\"colorbar\":{\"outlinewidth\":0,\"ticks\":\"\"}}}],\"scattermapbox\":[{\"type\":\"scattermapbox\",\"marker\":{\"colorbar\":{\"outlinewidth\":0,\"ticks\":\"\"}}}],\"scatterternary\":[{\"type\":\"scatterternary\",\"marker\":{\"colorbar\":{\"outlinewidth\":0,\"ticks\":\"\"}}}],\"scattercarpet\":[{\"type\":\"scattercarpet\",\"marker\":{\"colorbar\":{\"outlinewidth\":0,\"ticks\":\"\"}}}],\"carpet\":[{\"aaxis\":{\"endlinecolor\":\"#2a3f5f\",\"gridcolor\":\"white\",\"linecolor\":\"white\",\"minorgridcolor\":\"white\",\"startlinecolor\":\"#2a3f5f\"},\"baxis\":{\"endlinecolor\":\"#2a3f5f\",\"gridcolor\":\"white\",\"linecolor\":\"white\",\"minorgridcolor\":\"white\",\"startlinecolor\":\"#2a3f5f\"},\"type\":\"carpet\"}],\"table\":[{\"cells\":{\"fill\":{\"color\":\"#EBF0F8\"},\"line\":{\"color\":\"white\"}},\"header\":{\"fill\":{\"color\":\"#C8D4E3\"},\"line\":{\"color\":\"white\"}},\"type\":\"table\"}],\"barpolar\":[{\"marker\":{\"line\":{\"color\":\"#E5ECF6\",\"width\":0.5},\"pattern\":{\"fillmode\":\"overlay\",\"size\":10,\"solidity\":0.2}},\"type\":\"barpolar\"}],\"pie\":[{\"automargin\":true,\"type\":\"pie\"}]},\"layout\":{\"autotypenumbers\":\"strict\",\"colorway\":[\"#636efa\",\"#EF553B\",\"#00cc96\",\"#ab63fa\",\"#FFA15A\",\"#19d3f3\",\"#FF6692\",\"#B6E880\",\"#FF97FF\",\"#FECB52\"],\"font\":{\"color\":\"#2a3f5f\"},\"hovermode\":\"closest\",\"hoverlabel\":{\"align\":\"left\"},\"paper_bgcolor\":\"white\",\"plot_bgcolor\":\"#E5ECF6\",\"polar\":{\"bgcolor\":\"#E5ECF6\",\"angularaxis\":{\"gridcolor\":\"white\",\"linecolor\":\"white\",\"ticks\":\"\"},\"radialaxis\":{\"gridcolor\":\"white\",\"linecolor\":\"white\",\"ticks\":\"\"}},\"ternary\":{\"bgcolor\":\"#E5ECF6\",\"aaxis\":{\"gridcolor\":\"white\",\"linecolor\":\"white\",\"ticks\":\"\"},\"baxis\":{\"gridcolor\":\"white\",\"linecolor\":\"white\",\"ticks\":\"\"},\"caxis\":{\"gridcolor\":\"white\",\"linecolor\":\"white\",\"ticks\":\"\"}},\"coloraxis\":{\"colorbar\":{\"outlinewidth\":0,\"ticks\":\"\"}},\"colorscale\":{\"sequential\":[[0.0,\"#0d0887\"],[0.1111111111111111,\"#46039f\"],[0.2222222222222222,\"#7201a8\"],[0.3333333333333333,\"#9c179e\"],[0.4444444444444444,\"#bd3786\"],[0.5555555555555556,\"#d8576b\"],[0.6666666666666666,\"#ed7953\"],[0.7777777777777778,\"#fb9f3a\"],[0.8888888888888888,\"#fdca26\"],[1.0,\"#f0f921\"]],\"sequentialminus\":[[0.0,\"#0d0887\"],[0.1111111111111111,\"#46039f\"],[0.2222222222222222,\"#7201a8\"],[0.3333333333333333,\"#9c179e\"],[0.4444444444444444,\"#bd3786\"],[0.5555555555555556,\"#d8576b\"],[0.6666666666666666,\"#ed7953\"],[0.7777777777777778,\"#fb9f3a\"],[0.8888888888888888,\"#fdca26\"],[1.0,\"#f0f921\"]],\"diverging\":[[0,\"#8e0152\"],[0.1,\"#c51b7d\"],[0.2,\"#de77ae\"],[0.3,\"#f1b6da\"],[0.4,\"#fde0ef\"],[0.5,\"#f7f7f7\"],[0.6,\"#e6f5d0\"],[0.7,\"#b8e186\"],[0.8,\"#7fbc41\"],[0.9,\"#4d9221\"],[1,\"#276419\"]]},\"xaxis\":{\"gridcolor\":\"white\",\"linecolor\":\"white\",\"ticks\":\"\",\"title\":{\"standoff\":15},\"zerolinecolor\":\"white\",\"automargin\":true,\"zerolinewidth\":2},\"yaxis\":{\"gridcolor\":\"white\",\"linecolor\":\"white\",\"ticks\":\"\",\"title\":{\"standoff\":15},\"zerolinecolor\":\"white\",\"automargin\":true,\"zerolinewidth\":2},\"scene\":{\"xaxis\":{\"backgroundcolor\":\"#E5ECF6\",\"gridcolor\":\"white\",\"linecolor\":\"white\",\"showbackground\":true,\"ticks\":\"\",\"zerolinecolor\":\"white\",\"gridwidth\":2},\"yaxis\":{\"backgroundcolor\":\"#E5ECF6\",\"gridcolor\":\"white\",\"linecolor\":\"white\",\"showbackground\":true,\"ticks\":\"\",\"zerolinecolor\":\"white\",\"gridwidth\":2},\"zaxis\":{\"backgroundcolor\":\"#E5ECF6\",\"gridcolor\":\"white\",\"linecolor\":\"white\",\"showbackground\":true,\"ticks\":\"\",\"zerolinecolor\":\"white\",\"gridwidth\":2}},\"shapedefaults\":{\"line\":{\"color\":\"#2a3f5f\"}},\"annotationdefaults\":{\"arrowcolor\":\"#2a3f5f\",\"arrowhead\":0,\"arrowwidth\":1},\"geo\":{\"bgcolor\":\"white\",\"landcolor\":\"#E5ECF6\",\"subunitcolor\":\"white\",\"showland\":true,\"showlakes\":true,\"lakecolor\":\"white\"},\"title\":{\"x\":0.05},\"mapbox\":{\"style\":\"light\"}}},\"xaxis\":{\"anchor\":\"y\",\"domain\":[0.0,1.0],\"title\":{\"text\":\"Census Tract\"}},\"yaxis\":{\"anchor\":\"x\",\"domain\":[0.0,1.0],\"title\":{\"text\":\"Vehicles Available\"}},\"legend\":{\"title\":{\"text\":\"Vehicles Available\"},\"tracegroupgap\":0},\"title\":{\"text\":\"Vehicles Available in Top 10 No-Car Renter-Occupied Housing Units Census Tracts\"},\"barmode\":\"relative\"},                        {\"responsive\": true}                    ).then(function(){\n",
       "                            \n",
       "var gd = document.getElementById('c4827fe5-bc2c-4065-94fd-b8a7fd397676');\n",
       "var x = new MutationObserver(function (mutations, observer) {{\n",
       "        var display = window.getComputedStyle(gd).display;\n",
       "        if (!display || display === 'none') {{\n",
       "            console.log([gd, 'removed!']);\n",
       "            Plotly.purge(gd);\n",
       "            observer.disconnect();\n",
       "        }}\n",
       "}});\n",
       "\n",
       "// Listen for the removal of the full notebook cells\n",
       "var notebookContainer = gd.closest('#notebook-container');\n",
       "if (notebookContainer) {{\n",
       "    x.observe(notebookContainer, {childList: true});\n",
       "}}\n",
       "\n",
       "// Listen for the clearing of the current output cell\n",
       "var outputEl = gd.closest('.output');\n",
       "if (outputEl) {{\n",
       "    x.observe(outputEl, {childList: true});\n",
       "}}\n",
       "\n",
       "                        })                };                });            </script>        </div>"
      ]
     },
     "metadata": {},
     "output_type": "display_data"
    }
   ],
   "source": [
    "fig = px.bar(vehicles_long, x=\"Area Name\", y=\"value\", color=\"variable\", \n",
    "            labels={\n",
    "                     \"value\": \"Vehicles Available\",\n",
    "                     \"variable\": \"Vehicles Available\",\n",
    "                 },\n",
    "                title=\"Vehicles Available in Top 10 No-Car Renter-Occupied Housing Units Census Tracts\")\n",
    "\n",
    "fig.update_layout(\n",
    "    xaxis_title=\"Census Tract\")\n",
    "fig.show()"
   ]
  },
  {
   "cell_type": "markdown",
   "id": "29b825c3-6da1-44fc-ac40-ac123f610f65",
   "metadata": {},
   "source": [
    "#### Income"
   ]
  },
  {
   "cell_type": "markdown",
   "id": "9607fb01-ece5-4883-8601-aed41d0b0d13",
   "metadata": {},
   "source": [
    "I updated the headers for the income variables as they were very long."
   ]
  },
  {
   "cell_type": "code",
   "execution_count": 19,
   "id": "ff6cde12-2144-4b26-acb1-cd7722eb968b",
   "metadata": {},
   "outputs": [],
   "source": [
    "income_brackets = [\"Less than $10,000\", \"$10,000 to $14,999\", \"$15,000 to $19,999\", \"$20,000 to $24,999\", \"$25,000 to $29,999\", \"$30,000 to $34,999\", \"$35,000 to $39,999\", \"$40,000 to $44,999\", \"$50,000 to $59,999\", \"$60,000 to $74,999\", \"$75,000 to $99,999\", \"$100,000 to $124,999\", \"$125,000 to $149,999\", \"$150,000 to $199,999\", \"$200,000 or More\"]\n",
    "\n",
    "for i in range(15):\n",
    "    geo_df = geo_df.rename(columns={\"Households: \" + income_brackets[i]: income_brackets[i]})"
   ]
  },
  {
   "cell_type": "markdown",
   "id": "f5dc0edb-0c89-4e35-a660-02189aed7d6e",
   "metadata": {},
   "source": [
    "I filtered out the top 10 tracts that have the most households with incomes less than $10000."
   ]
  },
  {
   "cell_type": "code",
   "execution_count": 20,
   "id": "09753bc6-f8b1-4098-aea2-6b92e25fccc0",
   "metadata": {},
   "outputs": [],
   "source": [
    "most_low_income_tracts = geo_df.sort_values(by=\"Less than $10,000\", ascending = False).head(10)"
   ]
  },
  {
   "cell_type": "markdown",
   "id": "26dae284-a766-4dcc-8f67-ebd5d73a9fa4",
   "metadata": {},
   "source": [
    "I converted this dataframe to be in a long dataframe format."
   ]
  },
  {
   "cell_type": "code",
   "execution_count": 21,
   "id": "bca05efa-3952-4a77-b18f-f4e4a2b589f4",
   "metadata": {},
   "outputs": [],
   "source": [
    "income_long = pd.melt(most_low_income_tracts, id_vars='Census Tract', value_vars=income_brackets)"
   ]
  },
  {
   "cell_type": "code",
   "execution_count": 22,
   "id": "219d99e1-cf69-410b-b7cf-4d0141a47d18",
   "metadata": {},
   "outputs": [],
   "source": [
    "income_long[\"Census Tract\"] = income_long[\"Census Tract\"].astype(str)"
   ]
  },
  {
   "cell_type": "code",
   "execution_count": 23,
   "id": "c2aab931-24f8-416f-95ec-8cd5f9c22d92",
   "metadata": {},
   "outputs": [
    {
     "data": {
      "application/vnd.plotly.v1+json": {
       "config": {
        "plotlyServerURL": "https://plot.ly"
       },
       "data": [
        {
         "alignmentgroup": "True",
         "hovertemplate": "Income bracket=Less than $10,000<br>Census Tract=%{x}<br>Count=%{y}<extra></extra>",
         "legendgroup": "Less than $10,000",
         "marker": {
          "color": "#636efa",
          "pattern": {
           "shape": ""
          }
         },
         "name": "Less than $10,000",
         "offsetgroup": "Less than $10,000",
         "orientation": "v",
         "showlegend": true,
         "textposition": "auto",
         "type": "bar",
         "x": [
          "403000",
          "403501",
          "427600",
          "428400",
          "402802",
          "401100",
          "402900",
          "406100",
          "428700",
          "401300"
         ],
         "xaxis": "x",
         "y": [
          257,
          204,
          189,
          180,
          176,
          174,
          170,
          140,
          138,
          124
         ],
         "yaxis": "y"
        },
        {
         "alignmentgroup": "True",
         "hovertemplate": "Income bracket=$10,000 to $14,999<br>Census Tract=%{x}<br>Count=%{y}<extra></extra>",
         "legendgroup": "$10,000 to $14,999",
         "marker": {
          "color": "#EF553B",
          "pattern": {
           "shape": ""
          }
         },
         "name": "$10,000 to $14,999",
         "offsetgroup": "$10,000 to $14,999",
         "orientation": "v",
         "showlegend": true,
         "textposition": "auto",
         "type": "bar",
         "x": [
          "403000",
          "403501",
          "427600",
          "428400",
          "402802",
          "401100",
          "402900",
          "406100",
          "428700",
          "401300"
         ],
         "xaxis": "x",
         "y": [
          218,
          102,
          54,
          21,
          144,
          11,
          159,
          189,
          112,
          78
         ],
         "yaxis": "y"
        },
        {
         "alignmentgroup": "True",
         "hovertemplate": "Income bracket=$15,000 to $19,999<br>Census Tract=%{x}<br>Count=%{y}<extra></extra>",
         "legendgroup": "$15,000 to $19,999",
         "marker": {
          "color": "#00cc96",
          "pattern": {
           "shape": ""
          }
         },
         "name": "$15,000 to $19,999",
         "offsetgroup": "$15,000 to $19,999",
         "orientation": "v",
         "showlegend": true,
         "textposition": "auto",
         "type": "bar",
         "x": [
          "403000",
          "403501",
          "427600",
          "428400",
          "402802",
          "401100",
          "402900",
          "406100",
          "428700",
          "401300"
         ],
         "xaxis": "x",
         "y": [
          119,
          148,
          19,
          38,
          99,
          41,
          42,
          21,
          67,
          74
         ],
         "yaxis": "y"
        },
        {
         "alignmentgroup": "True",
         "hovertemplate": "Income bracket=$20,000 to $24,999<br>Census Tract=%{x}<br>Count=%{y}<extra></extra>",
         "legendgroup": "$20,000 to $24,999",
         "marker": {
          "color": "#ab63fa",
          "pattern": {
           "shape": ""
          }
         },
         "name": "$20,000 to $24,999",
         "offsetgroup": "$20,000 to $24,999",
         "orientation": "v",
         "showlegend": true,
         "textposition": "auto",
         "type": "bar",
         "x": [
          "403000",
          "403501",
          "427600",
          "428400",
          "402802",
          "401100",
          "402900",
          "406100",
          "428700",
          "401300"
         ],
         "xaxis": "x",
         "y": [
          118,
          159,
          8,
          16,
          0,
          101,
          107,
          40,
          6,
          81
         ],
         "yaxis": "y"
        },
        {
         "alignmentgroup": "True",
         "hovertemplate": "Income bracket=$25,000 to $29,999<br>Census Tract=%{x}<br>Count=%{y}<extra></extra>",
         "legendgroup": "$25,000 to $29,999",
         "marker": {
          "color": "#FFA15A",
          "pattern": {
           "shape": ""
          }
         },
         "name": "$25,000 to $29,999",
         "offsetgroup": "$25,000 to $29,999",
         "orientation": "v",
         "showlegend": true,
         "textposition": "auto",
         "type": "bar",
         "x": [
          "403000",
          "403501",
          "427600",
          "428400",
          "402802",
          "401100",
          "402900",
          "406100",
          "428700",
          "401300"
         ],
         "xaxis": "x",
         "y": [
          116,
          199,
          72,
          38,
          0,
          47,
          4,
          108,
          53,
          58
         ],
         "yaxis": "y"
        },
        {
         "alignmentgroup": "True",
         "hovertemplate": "Income bracket=$30,000 to $34,999<br>Census Tract=%{x}<br>Count=%{y}<extra></extra>",
         "legendgroup": "$30,000 to $34,999",
         "marker": {
          "color": "#19d3f3",
          "pattern": {
           "shape": ""
          }
         },
         "name": "$30,000 to $34,999",
         "offsetgroup": "$30,000 to $34,999",
         "orientation": "v",
         "showlegend": true,
         "textposition": "auto",
         "type": "bar",
         "x": [
          "403000",
          "403501",
          "427600",
          "428400",
          "402802",
          "401100",
          "402900",
          "406100",
          "428700",
          "401300"
         ],
         "xaxis": "x",
         "y": [
          34,
          104,
          123,
          91,
          18,
          0,
          50,
          43,
          31,
          105
         ],
         "yaxis": "y"
        },
        {
         "alignmentgroup": "True",
         "hovertemplate": "Income bracket=$35,000 to $39,999<br>Census Tract=%{x}<br>Count=%{y}<extra></extra>",
         "legendgroup": "$35,000 to $39,999",
         "marker": {
          "color": "#FF6692",
          "pattern": {
           "shape": ""
          }
         },
         "name": "$35,000 to $39,999",
         "offsetgroup": "$35,000 to $39,999",
         "orientation": "v",
         "showlegend": true,
         "textposition": "auto",
         "type": "bar",
         "x": [
          "403000",
          "403501",
          "427600",
          "428400",
          "402802",
          "401100",
          "402900",
          "406100",
          "428700",
          "401300"
         ],
         "xaxis": "x",
         "y": [
          0,
          14,
          40,
          30,
          0,
          66,
          35,
          16,
          19,
          68
         ],
         "yaxis": "y"
        },
        {
         "alignmentgroup": "True",
         "hovertemplate": "Income bracket=$40,000 to $44,999<br>Census Tract=%{x}<br>Count=%{y}<extra></extra>",
         "legendgroup": "$40,000 to $44,999",
         "marker": {
          "color": "#B6E880",
          "pattern": {
           "shape": ""
          }
         },
         "name": "$40,000 to $44,999",
         "offsetgroup": "$40,000 to $44,999",
         "orientation": "v",
         "showlegend": true,
         "textposition": "auto",
         "type": "bar",
         "x": [
          "403000",
          "403501",
          "427600",
          "428400",
          "402802",
          "401100",
          "402900",
          "406100",
          "428700",
          "401300"
         ],
         "xaxis": "x",
         "y": [
          0,
          34,
          45,
          103,
          0,
          55,
          28,
          151,
          49,
          58
         ],
         "yaxis": "y"
        },
        {
         "alignmentgroup": "True",
         "hovertemplate": "Income bracket=$50,000 to $59,999<br>Census Tract=%{x}<br>Count=%{y}<extra></extra>",
         "legendgroup": "$50,000 to $59,999",
         "marker": {
          "color": "#FF97FF",
          "pattern": {
           "shape": ""
          }
         },
         "name": "$50,000 to $59,999",
         "offsetgroup": "$50,000 to $59,999",
         "orientation": "v",
         "showlegend": true,
         "textposition": "auto",
         "type": "bar",
         "x": [
          "403000",
          "403501",
          "427600",
          "428400",
          "402802",
          "401100",
          "402900",
          "406100",
          "428700",
          "401300"
         ],
         "xaxis": "x",
         "y": [
          74,
          212,
          120,
          107,
          39,
          115,
          58,
          91,
          53,
          87
         ],
         "yaxis": "y"
        },
        {
         "alignmentgroup": "True",
         "hovertemplate": "Income bracket=$60,000 to $74,999<br>Census Tract=%{x}<br>Count=%{y}<extra></extra>",
         "legendgroup": "$60,000 to $74,999",
         "marker": {
          "color": "#FECB52",
          "pattern": {
           "shape": ""
          }
         },
         "name": "$60,000 to $74,999",
         "offsetgroup": "$60,000 to $74,999",
         "orientation": "v",
         "showlegend": true,
         "textposition": "auto",
         "type": "bar",
         "x": [
          "403000",
          "403501",
          "427600",
          "428400",
          "402802",
          "401100",
          "402900",
          "406100",
          "428700",
          "401300"
         ],
         "xaxis": "x",
         "y": [
          86,
          124,
          196,
          153,
          12,
          173,
          53,
          115,
          98,
          61
         ],
         "yaxis": "y"
        },
        {
         "alignmentgroup": "True",
         "hovertemplate": "Income bracket=$75,000 to $99,999<br>Census Tract=%{x}<br>Count=%{y}<extra></extra>",
         "legendgroup": "$75,000 to $99,999",
         "marker": {
          "color": "#636efa",
          "pattern": {
           "shape": ""
          }
         },
         "name": "$75,000 to $99,999",
         "offsetgroup": "$75,000 to $99,999",
         "orientation": "v",
         "showlegend": true,
         "textposition": "auto",
         "type": "bar",
         "x": [
          "403000",
          "403501",
          "427600",
          "428400",
          "402802",
          "401100",
          "402900",
          "406100",
          "428700",
          "401300"
         ],
         "xaxis": "x",
         "y": [
          112,
          202,
          374,
          241,
          54,
          632,
          83,
          108,
          91,
          300
         ],
         "yaxis": "y"
        },
        {
         "alignmentgroup": "True",
         "hovertemplate": "Income bracket=$100,000 to $124,999<br>Census Tract=%{x}<br>Count=%{y}<extra></extra>",
         "legendgroup": "$100,000 to $124,999",
         "marker": {
          "color": "#EF553B",
          "pattern": {
           "shape": ""
          }
         },
         "name": "$100,000 to $124,999",
         "offsetgroup": "$100,000 to $124,999",
         "orientation": "v",
         "showlegend": true,
         "textposition": "auto",
         "type": "bar",
         "x": [
          "403000",
          "403501",
          "427600",
          "428400",
          "402802",
          "401100",
          "402900",
          "406100",
          "428700",
          "401300"
         ],
         "xaxis": "x",
         "y": [
          77,
          342,
          204,
          221,
          22,
          251,
          37,
          108,
          38,
          297
         ],
         "yaxis": "y"
        },
        {
         "alignmentgroup": "True",
         "hovertemplate": "Income bracket=$125,000 to $149,999<br>Census Tract=%{x}<br>Count=%{y}<extra></extra>",
         "legendgroup": "$125,000 to $149,999",
         "marker": {
          "color": "#00cc96",
          "pattern": {
           "shape": ""
          }
         },
         "name": "$125,000 to $149,999",
         "offsetgroup": "$125,000 to $149,999",
         "orientation": "v",
         "showlegend": true,
         "textposition": "auto",
         "type": "bar",
         "x": [
          "403000",
          "403501",
          "427600",
          "428400",
          "402802",
          "401100",
          "402900",
          "406100",
          "428700",
          "401300"
         ],
         "xaxis": "x",
         "y": [
          58,
          82,
          156,
          156,
          0,
          49,
          66,
          72,
          38,
          146
         ],
         "yaxis": "y"
        },
        {
         "alignmentgroup": "True",
         "hovertemplate": "Income bracket=$150,000 to $199,999<br>Census Tract=%{x}<br>Count=%{y}<extra></extra>",
         "legendgroup": "$150,000 to $199,999",
         "marker": {
          "color": "#ab63fa",
          "pattern": {
           "shape": ""
          }
         },
         "name": "$150,000 to $199,999",
         "offsetgroup": "$150,000 to $199,999",
         "orientation": "v",
         "showlegend": true,
         "textposition": "auto",
         "type": "bar",
         "x": [
          "403000",
          "403501",
          "427600",
          "428400",
          "402802",
          "401100",
          "402900",
          "406100",
          "428700",
          "401300"
         ],
         "xaxis": "x",
         "y": [
          88,
          244,
          141,
          214,
          20,
          207,
          96,
          208,
          144,
          230
         ],
         "yaxis": "y"
        },
        {
         "alignmentgroup": "True",
         "hovertemplate": "Income bracket=$200,000 or More<br>Census Tract=%{x}<br>Count=%{y}<extra></extra>",
         "legendgroup": "$200,000 or More",
         "marker": {
          "color": "#FFA15A",
          "pattern": {
           "shape": ""
          }
         },
         "name": "$200,000 or More",
         "offsetgroup": "$200,000 or More",
         "orientation": "v",
         "showlegend": true,
         "textposition": "auto",
         "type": "bar",
         "x": [
          "403000",
          "403501",
          "427600",
          "428400",
          "402802",
          "401100",
          "402900",
          "406100",
          "428700",
          "401300"
         ],
         "xaxis": "x",
         "y": [
          100,
          401,
          189,
          233,
          51,
          460,
          37,
          206,
          473,
          250
         ],
         "yaxis": "y"
        }
       ],
       "layout": {
        "autosize": true,
        "barmode": "relative",
        "legend": {
         "title": {
          "text": "Income bracket"
         },
         "tracegroupgap": 0
        },
        "template": {
         "data": {
          "bar": [
           {
            "error_x": {
             "color": "#2a3f5f"
            },
            "error_y": {
             "color": "#2a3f5f"
            },
            "marker": {
             "line": {
              "color": "#E5ECF6",
              "width": 0.5
             },
             "pattern": {
              "fillmode": "overlay",
              "size": 10,
              "solidity": 0.2
             }
            },
            "type": "bar"
           }
          ],
          "barpolar": [
           {
            "marker": {
             "line": {
              "color": "#E5ECF6",
              "width": 0.5
             },
             "pattern": {
              "fillmode": "overlay",
              "size": 10,
              "solidity": 0.2
             }
            },
            "type": "barpolar"
           }
          ],
          "carpet": [
           {
            "aaxis": {
             "endlinecolor": "#2a3f5f",
             "gridcolor": "white",
             "linecolor": "white",
             "minorgridcolor": "white",
             "startlinecolor": "#2a3f5f"
            },
            "baxis": {
             "endlinecolor": "#2a3f5f",
             "gridcolor": "white",
             "linecolor": "white",
             "minorgridcolor": "white",
             "startlinecolor": "#2a3f5f"
            },
            "type": "carpet"
           }
          ],
          "choropleth": [
           {
            "colorbar": {
             "outlinewidth": 0,
             "ticks": ""
            },
            "type": "choropleth"
           }
          ],
          "contour": [
           {
            "colorbar": {
             "outlinewidth": 0,
             "ticks": ""
            },
            "colorscale": [
             [
              0,
              "#0d0887"
             ],
             [
              0.1111111111111111,
              "#46039f"
             ],
             [
              0.2222222222222222,
              "#7201a8"
             ],
             [
              0.3333333333333333,
              "#9c179e"
             ],
             [
              0.4444444444444444,
              "#bd3786"
             ],
             [
              0.5555555555555556,
              "#d8576b"
             ],
             [
              0.6666666666666666,
              "#ed7953"
             ],
             [
              0.7777777777777778,
              "#fb9f3a"
             ],
             [
              0.8888888888888888,
              "#fdca26"
             ],
             [
              1,
              "#f0f921"
             ]
            ],
            "type": "contour"
           }
          ],
          "contourcarpet": [
           {
            "colorbar": {
             "outlinewidth": 0,
             "ticks": ""
            },
            "type": "contourcarpet"
           }
          ],
          "heatmap": [
           {
            "colorbar": {
             "outlinewidth": 0,
             "ticks": ""
            },
            "colorscale": [
             [
              0,
              "#0d0887"
             ],
             [
              0.1111111111111111,
              "#46039f"
             ],
             [
              0.2222222222222222,
              "#7201a8"
             ],
             [
              0.3333333333333333,
              "#9c179e"
             ],
             [
              0.4444444444444444,
              "#bd3786"
             ],
             [
              0.5555555555555556,
              "#d8576b"
             ],
             [
              0.6666666666666666,
              "#ed7953"
             ],
             [
              0.7777777777777778,
              "#fb9f3a"
             ],
             [
              0.8888888888888888,
              "#fdca26"
             ],
             [
              1,
              "#f0f921"
             ]
            ],
            "type": "heatmap"
           }
          ],
          "heatmapgl": [
           {
            "colorbar": {
             "outlinewidth": 0,
             "ticks": ""
            },
            "colorscale": [
             [
              0,
              "#0d0887"
             ],
             [
              0.1111111111111111,
              "#46039f"
             ],
             [
              0.2222222222222222,
              "#7201a8"
             ],
             [
              0.3333333333333333,
              "#9c179e"
             ],
             [
              0.4444444444444444,
              "#bd3786"
             ],
             [
              0.5555555555555556,
              "#d8576b"
             ],
             [
              0.6666666666666666,
              "#ed7953"
             ],
             [
              0.7777777777777778,
              "#fb9f3a"
             ],
             [
              0.8888888888888888,
              "#fdca26"
             ],
             [
              1,
              "#f0f921"
             ]
            ],
            "type": "heatmapgl"
           }
          ],
          "histogram": [
           {
            "marker": {
             "pattern": {
              "fillmode": "overlay",
              "size": 10,
              "solidity": 0.2
             }
            },
            "type": "histogram"
           }
          ],
          "histogram2d": [
           {
            "colorbar": {
             "outlinewidth": 0,
             "ticks": ""
            },
            "colorscale": [
             [
              0,
              "#0d0887"
             ],
             [
              0.1111111111111111,
              "#46039f"
             ],
             [
              0.2222222222222222,
              "#7201a8"
             ],
             [
              0.3333333333333333,
              "#9c179e"
             ],
             [
              0.4444444444444444,
              "#bd3786"
             ],
             [
              0.5555555555555556,
              "#d8576b"
             ],
             [
              0.6666666666666666,
              "#ed7953"
             ],
             [
              0.7777777777777778,
              "#fb9f3a"
             ],
             [
              0.8888888888888888,
              "#fdca26"
             ],
             [
              1,
              "#f0f921"
             ]
            ],
            "type": "histogram2d"
           }
          ],
          "histogram2dcontour": [
           {
            "colorbar": {
             "outlinewidth": 0,
             "ticks": ""
            },
            "colorscale": [
             [
              0,
              "#0d0887"
             ],
             [
              0.1111111111111111,
              "#46039f"
             ],
             [
              0.2222222222222222,
              "#7201a8"
             ],
             [
              0.3333333333333333,
              "#9c179e"
             ],
             [
              0.4444444444444444,
              "#bd3786"
             ],
             [
              0.5555555555555556,
              "#d8576b"
             ],
             [
              0.6666666666666666,
              "#ed7953"
             ],
             [
              0.7777777777777778,
              "#fb9f3a"
             ],
             [
              0.8888888888888888,
              "#fdca26"
             ],
             [
              1,
              "#f0f921"
             ]
            ],
            "type": "histogram2dcontour"
           }
          ],
          "mesh3d": [
           {
            "colorbar": {
             "outlinewidth": 0,
             "ticks": ""
            },
            "type": "mesh3d"
           }
          ],
          "parcoords": [
           {
            "line": {
             "colorbar": {
              "outlinewidth": 0,
              "ticks": ""
             }
            },
            "type": "parcoords"
           }
          ],
          "pie": [
           {
            "automargin": true,
            "type": "pie"
           }
          ],
          "scatter": [
           {
            "fillpattern": {
             "fillmode": "overlay",
             "size": 10,
             "solidity": 0.2
            },
            "type": "scatter"
           }
          ],
          "scatter3d": [
           {
            "line": {
             "colorbar": {
              "outlinewidth": 0,
              "ticks": ""
             }
            },
            "marker": {
             "colorbar": {
              "outlinewidth": 0,
              "ticks": ""
             }
            },
            "type": "scatter3d"
           }
          ],
          "scattercarpet": [
           {
            "marker": {
             "colorbar": {
              "outlinewidth": 0,
              "ticks": ""
             }
            },
            "type": "scattercarpet"
           }
          ],
          "scattergeo": [
           {
            "marker": {
             "colorbar": {
              "outlinewidth": 0,
              "ticks": ""
             }
            },
            "type": "scattergeo"
           }
          ],
          "scattergl": [
           {
            "marker": {
             "colorbar": {
              "outlinewidth": 0,
              "ticks": ""
             }
            },
            "type": "scattergl"
           }
          ],
          "scattermapbox": [
           {
            "marker": {
             "colorbar": {
              "outlinewidth": 0,
              "ticks": ""
             }
            },
            "type": "scattermapbox"
           }
          ],
          "scatterpolar": [
           {
            "marker": {
             "colorbar": {
              "outlinewidth": 0,
              "ticks": ""
             }
            },
            "type": "scatterpolar"
           }
          ],
          "scatterpolargl": [
           {
            "marker": {
             "colorbar": {
              "outlinewidth": 0,
              "ticks": ""
             }
            },
            "type": "scatterpolargl"
           }
          ],
          "scatterternary": [
           {
            "marker": {
             "colorbar": {
              "outlinewidth": 0,
              "ticks": ""
             }
            },
            "type": "scatterternary"
           }
          ],
          "surface": [
           {
            "colorbar": {
             "outlinewidth": 0,
             "ticks": ""
            },
            "colorscale": [
             [
              0,
              "#0d0887"
             ],
             [
              0.1111111111111111,
              "#46039f"
             ],
             [
              0.2222222222222222,
              "#7201a8"
             ],
             [
              0.3333333333333333,
              "#9c179e"
             ],
             [
              0.4444444444444444,
              "#bd3786"
             ],
             [
              0.5555555555555556,
              "#d8576b"
             ],
             [
              0.6666666666666666,
              "#ed7953"
             ],
             [
              0.7777777777777778,
              "#fb9f3a"
             ],
             [
              0.8888888888888888,
              "#fdca26"
             ],
             [
              1,
              "#f0f921"
             ]
            ],
            "type": "surface"
           }
          ],
          "table": [
           {
            "cells": {
             "fill": {
              "color": "#EBF0F8"
             },
             "line": {
              "color": "white"
             }
            },
            "header": {
             "fill": {
              "color": "#C8D4E3"
             },
             "line": {
              "color": "white"
             }
            },
            "type": "table"
           }
          ]
         },
         "layout": {
          "annotationdefaults": {
           "arrowcolor": "#2a3f5f",
           "arrowhead": 0,
           "arrowwidth": 1
          },
          "autotypenumbers": "strict",
          "coloraxis": {
           "colorbar": {
            "outlinewidth": 0,
            "ticks": ""
           }
          },
          "colorscale": {
           "diverging": [
            [
             0,
             "#8e0152"
            ],
            [
             0.1,
             "#c51b7d"
            ],
            [
             0.2,
             "#de77ae"
            ],
            [
             0.3,
             "#f1b6da"
            ],
            [
             0.4,
             "#fde0ef"
            ],
            [
             0.5,
             "#f7f7f7"
            ],
            [
             0.6,
             "#e6f5d0"
            ],
            [
             0.7,
             "#b8e186"
            ],
            [
             0.8,
             "#7fbc41"
            ],
            [
             0.9,
             "#4d9221"
            ],
            [
             1,
             "#276419"
            ]
           ],
           "sequential": [
            [
             0,
             "#0d0887"
            ],
            [
             0.1111111111111111,
             "#46039f"
            ],
            [
             0.2222222222222222,
             "#7201a8"
            ],
            [
             0.3333333333333333,
             "#9c179e"
            ],
            [
             0.4444444444444444,
             "#bd3786"
            ],
            [
             0.5555555555555556,
             "#d8576b"
            ],
            [
             0.6666666666666666,
             "#ed7953"
            ],
            [
             0.7777777777777778,
             "#fb9f3a"
            ],
            [
             0.8888888888888888,
             "#fdca26"
            ],
            [
             1,
             "#f0f921"
            ]
           ],
           "sequentialminus": [
            [
             0,
             "#0d0887"
            ],
            [
             0.1111111111111111,
             "#46039f"
            ],
            [
             0.2222222222222222,
             "#7201a8"
            ],
            [
             0.3333333333333333,
             "#9c179e"
            ],
            [
             0.4444444444444444,
             "#bd3786"
            ],
            [
             0.5555555555555556,
             "#d8576b"
            ],
            [
             0.6666666666666666,
             "#ed7953"
            ],
            [
             0.7777777777777778,
             "#fb9f3a"
            ],
            [
             0.8888888888888888,
             "#fdca26"
            ],
            [
             1,
             "#f0f921"
            ]
           ]
          },
          "colorway": [
           "#636efa",
           "#EF553B",
           "#00cc96",
           "#ab63fa",
           "#FFA15A",
           "#19d3f3",
           "#FF6692",
           "#B6E880",
           "#FF97FF",
           "#FECB52"
          ],
          "font": {
           "color": "#2a3f5f"
          },
          "geo": {
           "bgcolor": "white",
           "lakecolor": "white",
           "landcolor": "#E5ECF6",
           "showlakes": true,
           "showland": true,
           "subunitcolor": "white"
          },
          "hoverlabel": {
           "align": "left"
          },
          "hovermode": "closest",
          "mapbox": {
           "style": "light"
          },
          "paper_bgcolor": "white",
          "plot_bgcolor": "#E5ECF6",
          "polar": {
           "angularaxis": {
            "gridcolor": "white",
            "linecolor": "white",
            "ticks": ""
           },
           "bgcolor": "#E5ECF6",
           "radialaxis": {
            "gridcolor": "white",
            "linecolor": "white",
            "ticks": ""
           }
          },
          "scene": {
           "xaxis": {
            "backgroundcolor": "#E5ECF6",
            "gridcolor": "white",
            "gridwidth": 2,
            "linecolor": "white",
            "showbackground": true,
            "ticks": "",
            "zerolinecolor": "white"
           },
           "yaxis": {
            "backgroundcolor": "#E5ECF6",
            "gridcolor": "white",
            "gridwidth": 2,
            "linecolor": "white",
            "showbackground": true,
            "ticks": "",
            "zerolinecolor": "white"
           },
           "zaxis": {
            "backgroundcolor": "#E5ECF6",
            "gridcolor": "white",
            "gridwidth": 2,
            "linecolor": "white",
            "showbackground": true,
            "ticks": "",
            "zerolinecolor": "white"
           }
          },
          "shapedefaults": {
           "line": {
            "color": "#2a3f5f"
           }
          },
          "ternary": {
           "aaxis": {
            "gridcolor": "white",
            "linecolor": "white",
            "ticks": ""
           },
           "baxis": {
            "gridcolor": "white",
            "linecolor": "white",
            "ticks": ""
           },
           "bgcolor": "#E5ECF6",
           "caxis": {
            "gridcolor": "white",
            "linecolor": "white",
            "ticks": ""
           }
          },
          "title": {
           "x": 0.05
          },
          "xaxis": {
           "automargin": true,
           "gridcolor": "white",
           "linecolor": "white",
           "ticks": "",
           "title": {
            "standoff": 15
           },
           "zerolinecolor": "white",
           "zerolinewidth": 2
          },
          "yaxis": {
           "automargin": true,
           "gridcolor": "white",
           "linecolor": "white",
           "ticks": "",
           "title": {
            "standoff": 15
           },
           "zerolinecolor": "white",
           "zerolinewidth": 2
          }
         }
        },
        "title": {
         "text": "Income bracket counts in 10 Census Tracts with most households with annual incomes less than $10,000"
        },
        "xaxis": {
         "anchor": "y",
         "autorange": true,
         "domain": [
          0,
          1
         ],
         "range": [
          -0.5,
          9.5
         ],
         "title": {
          "text": "Census Tract"
         },
         "type": "category"
        },
        "yaxis": {
         "anchor": "x",
         "autorange": true,
         "domain": [
          0,
          1
         ],
         "range": [
          0,
          2706.315789473684
         ],
         "title": {
          "text": "Count"
         },
         "type": "linear"
        }
       }
      },
      "image/png": "[encoded data removed]",
      "text/html": [
       "<div>                            <div id=\"f7c42dc1-e330-4642-a204-e8ea2a17c5ce\" class=\"plotly-graph-div\" style=\"height:525px; width:100%;\"></div>            <script type=\"text/javascript\">                require([\"plotly\"], function(Plotly) {                    window.PLOTLYENV=window.PLOTLYENV || {};                                    if (document.getElementById(\"f7c42dc1-e330-4642-a204-e8ea2a17c5ce\")) {                    Plotly.newPlot(                        \"f7c42dc1-e330-4642-a204-e8ea2a17c5ce\",                        [{\"alignmentgroup\":\"True\",\"hovertemplate\":\"Income bracket=Less than $10,000<br>Census Tract=%{x}<br>Count=%{y}<extra></extra>\",\"legendgroup\":\"Less than $10,000\",\"marker\":{\"color\":\"#636efa\",\"pattern\":{\"shape\":\"\"}},\"name\":\"Less than $10,000\",\"offsetgroup\":\"Less than $10,000\",\"orientation\":\"v\",\"showlegend\":true,\"textposition\":\"auto\",\"x\":[\"403000\",\"403501\",\"427600\",\"428400\",\"402802\",\"401100\",\"402900\",\"406100\",\"428700\",\"401300\"],\"xaxis\":\"x\",\"y\":[257,204,189,180,176,174,170,140,138,124],\"yaxis\":\"y\",\"type\":\"bar\"},{\"alignmentgroup\":\"True\",\"hovertemplate\":\"Income bracket=$10,000 to $14,999<br>Census Tract=%{x}<br>Count=%{y}<extra></extra>\",\"legendgroup\":\"$10,000 to $14,999\",\"marker\":{\"color\":\"#EF553B\",\"pattern\":{\"shape\":\"\"}},\"name\":\"$10,000 to $14,999\",\"offsetgroup\":\"$10,000 to $14,999\",\"orientation\":\"v\",\"showlegend\":true,\"textposition\":\"auto\",\"x\":[\"403000\",\"403501\",\"427600\",\"428400\",\"402802\",\"401100\",\"402900\",\"406100\",\"428700\",\"401300\"],\"xaxis\":\"x\",\"y\":[218,102,54,21,144,11,159,189,112,78],\"yaxis\":\"y\",\"type\":\"bar\"},{\"alignmentgroup\":\"True\",\"hovertemplate\":\"Income bracket=$15,000 to $19,999<br>Census Tract=%{x}<br>Count=%{y}<extra></extra>\",\"legendgroup\":\"$15,000 to $19,999\",\"marker\":{\"color\":\"#00cc96\",\"pattern\":{\"shape\":\"\"}},\"name\":\"$15,000 to $19,999\",\"offsetgroup\":\"$15,000 to $19,999\",\"orientation\":\"v\",\"showlegend\":true,\"textposition\":\"auto\",\"x\":[\"403000\",\"403501\",\"427600\",\"428400\",\"402802\",\"401100\",\"402900\",\"406100\",\"428700\",\"401300\"],\"xaxis\":\"x\",\"y\":[119,148,19,38,99,41,42,21,67,74],\"yaxis\":\"y\",\"type\":\"bar\"},{\"alignmentgroup\":\"True\",\"hovertemplate\":\"Income bracket=$20,000 to $24,999<br>Census Tract=%{x}<br>Count=%{y}<extra></extra>\",\"legendgroup\":\"$20,000 to $24,999\",\"marker\":{\"color\":\"#ab63fa\",\"pattern\":{\"shape\":\"\"}},\"name\":\"$20,000 to $24,999\",\"offsetgroup\":\"$20,000 to $24,999\",\"orientation\":\"v\",\"showlegend\":true,\"textposition\":\"auto\",\"x\":[\"403000\",\"403501\",\"427600\",\"428400\",\"402802\",\"401100\",\"402900\",\"406100\",\"428700\",\"401300\"],\"xaxis\":\"x\",\"y\":[118,159,8,16,0,101,107,40,6,81],\"yaxis\":\"y\",\"type\":\"bar\"},{\"alignmentgroup\":\"True\",\"hovertemplate\":\"Income bracket=$25,000 to $29,999<br>Census Tract=%{x}<br>Count=%{y}<extra></extra>\",\"legendgroup\":\"$25,000 to $29,999\",\"marker\":{\"color\":\"#FFA15A\",\"pattern\":{\"shape\":\"\"}},\"name\":\"$25,000 to $29,999\",\"offsetgroup\":\"$25,000 to $29,999\",\"orientation\":\"v\",\"showlegend\":true,\"textposition\":\"auto\",\"x\":[\"403000\",\"403501\",\"427600\",\"428400\",\"402802\",\"401100\",\"402900\",\"406100\",\"428700\",\"401300\"],\"xaxis\":\"x\",\"y\":[116,199,72,38,0,47,4,108,53,58],\"yaxis\":\"y\",\"type\":\"bar\"},{\"alignmentgroup\":\"True\",\"hovertemplate\":\"Income bracket=$30,000 to $34,999<br>Census Tract=%{x}<br>Count=%{y}<extra></extra>\",\"legendgroup\":\"$30,000 to $34,999\",\"marker\":{\"color\":\"#19d3f3\",\"pattern\":{\"shape\":\"\"}},\"name\":\"$30,000 to $34,999\",\"offsetgroup\":\"$30,000 to $34,999\",\"orientation\":\"v\",\"showlegend\":true,\"textposition\":\"auto\",\"x\":[\"403000\",\"403501\",\"427600\",\"428400\",\"402802\",\"401100\",\"402900\",\"406100\",\"428700\",\"401300\"],\"xaxis\":\"x\",\"y\":[34,104,123,91,18,0,50,43,31,105],\"yaxis\":\"y\",\"type\":\"bar\"},{\"alignmentgroup\":\"True\",\"hovertemplate\":\"Income bracket=$35,000 to $39,999<br>Census Tract=%{x}<br>Count=%{y}<extra></extra>\",\"legendgroup\":\"$35,000 to $39,999\",\"marker\":{\"color\":\"#FF6692\",\"pattern\":{\"shape\":\"\"}},\"name\":\"$35,000 to $39,999\",\"offsetgroup\":\"$35,000 to $39,999\",\"orientation\":\"v\",\"showlegend\":true,\"textposition\":\"auto\",\"x\":[\"403000\",\"403501\",\"427600\",\"428400\",\"402802\",\"401100\",\"402900\",\"406100\",\"428700\",\"401300\"],\"xaxis\":\"x\",\"y\":[0,14,40,30,0,66,35,16,19,68],\"yaxis\":\"y\",\"type\":\"bar\"},{\"alignmentgroup\":\"True\",\"hovertemplate\":\"Income bracket=$40,000 to $44,999<br>Census Tract=%{x}<br>Count=%{y}<extra></extra>\",\"legendgroup\":\"$40,000 to $44,999\",\"marker\":{\"color\":\"#B6E880\",\"pattern\":{\"shape\":\"\"}},\"name\":\"$40,000 to $44,999\",\"offsetgroup\":\"$40,000 to $44,999\",\"orientation\":\"v\",\"showlegend\":true,\"textposition\":\"auto\",\"x\":[\"403000\",\"403501\",\"427600\",\"428400\",\"402802\",\"401100\",\"402900\",\"406100\",\"428700\",\"401300\"],\"xaxis\":\"x\",\"y\":[0,34,45,103,0,55,28,151,49,58],\"yaxis\":\"y\",\"type\":\"bar\"},{\"alignmentgroup\":\"True\",\"hovertemplate\":\"Income bracket=$50,000 to $59,999<br>Census Tract=%{x}<br>Count=%{y}<extra></extra>\",\"legendgroup\":\"$50,000 to $59,999\",\"marker\":{\"color\":\"#FF97FF\",\"pattern\":{\"shape\":\"\"}},\"name\":\"$50,000 to $59,999\",\"offsetgroup\":\"$50,000 to $59,999\",\"orientation\":\"v\",\"showlegend\":true,\"textposition\":\"auto\",\"x\":[\"403000\",\"403501\",\"427600\",\"428400\",\"402802\",\"401100\",\"402900\",\"406100\",\"428700\",\"401300\"],\"xaxis\":\"x\",\"y\":[74,212,120,107,39,115,58,91,53,87],\"yaxis\":\"y\",\"type\":\"bar\"},{\"alignmentgroup\":\"True\",\"hovertemplate\":\"Income bracket=$60,000 to $74,999<br>Census Tract=%{x}<br>Count=%{y}<extra></extra>\",\"legendgroup\":\"$60,000 to $74,999\",\"marker\":{\"color\":\"#FECB52\",\"pattern\":{\"shape\":\"\"}},\"name\":\"$60,000 to $74,999\",\"offsetgroup\":\"$60,000 to $74,999\",\"orientation\":\"v\",\"showlegend\":true,\"textposition\":\"auto\",\"x\":[\"403000\",\"403501\",\"427600\",\"428400\",\"402802\",\"401100\",\"402900\",\"406100\",\"428700\",\"401300\"],\"xaxis\":\"x\",\"y\":[86,124,196,153,12,173,53,115,98,61],\"yaxis\":\"y\",\"type\":\"bar\"},{\"alignmentgroup\":\"True\",\"hovertemplate\":\"Income bracket=$75,000 to $99,999<br>Census Tract=%{x}<br>Count=%{y}<extra></extra>\",\"legendgroup\":\"$75,000 to $99,999\",\"marker\":{\"color\":\"#636efa\",\"pattern\":{\"shape\":\"\"}},\"name\":\"$75,000 to $99,999\",\"offsetgroup\":\"$75,000 to $99,999\",\"orientation\":\"v\",\"showlegend\":true,\"textposition\":\"auto\",\"x\":[\"403000\",\"403501\",\"427600\",\"428400\",\"402802\",\"401100\",\"402900\",\"406100\",\"428700\",\"401300\"],\"xaxis\":\"x\",\"y\":[112,202,374,241,54,632,83,108,91,300],\"yaxis\":\"y\",\"type\":\"bar\"},{\"alignmentgroup\":\"True\",\"hovertemplate\":\"Income bracket=$100,000 to $124,999<br>Census Tract=%{x}<br>Count=%{y}<extra></extra>\",\"legendgroup\":\"$100,000 to $124,999\",\"marker\":{\"color\":\"#EF553B\",\"pattern\":{\"shape\":\"\"}},\"name\":\"$100,000 to $124,999\",\"offsetgroup\":\"$100,000 to $124,999\",\"orientation\":\"v\",\"showlegend\":true,\"textposition\":\"auto\",\"x\":[\"403000\",\"403501\",\"427600\",\"428400\",\"402802\",\"401100\",\"402900\",\"406100\",\"428700\",\"401300\"],\"xaxis\":\"x\",\"y\":[77,342,204,221,22,251,37,108,38,297],\"yaxis\":\"y\",\"type\":\"bar\"},{\"alignmentgroup\":\"True\",\"hovertemplate\":\"Income bracket=$125,000 to $149,999<br>Census Tract=%{x}<br>Count=%{y}<extra></extra>\",\"legendgroup\":\"$125,000 to $149,999\",\"marker\":{\"color\":\"#00cc96\",\"pattern\":{\"shape\":\"\"}},\"name\":\"$125,000 to $149,999\",\"offsetgroup\":\"$125,000 to $149,999\",\"orientation\":\"v\",\"showlegend\":true,\"textposition\":\"auto\",\"x\":[\"403000\",\"403501\",\"427600\",\"428400\",\"402802\",\"401100\",\"402900\",\"406100\",\"428700\",\"401300\"],\"xaxis\":\"x\",\"y\":[58,82,156,156,0,49,66,72,38,146],\"yaxis\":\"y\",\"type\":\"bar\"},{\"alignmentgroup\":\"True\",\"hovertemplate\":\"Income bracket=$150,000 to $199,999<br>Census Tract=%{x}<br>Count=%{y}<extra></extra>\",\"legendgroup\":\"$150,000 to $199,999\",\"marker\":{\"color\":\"#ab63fa\",\"pattern\":{\"shape\":\"\"}},\"name\":\"$150,000 to $199,999\",\"offsetgroup\":\"$150,000 to $199,999\",\"orientation\":\"v\",\"showlegend\":true,\"textposition\":\"auto\",\"x\":[\"403000\",\"403501\",\"427600\",\"428400\",\"402802\",\"401100\",\"402900\",\"406100\",\"428700\",\"401300\"],\"xaxis\":\"x\",\"y\":[88,244,141,214,20,207,96,208,144,230],\"yaxis\":\"y\",\"type\":\"bar\"},{\"alignmentgroup\":\"True\",\"hovertemplate\":\"Income bracket=$200,000 or More<br>Census Tract=%{x}<br>Count=%{y}<extra></extra>\",\"legendgroup\":\"$200,000 or More\",\"marker\":{\"color\":\"#FFA15A\",\"pattern\":{\"shape\":\"\"}},\"name\":\"$200,000 or More\",\"offsetgroup\":\"$200,000 or More\",\"orientation\":\"v\",\"showlegend\":true,\"textposition\":\"auto\",\"x\":[\"403000\",\"403501\",\"427600\",\"428400\",\"402802\",\"401100\",\"402900\",\"406100\",\"428700\",\"401300\"],\"xaxis\":\"x\",\"y\":[100,401,189,233,51,460,37,206,473,250],\"yaxis\":\"y\",\"type\":\"bar\"}],                        {\"template\":{\"data\":{\"histogram2dcontour\":[{\"type\":\"histogram2dcontour\",\"colorbar\":{\"outlinewidth\":0,\"ticks\":\"\"},\"colorscale\":[[0.0,\"#0d0887\"],[0.1111111111111111,\"#46039f\"],[0.2222222222222222,\"#7201a8\"],[0.3333333333333333,\"#9c179e\"],[0.4444444444444444,\"#bd3786\"],[0.5555555555555556,\"#d8576b\"],[0.6666666666666666,\"#ed7953\"],[0.7777777777777778,\"#fb9f3a\"],[0.8888888888888888,\"#fdca26\"],[1.0,\"#f0f921\"]]}],\"choropleth\":[{\"type\":\"choropleth\",\"colorbar\":{\"outlinewidth\":0,\"ticks\":\"\"}}],\"histogram2d\":[{\"type\":\"histogram2d\",\"colorbar\":{\"outlinewidth\":0,\"ticks\":\"\"},\"colorscale\":[[0.0,\"#0d0887\"],[0.1111111111111111,\"#46039f\"],[0.2222222222222222,\"#7201a8\"],[0.3333333333333333,\"#9c179e\"],[0.4444444444444444,\"#bd3786\"],[0.5555555555555556,\"#d8576b\"],[0.6666666666666666,\"#ed7953\"],[0.7777777777777778,\"#fb9f3a\"],[0.8888888888888888,\"#fdca26\"],[1.0,\"#f0f921\"]]}],\"heatmap\":[{\"type\":\"heatmap\",\"colorbar\":{\"outlinewidth\":0,\"ticks\":\"\"},\"colorscale\":[[0.0,\"#0d0887\"],[0.1111111111111111,\"#46039f\"],[0.2222222222222222,\"#7201a8\"],[0.3333333333333333,\"#9c179e\"],[0.4444444444444444,\"#bd3786\"],[0.5555555555555556,\"#d8576b\"],[0.6666666666666666,\"#ed7953\"],[0.7777777777777778,\"#fb9f3a\"],[0.8888888888888888,\"#fdca26\"],[1.0,\"#f0f921\"]]}],\"heatmapgl\":[{\"type\":\"heatmapgl\",\"colorbar\":{\"outlinewidth\":0,\"ticks\":\"\"},\"colorscale\":[[0.0,\"#0d0887\"],[0.1111111111111111,\"#46039f\"],[0.2222222222222222,\"#7201a8\"],[0.3333333333333333,\"#9c179e\"],[0.4444444444444444,\"#bd3786\"],[0.5555555555555556,\"#d8576b\"],[0.6666666666666666,\"#ed7953\"],[0.7777777777777778,\"#fb9f3a\"],[0.8888888888888888,\"#fdca26\"],[1.0,\"#f0f921\"]]}],\"contourcarpet\":[{\"type\":\"contourcarpet\",\"colorbar\":{\"outlinewidth\":0,\"ticks\":\"\"}}],\"contour\":[{\"type\":\"contour\",\"colorbar\":{\"outlinewidth\":0,\"ticks\":\"\"},\"colorscale\":[[0.0,\"#0d0887\"],[0.1111111111111111,\"#46039f\"],[0.2222222222222222,\"#7201a8\"],[0.3333333333333333,\"#9c179e\"],[0.4444444444444444,\"#bd3786\"],[0.5555555555555556,\"#d8576b\"],[0.6666666666666666,\"#ed7953\"],[0.7777777777777778,\"#fb9f3a\"],[0.8888888888888888,\"#fdca26\"],[1.0,\"#f0f921\"]]}],\"surface\":[{\"type\":\"surface\",\"colorbar\":{\"outlinewidth\":0,\"ticks\":\"\"},\"colorscale\":[[0.0,\"#0d0887\"],[0.1111111111111111,\"#46039f\"],[0.2222222222222222,\"#7201a8\"],[0.3333333333333333,\"#9c179e\"],[0.4444444444444444,\"#bd3786\"],[0.5555555555555556,\"#d8576b\"],[0.6666666666666666,\"#ed7953\"],[0.7777777777777778,\"#fb9f3a\"],[0.8888888888888888,\"#fdca26\"],[1.0,\"#f0f921\"]]}],\"mesh3d\":[{\"type\":\"mesh3d\",\"colorbar\":{\"outlinewidth\":0,\"ticks\":\"\"}}],\"scatter\":[{\"fillpattern\":{\"fillmode\":\"overlay\",\"size\":10,\"solidity\":0.2},\"type\":\"scatter\"}],\"parcoords\":[{\"type\":\"parcoords\",\"line\":{\"colorbar\":{\"outlinewidth\":0,\"ticks\":\"\"}}}],\"scatterpolargl\":[{\"type\":\"scatterpolargl\",\"marker\":{\"colorbar\":{\"outlinewidth\":0,\"ticks\":\"\"}}}],\"bar\":[{\"error_x\":{\"color\":\"#2a3f5f\"},\"error_y\":{\"color\":\"#2a3f5f\"},\"marker\":{\"line\":{\"color\":\"#E5ECF6\",\"width\":0.5},\"pattern\":{\"fillmode\":\"overlay\",\"size\":10,\"solidity\":0.2}},\"type\":\"bar\"}],\"scattergeo\":[{\"type\":\"scattergeo\",\"marker\":{\"colorbar\":{\"outlinewidth\":0,\"ticks\":\"\"}}}],\"scatterpolar\":[{\"type\":\"scatterpolar\",\"marker\":{\"colorbar\":{\"outlinewidth\":0,\"ticks\":\"\"}}}],\"histogram\":[{\"marker\":{\"pattern\":{\"fillmode\":\"overlay\",\"size\":10,\"solidity\":0.2}},\"type\":\"histogram\"}],\"scattergl\":[{\"type\":\"scattergl\",\"marker\":{\"colorbar\":{\"outlinewidth\":0,\"ticks\":\"\"}}}],\"scatter3d\":[{\"type\":\"scatter3d\",\"line\":{\"colorbar\":{\"outlinewidth\":0,\"ticks\":\"\"}},\"marker\":{\"colorbar\":{\"outlinewidth\":0,\"ticks\":\"\"}}}],\"scattermapbox\":[{\"type\":\"scattermapbox\",\"marker\":{\"colorbar\":{\"outlinewidth\":0,\"ticks\":\"\"}}}],\"scatterternary\":[{\"type\":\"scatterternary\",\"marker\":{\"colorbar\":{\"outlinewidth\":0,\"ticks\":\"\"}}}],\"scattercarpet\":[{\"type\":\"scattercarpet\",\"marker\":{\"colorbar\":{\"outlinewidth\":0,\"ticks\":\"\"}}}],\"carpet\":[{\"aaxis\":{\"endlinecolor\":\"#2a3f5f\",\"gridcolor\":\"white\",\"linecolor\":\"white\",\"minorgridcolor\":\"white\",\"startlinecolor\":\"#2a3f5f\"},\"baxis\":{\"endlinecolor\":\"#2a3f5f\",\"gridcolor\":\"white\",\"linecolor\":\"white\",\"minorgridcolor\":\"white\",\"startlinecolor\":\"#2a3f5f\"},\"type\":\"carpet\"}],\"table\":[{\"cells\":{\"fill\":{\"color\":\"#EBF0F8\"},\"line\":{\"color\":\"white\"}},\"header\":{\"fill\":{\"color\":\"#C8D4E3\"},\"line\":{\"color\":\"white\"}},\"type\":\"table\"}],\"barpolar\":[{\"marker\":{\"line\":{\"color\":\"#E5ECF6\",\"width\":0.5},\"pattern\":{\"fillmode\":\"overlay\",\"size\":10,\"solidity\":0.2}},\"type\":\"barpolar\"}],\"pie\":[{\"automargin\":true,\"type\":\"pie\"}]},\"layout\":{\"autotypenumbers\":\"strict\",\"colorway\":[\"#636efa\",\"#EF553B\",\"#00cc96\",\"#ab63fa\",\"#FFA15A\",\"#19d3f3\",\"#FF6692\",\"#B6E880\",\"#FF97FF\",\"#FECB52\"],\"font\":{\"color\":\"#2a3f5f\"},\"hovermode\":\"closest\",\"hoverlabel\":{\"align\":\"left\"},\"paper_bgcolor\":\"white\",\"plot_bgcolor\":\"#E5ECF6\",\"polar\":{\"bgcolor\":\"#E5ECF6\",\"angularaxis\":{\"gridcolor\":\"white\",\"linecolor\":\"white\",\"ticks\":\"\"},\"radialaxis\":{\"gridcolor\":\"white\",\"linecolor\":\"white\",\"ticks\":\"\"}},\"ternary\":{\"bgcolor\":\"#E5ECF6\",\"aaxis\":{\"gridcolor\":\"white\",\"linecolor\":\"white\",\"ticks\":\"\"},\"baxis\":{\"gridcolor\":\"white\",\"linecolor\":\"white\",\"ticks\":\"\"},\"caxis\":{\"gridcolor\":\"white\",\"linecolor\":\"white\",\"ticks\":\"\"}},\"coloraxis\":{\"colorbar\":{\"outlinewidth\":0,\"ticks\":\"\"}},\"colorscale\":{\"sequential\":[[0.0,\"#0d0887\"],[0.1111111111111111,\"#46039f\"],[0.2222222222222222,\"#7201a8\"],[0.3333333333333333,\"#9c179e\"],[0.4444444444444444,\"#bd3786\"],[0.5555555555555556,\"#d8576b\"],[0.6666666666666666,\"#ed7953\"],[0.7777777777777778,\"#fb9f3a\"],[0.8888888888888888,\"#fdca26\"],[1.0,\"#f0f921\"]],\"sequentialminus\":[[0.0,\"#0d0887\"],[0.1111111111111111,\"#46039f\"],[0.2222222222222222,\"#7201a8\"],[0.3333333333333333,\"#9c179e\"],[0.4444444444444444,\"#bd3786\"],[0.5555555555555556,\"#d8576b\"],[0.6666666666666666,\"#ed7953\"],[0.7777777777777778,\"#fb9f3a\"],[0.8888888888888888,\"#fdca26\"],[1.0,\"#f0f921\"]],\"diverging\":[[0,\"#8e0152\"],[0.1,\"#c51b7d\"],[0.2,\"#de77ae\"],[0.3,\"#f1b6da\"],[0.4,\"#fde0ef\"],[0.5,\"#f7f7f7\"],[0.6,\"#e6f5d0\"],[0.7,\"#b8e186\"],[0.8,\"#7fbc41\"],[0.9,\"#4d9221\"],[1,\"#276419\"]]},\"xaxis\":{\"gridcolor\":\"white\",\"linecolor\":\"white\",\"ticks\":\"\",\"title\":{\"standoff\":15},\"zerolinecolor\":\"white\",\"automargin\":true,\"zerolinewidth\":2},\"yaxis\":{\"gridcolor\":\"white\",\"linecolor\":\"white\",\"ticks\":\"\",\"title\":{\"standoff\":15},\"zerolinecolor\":\"white\",\"automargin\":true,\"zerolinewidth\":2},\"scene\":{\"xaxis\":{\"backgroundcolor\":\"#E5ECF6\",\"gridcolor\":\"white\",\"linecolor\":\"white\",\"showbackground\":true,\"ticks\":\"\",\"zerolinecolor\":\"white\",\"gridwidth\":2},\"yaxis\":{\"backgroundcolor\":\"#E5ECF6\",\"gridcolor\":\"white\",\"linecolor\":\"white\",\"showbackground\":true,\"ticks\":\"\",\"zerolinecolor\":\"white\",\"gridwidth\":2},\"zaxis\":{\"backgroundcolor\":\"#E5ECF6\",\"gridcolor\":\"white\",\"linecolor\":\"white\",\"showbackground\":true,\"ticks\":\"\",\"zerolinecolor\":\"white\",\"gridwidth\":2}},\"shapedefaults\":{\"line\":{\"color\":\"#2a3f5f\"}},\"annotationdefaults\":{\"arrowcolor\":\"#2a3f5f\",\"arrowhead\":0,\"arrowwidth\":1},\"geo\":{\"bgcolor\":\"white\",\"landcolor\":\"#E5ECF6\",\"subunitcolor\":\"white\",\"showland\":true,\"showlakes\":true,\"lakecolor\":\"white\"},\"title\":{\"x\":0.05},\"mapbox\":{\"style\":\"light\"}}},\"xaxis\":{\"anchor\":\"y\",\"domain\":[0.0,1.0],\"title\":{\"text\":\"Census Tract\"}},\"yaxis\":{\"anchor\":\"x\",\"domain\":[0.0,1.0],\"title\":{\"text\":\"Count\"}},\"legend\":{\"title\":{\"text\":\"Income bracket\"},\"tracegroupgap\":0},\"title\":{\"text\":\"Income bracket counts in 10 Census Tracts with most households with annual incomes less than $10,000\"},\"barmode\":\"relative\"},                        {\"responsive\": true}                    ).then(function(){\n",
       "                            \n",
       "var gd = document.getElementById('f7c42dc1-e330-4642-a204-e8ea2a17c5ce');\n",
       "var x = new MutationObserver(function (mutations, observer) {{\n",
       "        var display = window.getComputedStyle(gd).display;\n",
       "        if (!display || display === 'none') {{\n",
       "            console.log([gd, 'removed!']);\n",
       "            Plotly.purge(gd);\n",
       "            observer.disconnect();\n",
       "        }}\n",
       "}});\n",
       "\n",
       "// Listen for the removal of the full notebook cells\n",
       "var notebookContainer = gd.closest('#notebook-container');\n",
       "if (notebookContainer) {{\n",
       "    x.observe(notebookContainer, {childList: true});\n",
       "}}\n",
       "\n",
       "// Listen for the clearing of the current output cell\n",
       "var outputEl = gd.closest('.output');\n",
       "if (outputEl) {{\n",
       "    x.observe(outputEl, {childList: true});\n",
       "}}\n",
       "\n",
       "                        })                };                });            </script>        </div>"
      ]
     },
     "metadata": {},
     "output_type": "display_data"
    }
   ],
   "source": [
    "fig = px.bar(income_long, x=\"Census Tract\", y=\"value\", color=\"variable\", \n",
    "            labels={\n",
    "                     \"value\": \"Count\",\n",
    "                     \"variable\": \"Income bracket\",\n",
    "                 },\n",
    "                title=\"Income bracket counts in 10 Census Tracts with most households with annual incomes less than $10,000\")\n",
    "\n",
    "fig.show()"
   ]
  },
  {
   "cell_type": "code",
   "execution_count": 24,
   "id": "e5884d53-5d43-4321-be2c-67689cb68342",
   "metadata": {},
   "outputs": [
    {
     "ename": "ValueError",
     "evalue": "\nImage export using the \"kaleido\" engine requires the kaleido package,\nwhich can be installed using pip:\n    $ pip install -U kaleido\n",
     "output_type": "error",
     "traceback": [
      "\u001b[0;31m---------------------------------------------------------------------------\u001b[0m",
      "\u001b[0;31mValueError\u001b[0m                                Traceback (most recent call last)",
      "Cell \u001b[0;32mIn[24], line 1\u001b[0m\n\u001b[0;32m----> 1\u001b[0m \u001b[43mfig\u001b[49m\u001b[38;5;241;43m.\u001b[39;49m\u001b[43mwrite_image\u001b[49m\u001b[43m(\u001b[49m\u001b[38;5;124;43m\"\u001b[39;49m\u001b[38;5;124;43mimages/fig1.png\u001b[39;49m\u001b[38;5;124;43m\"\u001b[39;49m\u001b[43m)\u001b[49m\n",
      "File \u001b[0;32m/opt/conda/lib/python3.10/site-packages/plotly/basedatatypes.py:3821\u001b[0m, in \u001b[0;36mBaseFigure.write_image\u001b[0;34m(self, *args, **kwargs)\u001b[0m\n\u001b[1;32m   3761\u001b[0m \u001b[38;5;250m\u001b[39m\u001b[38;5;124;03m\"\"\"\u001b[39;00m\n\u001b[1;32m   3762\u001b[0m \u001b[38;5;124;03mConvert a figure to a static image and write it to a file or writeable\u001b[39;00m\n\u001b[1;32m   3763\u001b[0m \u001b[38;5;124;03mobject\u001b[39;00m\n\u001b[0;32m   (...)\u001b[0m\n\u001b[1;32m   3817\u001b[0m \u001b[38;5;124;03mNone\u001b[39;00m\n\u001b[1;32m   3818\u001b[0m \u001b[38;5;124;03m\"\"\"\u001b[39;00m\n\u001b[1;32m   3819\u001b[0m \u001b[38;5;28;01mimport\u001b[39;00m \u001b[38;5;21;01mplotly\u001b[39;00m\u001b[38;5;21;01m.\u001b[39;00m\u001b[38;5;21;01mio\u001b[39;00m \u001b[38;5;28;01mas\u001b[39;00m \u001b[38;5;21;01mpio\u001b[39;00m\n\u001b[0;32m-> 3821\u001b[0m \u001b[38;5;28;01mreturn\u001b[39;00m \u001b[43mpio\u001b[49m\u001b[38;5;241;43m.\u001b[39;49m\u001b[43mwrite_image\u001b[49m\u001b[43m(\u001b[49m\u001b[38;5;28;43mself\u001b[39;49m\u001b[43m,\u001b[49m\u001b[43m \u001b[49m\u001b[38;5;241;43m*\u001b[39;49m\u001b[43margs\u001b[49m\u001b[43m,\u001b[49m\u001b[43m \u001b[49m\u001b[38;5;241;43m*\u001b[39;49m\u001b[38;5;241;43m*\u001b[39;49m\u001b[43mkwargs\u001b[49m\u001b[43m)\u001b[49m\n",
      "File \u001b[0;32m/opt/conda/lib/python3.10/site-packages/plotly/io/_kaleido.py:267\u001b[0m, in \u001b[0;36mwrite_image\u001b[0;34m(fig, file, format, scale, width, height, validate, engine)\u001b[0m\n\u001b[1;32m    251\u001b[0m             \u001b[38;5;28;01mraise\u001b[39;00m \u001b[38;5;167;01mValueError\u001b[39;00m(\n\u001b[1;32m    252\u001b[0m \u001b[38;5;250m                \u001b[39m\u001b[38;5;124;03m\"\"\"\u001b[39;00m\n\u001b[1;32m    253\u001b[0m \u001b[38;5;124;03mCannot infer image type from output path '{file}'.\u001b[39;00m\n\u001b[0;32m   (...)\u001b[0m\n\u001b[1;32m    261\u001b[0m                 )\n\u001b[1;32m    262\u001b[0m             )\n\u001b[1;32m    264\u001b[0m     \u001b[38;5;66;03m# Request image\u001b[39;00m\n\u001b[1;32m    265\u001b[0m     \u001b[38;5;66;03m# -------------\u001b[39;00m\n\u001b[1;32m    266\u001b[0m     \u001b[38;5;66;03m# Do this first so we don't create a file if image conversion fails\u001b[39;00m\n\u001b[0;32m--> 267\u001b[0m     img_data \u001b[38;5;241m=\u001b[39m \u001b[43mto_image\u001b[49m\u001b[43m(\u001b[49m\n\u001b[1;32m    268\u001b[0m \u001b[43m        \u001b[49m\u001b[43mfig\u001b[49m\u001b[43m,\u001b[49m\n\u001b[1;32m    269\u001b[0m \u001b[43m        \u001b[49m\u001b[38;5;28;43mformat\u001b[39;49m\u001b[38;5;241;43m=\u001b[39;49m\u001b[38;5;28;43mformat\u001b[39;49m\u001b[43m,\u001b[49m\n\u001b[1;32m    270\u001b[0m \u001b[43m        \u001b[49m\u001b[43mscale\u001b[49m\u001b[38;5;241;43m=\u001b[39;49m\u001b[43mscale\u001b[49m\u001b[43m,\u001b[49m\n\u001b[1;32m    271\u001b[0m \u001b[43m        \u001b[49m\u001b[43mwidth\u001b[49m\u001b[38;5;241;43m=\u001b[39;49m\u001b[43mwidth\u001b[49m\u001b[43m,\u001b[49m\n\u001b[1;32m    272\u001b[0m \u001b[43m        \u001b[49m\u001b[43mheight\u001b[49m\u001b[38;5;241;43m=\u001b[39;49m\u001b[43mheight\u001b[49m\u001b[43m,\u001b[49m\n\u001b[1;32m    273\u001b[0m \u001b[43m        \u001b[49m\u001b[43mvalidate\u001b[49m\u001b[38;5;241;43m=\u001b[39;49m\u001b[43mvalidate\u001b[49m\u001b[43m,\u001b[49m\n\u001b[1;32m    274\u001b[0m \u001b[43m        \u001b[49m\u001b[43mengine\u001b[49m\u001b[38;5;241;43m=\u001b[39;49m\u001b[43mengine\u001b[49m\u001b[43m,\u001b[49m\n\u001b[1;32m    275\u001b[0m \u001b[43m    \u001b[49m\u001b[43m)\u001b[49m\n\u001b[1;32m    277\u001b[0m     \u001b[38;5;66;03m# Open file\u001b[39;00m\n\u001b[1;32m    278\u001b[0m     \u001b[38;5;66;03m# ---------\u001b[39;00m\n\u001b[1;32m    279\u001b[0m     \u001b[38;5;28;01mif\u001b[39;00m path \u001b[38;5;129;01mis\u001b[39;00m \u001b[38;5;28;01mNone\u001b[39;00m:\n\u001b[1;32m    280\u001b[0m         \u001b[38;5;66;03m# We previously failed to make sense of `file` as a pathlib object.\u001b[39;00m\n\u001b[1;32m    281\u001b[0m         \u001b[38;5;66;03m# Attempt to write to `file` as an open file descriptor.\u001b[39;00m\n",
      "File \u001b[0;32m/opt/conda/lib/python3.10/site-packages/plotly/io/_kaleido.py:133\u001b[0m, in \u001b[0;36mto_image\u001b[0;34m(fig, format, width, height, scale, validate, engine)\u001b[0m\n\u001b[1;32m    131\u001b[0m     \u001b[38;5;66;03m# Raise informative error message if Kaleido is not installed\u001b[39;00m\n\u001b[1;32m    132\u001b[0m     \u001b[38;5;28;01mif\u001b[39;00m scope \u001b[38;5;129;01mis\u001b[39;00m \u001b[38;5;28;01mNone\u001b[39;00m:\n\u001b[0;32m--> 133\u001b[0m         \u001b[38;5;28;01mraise\u001b[39;00m \u001b[38;5;167;01mValueError\u001b[39;00m(\n\u001b[1;32m    134\u001b[0m \u001b[38;5;250m            \u001b[39m\u001b[38;5;124;03m\"\"\"\u001b[39;00m\n\u001b[1;32m    135\u001b[0m \u001b[38;5;124;03mImage export using the \"kaleido\" engine requires the kaleido package,\u001b[39;00m\n\u001b[1;32m    136\u001b[0m \u001b[38;5;124;03mwhich can be installed using pip:\u001b[39;00m\n\u001b[1;32m    137\u001b[0m \u001b[38;5;124;03m    $ pip install -U kaleido\u001b[39;00m\n\u001b[1;32m    138\u001b[0m \u001b[38;5;124;03m\"\"\"\u001b[39;00m\n\u001b[1;32m    139\u001b[0m         )\n\u001b[1;32m    141\u001b[0m     \u001b[38;5;66;03m# Validate figure\u001b[39;00m\n\u001b[1;32m    142\u001b[0m     \u001b[38;5;66;03m# ---------------\u001b[39;00m\n\u001b[1;32m    143\u001b[0m     fig_dict \u001b[38;5;241m=\u001b[39m validate_coerce_fig_to_dict(fig, validate)\n",
      "\u001b[0;31mValueError\u001b[0m: \nImage export using the \"kaleido\" engine requires the kaleido package,\nwhich can be installed using pip:\n    $ pip install -U kaleido\n"
     ]
    }
   ],
   "source": [
    "fig.write_image(\"images/fig1.png\")"
   ]
  },
  {
   "cell_type": "code",
   "execution_count": null,
   "id": "f7a52161-c989-4b7d-bce4-f6172bf713f7",
   "metadata": {},
   "outputs": [],
   "source": []
  }
 ],
 "metadata": {
  "kernelspec": {
   "display_name": "Python 3 (ipykernel)",
   "language": "python",
   "name": "python3"
  },
  "language_info": {
   "codemirror_mode": {
    "name": "ipython",
    "version": 3
   },
   "file_extension": ".py",
   "mimetype": "text/x-python",
   "name": "python",
   "nbconvert_exporter": "python",
   "pygments_lexer": "ipython3",
   "version": "3.10.8"
  }
 },
 "nbformat": 4,
 "nbformat_minor": 5
}
